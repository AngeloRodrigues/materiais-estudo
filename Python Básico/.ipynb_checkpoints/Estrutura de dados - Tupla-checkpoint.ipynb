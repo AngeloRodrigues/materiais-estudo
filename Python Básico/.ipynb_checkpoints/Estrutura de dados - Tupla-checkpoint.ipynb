{
 "cells": [
  {
   "cell_type": "markdown",
   "metadata": {
    "colab_type": "text",
    "id": "cOgOlahe7Gnm"
   },
   "source": [
    "# Estruturas de dados -  Python"
   ]
  },
  {
   "cell_type": "markdown",
   "metadata": {
    "colab_type": "text",
    "id": "OxB6X1gl7Gnr"
   },
   "source": [
    "# Tuplas"
   ]
  },
  {
   "cell_type": "markdown",
   "metadata": {
    "colab_type": "text",
    "id": "3RfCQnH47MDo"
   },
   "source": [
    "São similares as listas, porém são imutáveis (usam parêntese como sintaxe)"
   ]
  },
  {
   "cell_type": "markdown",
   "metadata": {
    "colab_type": "text",
    "id": "7xn7z2db7Slc"
   },
   "source": [
    "### Declaração de tuplas"
   ]
  },
  {
   "cell_type": "code",
   "execution_count": 2,
   "metadata": {
    "colab": {
     "base_uri": "https://localhost:8080/",
     "height": 34
    },
    "colab_type": "code",
    "executionInfo": {
     "elapsed": 1066,
     "status": "ok",
     "timestamp": 1574540556298,
     "user": {
      "displayName": "Gabi Viana",
      "photoUrl": "https://lh3.googleusercontent.com/a-/AAuE7mCN9Wk9exJ_22F0JqdZg4i1xWtS2hPF-RE9jdnw1Ns=s64",
      "userId": "10583305263505777863"
     },
     "user_tz": 180
    },
    "id": "L0DvzGhG7Gnt",
    "outputId": "de36650a-b7d8-4d27-e520-e8128ee79b91"
   },
   "outputs": [
    {
     "data": {
      "text/plain": [
       "('índio', 'onça', 2, 3.5, 'lua')"
      ]
     },
     "execution_count": 2,
     "metadata": {
      "tags": []
     },
     "output_type": "execute_result"
    }
   ],
   "source": [
    "tupla = () \n",
    "tupla2 = ('índio', 'onça',2,3.5,'lua')\n",
    "numeros = (2,43,534,23,5435,213,4,2,1,424,645,0,32) \n",
    "tupla2"
   ]
  },
  {
   "cell_type": "markdown",
   "metadata": {
    "colab_type": "text",
    "id": "K7NDwyh87dkY"
   },
   "source": [
    "### Impressão de elementos de uma tupla"
   ]
  },
  {
   "cell_type": "code",
   "execution_count": 3,
   "metadata": {
    "colab": {
     "base_uri": "https://localhost:8080/",
     "height": 34
    },
    "colab_type": "code",
    "executionInfo": {
     "elapsed": 556,
     "status": "ok",
     "timestamp": 1574540565118,
     "user": {
      "displayName": "Gabi Viana",
      "photoUrl": "https://lh3.googleusercontent.com/a-/AAuE7mCN9Wk9exJ_22F0JqdZg4i1xWtS2hPF-RE9jdnw1Ns=s64",
      "userId": "10583305263505777863"
     },
     "user_tz": 180
    },
    "id": "QcVX33yv7Gn1",
    "outputId": "340b5293-fd85-4ca3-a9ca-7b25e08c0b48"
   },
   "outputs": [
    {
     "name": "stdout",
     "output_type": "stream",
     "text": [
      "índio 3.5\n"
     ]
    }
   ],
   "source": [
    "print(tupla2[0], tupla2[3])"
   ]
  },
  {
   "cell_type": "markdown",
   "metadata": {
    "colab_type": "text",
    "id": "VAIW_hJU710D"
   },
   "source": [
    "### Tentativa de atualizar a tupla (ERRO ao tentar alterar o elemento na posição 2)"
   ]
  },
  {
   "cell_type": "code",
   "execution_count": 4,
   "metadata": {
    "colab": {
     "base_uri": "https://localhost:8080/",
     "height": 163
    },
    "colab_type": "code",
    "executionInfo": {
     "elapsed": 596,
     "status": "error",
     "timestamp": 1574540640219,
     "user": {
      "displayName": "Gabi Viana",
      "photoUrl": "https://lh3.googleusercontent.com/a-/AAuE7mCN9Wk9exJ_22F0JqdZg4i1xWtS2hPF-RE9jdnw1Ns=s64",
      "userId": "10583305263505777863"
     },
     "user_tz": 180
    },
    "id": "GInuQKSU7Gn5",
    "outputId": "171e2a4e-c8c1-466e-d645-47068afaf441"
   },
   "outputs": [
    {
     "ename": "TypeError",
     "evalue": "ignored",
     "output_type": "error",
     "traceback": [
      "\u001b[0;31m---------------------------------------------------------------------------\u001b[0m",
      "\u001b[0;31mTypeError\u001b[0m                                 Traceback (most recent call last)",
      "\u001b[0;32m<ipython-input-4-fff850a8f88a>\u001b[0m in \u001b[0;36m<module>\u001b[0;34m()\u001b[0m\n\u001b[0;32m----> 1\u001b[0;31m \u001b[0mtupla\u001b[0m\u001b[0;34m[\u001b[0m\u001b[0;36m2\u001b[0m\u001b[0;34m]\u001b[0m \u001b[0;34m=\u001b[0m \u001b[0;34m'rio'\u001b[0m\u001b[0;34m\u001b[0m\u001b[0;34m\u001b[0m\u001b[0m\n\u001b[0m",
      "\u001b[0;31mTypeError\u001b[0m: 'tuple' object does not support item assignment"
     ]
    }
   ],
   "source": [
    "tupla[2] = 'rio'"
   ]
  },
  {
   "cell_type": "markdown",
   "metadata": {
    "colab_type": "text",
    "id": "aaU10uTq76cN"
   },
   "source": [
    "### Criação de tuplas aninhadas (uma tupla que contém outra tupla)"
   ]
  },
  {
   "cell_type": "code",
   "execution_count": 5,
   "metadata": {
    "colab": {
     "base_uri": "https://localhost:8080/",
     "height": 34
    },
    "colab_type": "code",
    "executionInfo": {
     "elapsed": 541,
     "status": "ok",
     "timestamp": 1574540659547,
     "user": {
      "displayName": "Gabi Viana",
      "photoUrl": "https://lh3.googleusercontent.com/a-/AAuE7mCN9Wk9exJ_22F0JqdZg4i1xWtS2hPF-RE9jdnw1Ns=s64",
      "userId": "10583305263505777863"
     },
     "user_tz": 180
    },
    "id": "J_YKRj_f7Gn9",
    "outputId": "46eca0d0-0ea2-4d61-fdad-6298e9317d6a"
   },
   "outputs": [
    {
     "name": "stdout",
     "output_type": "stream",
     "text": [
      "(1, 2, 3, ('índio', 'onça', 2, 3.5, 'lua')) (2, 4, 5, (3, 4, 2))\n"
     ]
    }
   ],
   "source": [
    "tupla3 = (1,2,3,tupla2)\n",
    "tupla1 = (2,4,5,(3,4,2))\n",
    "print(tupla3, tupla1)"
   ]
  },
  {
   "cell_type": "markdown",
   "metadata": {
    "colab_type": "text",
    "id": "T-AuI-Ft7-ne"
   },
   "source": [
    "### Acessar valores da tupla aninhada"
   ]
  },
  {
   "cell_type": "code",
   "execution_count": 6,
   "metadata": {
    "colab": {
     "base_uri": "https://localhost:8080/",
     "height": 51
    },
    "colab_type": "code",
    "executionInfo": {
     "elapsed": 654,
     "status": "ok",
     "timestamp": 1574540686169,
     "user": {
      "displayName": "Gabi Viana",
      "photoUrl": "https://lh3.googleusercontent.com/a-/AAuE7mCN9Wk9exJ_22F0JqdZg4i1xWtS2hPF-RE9jdnw1Ns=s64",
      "userId": "10583305263505777863"
     },
     "user_tz": 180
    },
    "id": "78g2CKJX7GoA",
    "outputId": "2c0664bf-ad63-4acc-b4a7-31c99559ceca"
   },
   "outputs": [
    {
     "name": "stdout",
     "output_type": "stream",
     "text": [
      "índio\n",
      "4\n"
     ]
    }
   ],
   "source": [
    "print(tupla3[3][0]) #Posição 3 da tupla principal + posição 0 da tupla aninhada\n",
    "print(tupla1[3][1]) #Posição 3 da tupla principal + posição 1 da tupla aninhada"
   ]
  },
  {
   "cell_type": "markdown",
   "metadata": {
    "colab_type": "text",
    "id": "Qj16RQYR8FFI"
   },
   "source": [
    "### Operações básicas com tuplas"
   ]
  },
  {
   "cell_type": "code",
   "execution_count": 7,
   "metadata": {
    "colab": {
     "base_uri": "https://localhost:8080/",
     "height": 68
    },
    "colab_type": "code",
    "executionInfo": {
     "elapsed": 513,
     "status": "ok",
     "timestamp": 1574540704508,
     "user": {
      "displayName": "Gabi Viana",
      "photoUrl": "https://lh3.googleusercontent.com/a-/AAuE7mCN9Wk9exJ_22F0JqdZg4i1xWtS2hPF-RE9jdnw1Ns=s64",
      "userId": "10583305263505777863"
     },
     "user_tz": 180
    },
    "id": "bx25HP_-7GoD",
    "outputId": "8890295f-f982-4827-9e52-9c838ca6f556"
   },
   "outputs": [
    {
     "name": "stdout",
     "output_type": "stream",
     "text": [
      "Tupla duplicada: ('índio', 'onça', 2, 3.5, 'lua', 'índio', 'onça', 2, 3.5, 'lua')\n",
      "Tupla concatenada: (1, 2, 3, 4, 5, 6)\n",
      "True\n"
     ]
    }
   ],
   "source": [
    "tupla4 = tupla2 * 2 #Tupla 4 recebe a tupla 2 duplicada\n",
    "print('Tupla duplicada: {}'.format(tupla4))\n",
    "# Concatenar tuplas\n",
    "concat = (1,2,3) + (4,5,6) \n",
    "print('Tupla concatenada: {}'.format(concat))\n",
    "# Verificar se um elemento pertence a tupla\n",
    "print('índio' in tupla4) # Retorna somente True ou False"
   ]
  },
  {
   "cell_type": "markdown",
   "metadata": {
    "colab_type": "text",
    "id": "wZrNtuYe8KCM"
   },
   "source": [
    "### SLICING - mesma função da lista"
   ]
  },
  {
   "cell_type": "code",
   "execution_count": 8,
   "metadata": {
    "colab": {
     "base_uri": "https://localhost:8080/",
     "height": 51
    },
    "colab_type": "code",
    "executionInfo": {
     "elapsed": 646,
     "status": "ok",
     "timestamp": 1574540725145,
     "user": {
      "displayName": "Gabi Viana",
      "photoUrl": "https://lh3.googleusercontent.com/a-/AAuE7mCN9Wk9exJ_22F0JqdZg4i1xWtS2hPF-RE9jdnw1Ns=s64",
      "userId": "10583305263505777863"
     },
     "user_tz": 180
    },
    "id": "VX6pOvcH7GoG",
    "outputId": "9ae07e77-b8ba-4658-a0c9-73f9725bc12c"
   },
   "outputs": [
    {
     "name": "stdout",
     "output_type": "stream",
     "text": [
      "(2, 3.5, 'lua', 'índio', 'onça', 2, 3.5, 'lua')\n",
      "('onça', 2, 3.5, 'lua')\n"
     ]
    }
   ],
   "source": [
    "print(tupla4[2:]) # Imprime a tupla 4 do elem. 2 em diante\n",
    "print(tupla2[1:5]) # Imprime a tupla 4 do elem. 1 ao elemento 5"
   ]
  },
  {
   "cell_type": "markdown",
   "metadata": {
    "colab_type": "text",
    "id": "FrZb_-Sn8OQ8"
   },
   "source": [
    "### Métodos disponíveis "
   ]
  },
  {
   "cell_type": "code",
   "execution_count": 9,
   "metadata": {
    "colab": {
     "base_uri": "https://localhost:8080/",
     "height": 102
    },
    "colab_type": "code",
    "executionInfo": {
     "elapsed": 648,
     "status": "ok",
     "timestamp": 1574540743108,
     "user": {
      "displayName": "Gabi Viana",
      "photoUrl": "https://lh3.googleusercontent.com/a-/AAuE7mCN9Wk9exJ_22F0JqdZg4i1xWtS2hPF-RE9jdnw1Ns=s64",
      "userId": "10583305263505777863"
     },
     "user_tz": 180
    },
    "id": "iJxxpYsM7GoK",
    "outputId": "77c979c5-328b-42e1-a80e-15e48a2f8941"
   },
   "outputs": [
    {
     "name": "stdout",
     "output_type": "stream",
     "text": [
      "A palavra onça foi encontrada 2 vezes\n",
      "3\n",
      "A lista possui 10 elementos\n",
      "Maior valor da lista: 5435\n",
      "Menor valor da lista: 0\n"
     ]
    }
   ],
   "source": [
    "print('A palavra {} foi encontrada {} vezes'.format('onça', tupla4.count('onça'))) # Conta quantas vezes a string está presente\n",
    "print(tupla4.index(3.5)) # Retorna a posição (índice) do elemento encontrado\n",
    "print(\"A lista possui {} elementos\".format(len(tupla4))) #Retorna o tamanho da lista\n",
    "print(\"Maior valor da lista: {}\".format(max(numeros)))\n",
    "print(\"Menor valor da lista: {}\".format(min(numeros))) "
   ]
  },
  {
   "cell_type": "markdown",
   "metadata": {
    "colab_type": "text",
    "id": "R0rEBRF38UB1"
   },
   "source": [
    "### Converter lista em tupla"
   ]
  },
  {
   "cell_type": "code",
   "execution_count": 10,
   "metadata": {
    "colab": {
     "base_uri": "https://localhost:8080/",
     "height": 34
    },
    "colab_type": "code",
    "executionInfo": {
     "elapsed": 549,
     "status": "ok",
     "timestamp": 1574540764724,
     "user": {
      "displayName": "Gabi Viana",
      "photoUrl": "https://lh3.googleusercontent.com/a-/AAuE7mCN9Wk9exJ_22F0JqdZg4i1xWtS2hPF-RE9jdnw1Ns=s64",
      "userId": "10583305263505777863"
     },
     "user_tz": 180
    },
    "id": "b-S0KyNf7GoN",
    "outputId": "d13a0473-6274-492b-b39b-2da425af4468"
   },
   "outputs": [
    {
     "name": "stdout",
     "output_type": "stream",
     "text": [
      "[2, 3, 4, 5, 'teste'] (2, 3, 4, 5, 'teste')\n"
     ]
    }
   ],
   "source": [
    "lista = [2,3,4,5,'teste']\n",
    "tupla_nova = tuple(lista) # Conversão de uma cópia da lista em uma tupla\n",
    "print(lista, tupla_nova)"
   ]
  }
 ],
 "metadata": {
  "colab": {
   "collapsed_sections": [],
   "name": "Estrutura de dados - Tupla.ipynb",
   "provenance": []
  },
  "kernelspec": {
   "display_name": "Python 3",
   "language": "python",
   "name": "python3"
  },
  "language_info": {
   "codemirror_mode": {
    "name": "ipython",
    "version": 3
   },
   "file_extension": ".py",
   "mimetype": "text/x-python",
   "name": "python",
   "nbconvert_exporter": "python",
   "pygments_lexer": "ipython3",
   "version": "3.7.3"
  }
 },
 "nbformat": 4,
 "nbformat_minor": 1
}
