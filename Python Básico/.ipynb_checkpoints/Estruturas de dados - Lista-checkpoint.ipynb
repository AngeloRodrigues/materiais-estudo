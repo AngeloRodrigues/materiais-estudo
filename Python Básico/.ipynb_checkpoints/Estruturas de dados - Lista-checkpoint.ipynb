{
 "cells": [
  {
   "cell_type": "markdown",
   "metadata": {
    "colab_type": "text",
    "id": "zbMTN-Jd1ZSY"
   },
   "source": [
    "# Estruturas de dados -  Python"
   ]
  },
  {
   "cell_type": "markdown",
   "metadata": {
    "colab_type": "text",
    "id": "I9mjmI5C1ZSi"
   },
   "source": [
    "## Listas\n"
   ]
  },
  {
   "cell_type": "markdown",
   "metadata": {
    "colab_type": "text",
    "id": "WI08LfLb1ZSl"
   },
   "source": [
    "Uma lista pode ser definida como valores separados por vírgulas entre colchetes. São mutáveis e seus elementos podem ser alterados individualmente:"
   ]
  },
  {
   "cell_type": "code",
   "execution_count": 1,
   "metadata": {
    "colab": {},
    "colab_type": "code",
    "id": "58NPsRZ81ZSr"
   },
   "outputs": [],
   "source": [
    "lista_quadrados = [0,1,4,9,16,25] #Declarando uma lista de inteiros\n",
    "lista_mista = [1,3,5,'teste',3,5.6,True] #Listas aceitam qualquer tipo de valor (inteiro, string, float, booleano)\n",
    "lista_range = list(range(10)) #gerar uma lista de 0 a 9"
   ]
  },
  {
   "cell_type": "code",
   "execution_count": 2,
   "metadata": {
    "colab": {
     "base_uri": "https://localhost:8080/",
     "height": 68
    },
    "colab_type": "code",
    "executionInfo": {
     "elapsed": 2315,
     "status": "ok",
     "timestamp": 1574539923871,
     "user": {
      "displayName": "Gabi Viana",
      "photoUrl": "https://lh3.googleusercontent.com/a-/AAuE7mCN9Wk9exJ_22F0JqdZg4i1xWtS2hPF-RE9jdnw1Ns=s64",
      "userId": "10583305263505777863"
     },
     "user_tz": 180
    },
    "id": "lJ8nG6rI1ZS2",
    "outputId": "d28b645e-27c9-4bce-b2fb-c873cdd79d0b"
   },
   "outputs": [
    {
     "name": "stdout",
     "output_type": "stream",
     "text": [
      "[0, 1, 4, 9, 16, 25]\n",
      "[1, 3, 5, 'teste', 3, 5.6, True]\n",
      "[0, 1, 2, 3, 4, 5, 6, 7, 8, 9]\n"
     ]
    }
   ],
   "source": [
    "#Imprimir listas\n",
    "print(lista_quadrados)\n",
    "print(lista_mista)\n",
    "print(lista_range)"
   ]
  },
  {
   "cell_type": "code",
   "execution_count": 3,
   "metadata": {
    "colab": {
     "base_uri": "https://localhost:8080/",
     "height": 51
    },
    "colab_type": "code",
    "executionInfo": {
     "elapsed": 2298,
     "status": "ok",
     "timestamp": 1574539923878,
     "user": {
      "displayName": "Gabi Viana",
      "photoUrl": "https://lh3.googleusercontent.com/a-/AAuE7mCN9Wk9exJ_22F0JqdZg4i1xWtS2hPF-RE9jdnw1Ns=s64",
      "userId": "10583305263505777863"
     },
     "user_tz": 180
    },
    "id": "GbthrVY91ZTC",
    "outputId": "32da9755-1ab7-4bb6-e37a-723767aff9c2"
   },
   "outputs": [
    {
     "name": "stdout",
     "output_type": "stream",
     "text": [
      "10\n",
      "2\n"
     ]
    }
   ],
   "source": [
    "# Tamanho e quantidade de elementos encontrados na lista\n",
    "print(len(lista_range)) # Imprimir tamanho da lista\n",
    "print(lista_mista.count(3)) #Imprime a qtd dos elementos informados no parâmetro que foram encontrados"
   ]
  },
  {
   "cell_type": "code",
   "execution_count": 4,
   "metadata": {
    "colab": {
     "base_uri": "https://localhost:8080/",
     "height": 51
    },
    "colab_type": "code",
    "executionInfo": {
     "elapsed": 2284,
     "status": "ok",
     "timestamp": 1574539923883,
     "user": {
      "displayName": "Gabi Viana",
      "photoUrl": "https://lh3.googleusercontent.com/a-/AAuE7mCN9Wk9exJ_22F0JqdZg4i1xWtS2hPF-RE9jdnw1Ns=s64",
      "userId": "10583305263505777863"
     },
     "user_tz": 180
    },
    "id": "uyjNWzJ31ZTH",
    "outputId": "14640694-4b33-496b-9a51-bb00ceef02c3"
   },
   "outputs": [
    {
     "name": "stdout",
     "output_type": "stream",
     "text": [
      "0\n",
      "2\n"
     ]
    }
   ],
   "source": [
    "#Acessando item individualmente:\n",
    "print(lista_quadrados[0])\n",
    "# Alterar valor do item em uma posição x\n",
    "lista_quadrados[2] = 2 \n",
    "\n",
    "#Alterando o valor contido no índice 2\n",
    "print(lista_quadrados[2])"
   ]
  },
  {
   "cell_type": "markdown",
   "metadata": {
    "colab_type": "text",
    "id": "Y06b8h822HgO"
   },
   "source": [
    "### Identificadores e índices\n"
   ]
  },
  {
   "cell_type": "code",
   "execution_count": 5,
   "metadata": {
    "colab": {
     "base_uri": "https://localhost:8080/",
     "height": 51
    },
    "colab_type": "code",
    "executionInfo": {
     "elapsed": 2248,
     "status": "ok",
     "timestamp": 1574539923885,
     "user": {
      "displayName": "Gabi Viana",
      "photoUrl": "https://lh3.googleusercontent.com/a-/AAuE7mCN9Wk9exJ_22F0JqdZg4i1xWtS2hPF-RE9jdnw1Ns=s64",
      "userId": "10583305263505777863"
     },
     "user_tz": 180
    },
    "id": "8X8GPz7z1ZTN",
    "outputId": "d21ec944-4314-44ff-c503-36040efc27f2"
   },
   "outputs": [
    {
     "name": "stdout",
     "output_type": "stream",
     "text": [
      "140081711138248\n",
      "4\n"
     ]
    }
   ],
   "source": [
    "# Obter identificador da lista (ajuda a verificar se uma lista é uma cópia ou referência de outra por exemplo)\n",
    "# Imprime identificador da lista\n",
    "print(id(lista_quadrados)) \n",
    "\n",
    "# Imprime o índice relativo ao elemento 16 da lista\n",
    "print(lista_quadrados.index(16))"
   ]
  },
  {
   "cell_type": "code",
   "execution_count": 6,
   "metadata": {
    "colab": {
     "base_uri": "https://localhost:8080/",
     "height": 102
    },
    "colab_type": "code",
    "executionInfo": {
     "elapsed": 2234,
     "status": "ok",
     "timestamp": 1574539923886,
     "user": {
      "displayName": "Gabi Viana",
      "photoUrl": "https://lh3.googleusercontent.com/a-/AAuE7mCN9Wk9exJ_22F0JqdZg4i1xWtS2hPF-RE9jdnw1Ns=s64",
      "userId": "10583305263505777863"
     },
     "user_tz": 180
    },
    "id": "88ITWhXD1ZTR",
    "outputId": "1782a858-2c05-476c-d9a4-69a906cfbb54"
   },
   "outputs": [
    {
     "name": "stdout",
     "output_type": "stream",
     "text": [
      "Lista A: [1, 2, 3]\n",
      "Lista A: [5, 2, 3]\n",
      "Lista A: [1, 2, 3]\n",
      "Lista A: [1, 2, 3]\n",
      "Lista B: [1, 2, 9]\n"
     ]
    }
   ],
   "source": [
    "# Criando cópia/referência de lista \n",
    "\n",
    "#Criando lista com referência ( B referencia (altera) os dados de A)\n",
    "a = [1, 2, 3]\n",
    "print(\"Lista A: {}\".format(a))\n",
    "\n",
    "#B recebe a referência de A\n",
    "b = a \n",
    "b[0] = 5\n",
    "\n",
    "# Para imprimir uma lista no print sem o format precisa converter em String\n",
    "print(\"Lista A: \"+ str(a)) \n",
    "\n",
    "#Copiando lista (B é uma cópia de A - não altera A)\n",
    "a = [1, 2, 3]\n",
    "print(\"Lista A: {}\".format(a))\n",
    "\n",
    "#Seleciona todos os elementos de A e copia para B\n",
    "b = a[:] \n",
    "b[2] = 9\n",
    "print(\"Lista A: {}\".format(a))\n",
    "print(\"Lista B: {}\".format(b))"
   ]
  },
  {
   "cell_type": "markdown",
   "metadata": {
    "colab_type": "text",
    "id": "7sLXW_DO2UqJ"
   },
   "source": [
    "### Particionando uma lista"
   ]
  },
  {
   "cell_type": "code",
   "execution_count": 7,
   "metadata": {
    "colab": {
     "base_uri": "https://localhost:8080/",
     "height": 102
    },
    "colab_type": "code",
    "executionInfo": {
     "elapsed": 2220,
     "status": "ok",
     "timestamp": 1574539923888,
     "user": {
      "displayName": "Gabi Viana",
      "photoUrl": "https://lh3.googleusercontent.com/a-/AAuE7mCN9Wk9exJ_22F0JqdZg4i1xWtS2hPF-RE9jdnw1Ns=s64",
      "userId": "10583305263505777863"
     },
     "user_tz": 180
    },
    "id": "ySa0IP_W1ZTV",
    "outputId": "e774b981-ad49-4c08-f3a5-a92f2ba4f3d1"
   },
   "outputs": [
    {
     "name": "stdout",
     "output_type": "stream",
     "text": [
      "[2, 9]\n",
      "16\n",
      "[0, 1]\n",
      "[2, 9, 16, 25]\n",
      "[0, 1, 2, 9, 16, 25]\n"
     ]
    }
   ],
   "source": [
    "print(lista_quadrados[2:4]) # Cria uma nova lista do índice 2 ao índice 3 (o 4º não será incluído)\n",
    "print(lista_quadrados[-2]) # Acessa lista a partir do final (-1 : Último item, -2 : penúltimo item)\n",
    "print(lista_quadrados[:2]) # Retorna lista com os elementos 0 e 1 (de 0 até 2)\n",
    "print(lista_quadrados[2:]) # Seleciona todos os elementos a partir da posição 2(terceiro elemento)\n",
    "print(lista_quadrados[::]) # Retorna todos os itens"
   ]
  },
  {
   "cell_type": "markdown",
   "metadata": {
    "colab_type": "text",
    "id": "2ZK2pIvr2bfK"
   },
   "source": [
    "### Funções e comandos para manipulação de listas"
   ]
  },
  {
   "cell_type": "code",
   "execution_count": 8,
   "metadata": {
    "colab": {
     "base_uri": "https://localhost:8080/",
     "height": 51
    },
    "colab_type": "code",
    "executionInfo": {
     "elapsed": 2199,
     "status": "ok",
     "timestamp": 1574539923889,
     "user": {
      "displayName": "Gabi Viana",
      "photoUrl": "https://lh3.googleusercontent.com/a-/AAuE7mCN9Wk9exJ_22F0JqdZg4i1xWtS2hPF-RE9jdnw1Ns=s64",
      "userId": "10583305263505777863"
     },
     "user_tz": 180
    },
    "id": "KzkGhWBk1ZTY",
    "outputId": "94d9a018-2f36-462c-ab7d-a19578bf41f2",
    "scrolled": false
   },
   "outputs": [
    {
     "name": "stdout",
     "output_type": "stream",
     "text": [
      "[1, 3, 5, 3, 5.6, True, False, 22]\n"
     ]
    },
    {
     "data": {
      "text/plain": [
       "[1, 2, 3, 1, 2, 3, 1, 2, 3]"
      ]
     },
     "execution_count": 8,
     "metadata": {},
     "output_type": "execute_result"
    }
   ],
   "source": [
    "#Adicionar um novo elemento ao fim da lista\n",
    "lista_mista.append(False) \n",
    "\n",
    "#Amplia a lista concatenando a lista informada por parâmetro a lista mista\n",
    "lista_mista.extend(['teste', 22])\n",
    "\n",
    "#Remover elemento da pos. 3\n",
    "del lista_mista[3] \n",
    "\n",
    "#Remove o elemento de valor teste da lista\n",
    "lista_mista.remove('teste') \n",
    "print(lista_mista)\n",
    "\n",
    "# Repetir lista [1,2,3] 3x\n",
    "l = [1, 2, 3] * 3\n",
    "l"
   ]
  },
  {
   "cell_type": "markdown",
   "metadata": {
    "colab_type": "text",
    "id": "7BzN8rwd3KZr"
   },
   "source": [
    "### Lista como parâmetro"
   ]
  },
  {
   "cell_type": "code",
   "execution_count": 9,
   "metadata": {
    "colab": {
     "base_uri": "https://localhost:8080/",
     "height": 51
    },
    "colab_type": "code",
    "executionInfo": {
     "elapsed": 2188,
     "status": "ok",
     "timestamp": 1574539923894,
     "user": {
      "displayName": "Gabi Viana",
      "photoUrl": "https://lh3.googleusercontent.com/a-/AAuE7mCN9Wk9exJ_22F0JqdZg4i1xWtS2hPF-RE9jdnw1Ns=s64",
      "userId": "10583305263505777863"
     },
     "user_tz": 180
    },
    "id": "zlNr1arE1ZTc",
    "outputId": "765cc6c4-e139-4102-d7f2-c5071815f042"
   },
   "outputs": [
    {
     "name": "stdout",
     "output_type": "stream",
     "text": [
      "[1, 6, 3, 4, 5]\n",
      "24\n"
     ]
    }
   ],
   "source": [
    "# Lista como parâmetro (a lista na função é uma referência da lista passada -  altera o conteúdo da original)\n",
    "\n",
    "def utilizaReferencia(lista):\n",
    "    lista[1] = 6\n",
    "    return lista\n",
    "\n",
    "lista = [1,2,3,4,5]\n",
    "b = utilizaReferencia(lista)\n",
    "print(b)\n",
    "\n",
    "#Multiplicar elemento alterado da lista por 4 (Elemento na posição 1 (2) foi substituído pelo valor 6)\n",
    "print(lista[1]*4)"
   ]
  },
  {
   "cell_type": "markdown",
   "metadata": {
    "colab_type": "text",
    "id": "XW_nj5413T4_"
   },
   "source": [
    "### Listas alinhadas"
   ]
  },
  {
   "cell_type": "code",
   "execution_count": 10,
   "metadata": {
    "colab": {
     "base_uri": "https://localhost:8080/",
     "height": 102
    },
    "colab_type": "code",
    "executionInfo": {
     "elapsed": 2178,
     "status": "ok",
     "timestamp": 1574539923901,
     "user": {
      "displayName": "Gabi Viana",
      "photoUrl": "https://lh3.googleusercontent.com/a-/AAuE7mCN9Wk9exJ_22F0JqdZg4i1xWtS2hPF-RE9jdnw1Ns=s64",
      "userId": "10583305263505777863"
     },
     "user_tz": 180
    },
    "id": "prwVQb_H1ZTf",
    "outputId": "5bc7342a-b168-4118-81bc-61ed43ba2738"
   },
   "outputs": [
    {
     "name": "stdout",
     "output_type": "stream",
     "text": [
      "Imprime a lista 0 (Carros):  ['audi', 'gol', 'corolla']\n",
      "Imprime a lista 1 (Animais):  ['gato', 'rato', 'cachorro']\n",
      "Imprime a lista 2 (Números):  [1, 2, 3, 500]\n",
      "Primeiro carro:  audi\n",
      "Último carro:  corolla\n"
     ]
    }
   ],
   "source": [
    "#Lista principal composta de 3 listas que contem 3 elementos cada\n",
    "listas = [['audi', 'gol', 'corolla'], ['gato', 'rato', 'cachorro'], [1,2,3,500]]\n",
    "\n",
    "#Acessar lista 0:\n",
    "print('Imprime a lista 0 (Carros): ',listas[0])\n",
    "#Acessar lista 1:\n",
    "print('Imprime a lista 1 (Animais): ',listas[1])\n",
    "#Acessar lista 2:\n",
    "print('Imprime a lista 2 (Números): ',listas[2])\n",
    "\n",
    "#Imprimir primeiro elemento da lista 0:\n",
    "print('Primeiro carro: ',listas[0][0])\n",
    "#Imprimir último elemento da lista 0:\n",
    "print('Último carro: ',listas[0][2])"
   ]
  },
  {
   "cell_type": "markdown",
   "metadata": {
    "colab_type": "text",
    "id": "K3Jk9W1B3cLB"
   },
   "source": [
    "### Outra forma de acesso a sublistas"
   ]
  },
  {
   "cell_type": "code",
   "execution_count": 11,
   "metadata": {
    "colab": {
     "base_uri": "https://localhost:8080/",
     "height": 34
    },
    "colab_type": "code",
    "executionInfo": {
     "elapsed": 2169,
     "status": "ok",
     "timestamp": 1574539923904,
     "user": {
      "displayName": "Gabi Viana",
      "photoUrl": "https://lh3.googleusercontent.com/a-/AAuE7mCN9Wk9exJ_22F0JqdZg4i1xWtS2hPF-RE9jdnw1Ns=s64",
      "userId": "10583305263505777863"
     },
     "user_tz": 180
    },
    "id": "Feda89Ne1ZTi",
    "outputId": "078abf75-631e-4794-c58a-57a39c1b24c3"
   },
   "outputs": [
    {
     "name": "stdout",
     "output_type": "stream",
     "text": [
      "10\n"
     ]
    }
   ],
   "source": [
    "lista = [\"alo\", 2.0, 5, [10, 20]]\n",
    "elem = lista[3] #Obter lista de valores contida na lista principal\n",
    "print(elem[0]) #Imprimir elemento na posição 0 da sublista de elementos "
   ]
  },
  {
   "cell_type": "markdown",
   "metadata": {
    "colab_type": "text",
    "id": "kBzFQyKU3izs"
   },
   "source": [
    "### Ordenação de listas"
   ]
  },
  {
   "cell_type": "code",
   "execution_count": 12,
   "metadata": {
    "colab": {
     "base_uri": "https://localhost:8080/",
     "height": 68
    },
    "colab_type": "code",
    "executionInfo": {
     "elapsed": 2161,
     "status": "ok",
     "timestamp": 1574539923907,
     "user": {
      "displayName": "Gabi Viana",
      "photoUrl": "https://lh3.googleusercontent.com/a-/AAuE7mCN9Wk9exJ_22F0JqdZg4i1xWtS2hPF-RE9jdnw1Ns=s64",
      "userId": "10583305263505777863"
     },
     "user_tz": 180
    },
    "id": "Wy-4Ng-N1ZTl",
    "outputId": "48df8335-b9a7-42c1-98d4-1a204f8720f9",
    "scrolled": true
   },
   "outputs": [
    {
     "name": "stdout",
     "output_type": "stream",
     "text": [
      "Lista L ordenada:  [1, 2, 3, 3, 3, 4, 6, 9, 13]\n",
      "Lista P ordenada:  ['agua', 'aguia', 'casa', 'lua', 'mato', 'rio']\n",
      "Lista P ordenada inversamente:  ['rio', 'mato', 'lua', 'casa', 'aguia', 'agua']\n"
     ]
    }
   ],
   "source": [
    "\n",
    "L = [4,6,3,9,1,2,3,13,3]\n",
    "P = ['casa', 'rio', 'lua', 'agua', 'aguia', 'mato']\n",
    "L.sort() #Ordenação ascendente\n",
    "P.sort()# Ordenação alfabética (só funciona com palavras não acentuadas)\n",
    "\n",
    "print('Lista L ordenada: ',L)\n",
    "print('Lista P ordenada: ',P)\n",
    "\n",
    "P.sort(reverse=True)\n",
    "print('Lista P ordenada inversamente: ',P)"
   ]
  },
  {
   "cell_type": "markdown",
   "metadata": {
    "colab_type": "text",
    "id": "DsNQ1d6j30XD"
   },
   "source": [
    "### Verificar se elemento pertence a lista"
   ]
  },
  {
   "cell_type": "code",
   "execution_count": 13,
   "metadata": {
    "colab": {
     "base_uri": "https://localhost:8080/",
     "height": 51
    },
    "colab_type": "code",
    "executionInfo": {
     "elapsed": 2150,
     "status": "ok",
     "timestamp": 1574539923908,
     "user": {
      "displayName": "Gabi Viana",
      "photoUrl": "https://lh3.googleusercontent.com/a-/AAuE7mCN9Wk9exJ_22F0JqdZg4i1xWtS2hPF-RE9jdnw1Ns=s64",
      "userId": "10583305263505777863"
     },
     "user_tz": 180
    },
    "id": "rpHBu2Vb1ZTq",
    "outputId": "648df45b-265d-47e2-df4d-8c4faeac7d56"
   },
   "outputs": [
    {
     "name": "stdout",
     "output_type": "stream",
     "text": [
      "False\n",
      "3\n"
     ]
    }
   ],
   "source": [
    "print('casa' in L) #Verifica se a string casa pertence ao vetor P \n",
    "print(L.count(3)) # Retorna quantas vezes um elemento aparece na lista"
   ]
  },
  {
   "cell_type": "code",
   "execution_count": 14,
   "metadata": {
    "colab": {
     "base_uri": "https://localhost:8080/",
     "height": 68
    },
    "colab_type": "code",
    "executionInfo": {
     "elapsed": 2142,
     "status": "ok",
     "timestamp": 1574539923909,
     "user": {
      "displayName": "Gabi Viana",
      "photoUrl": "https://lh3.googleusercontent.com/a-/AAuE7mCN9Wk9exJ_22F0JqdZg4i1xWtS2hPF-RE9jdnw1Ns=s64",
      "userId": "10583305263505777863"
     },
     "user_tz": 180
    },
    "id": "TPayQ2zl1ZTv",
    "outputId": "1c966387-612c-4a98-dd3c-0a6051ccdd38"
   },
   "outputs": [
    {
     "name": "stdout",
     "output_type": "stream",
     "text": [
      "Menor: 1\n",
      "Maior: 13\n",
      "Soma total: 44\n"
     ]
    }
   ],
   "source": [
    "#Funções para encontrar o maior, menor e soma de valores\n",
    "print('Menor: {}'.format(min(L))) # Retorna menor número da lista\n",
    "print('Maior: {}'.format(max(L))) # Retorna maior número da lista\n",
    "print('Soma total: {}'.format(sum(L))) # Soma todos os valores da lista"
   ]
  }
 ],
 "metadata": {
  "colab": {
   "collapsed_sections": [],
   "name": "Estruturas de dados - Lista.ipynb",
   "provenance": []
  },
  "kernelspec": {
   "display_name": "Python 3",
   "language": "python",
   "name": "python3"
  },
  "language_info": {
   "codemirror_mode": {
    "name": "ipython",
    "version": 3
   },
   "file_extension": ".py",
   "mimetype": "text/x-python",
   "name": "python",
   "nbconvert_exporter": "python",
   "pygments_lexer": "ipython3",
   "version": "3.7.3"
  }
 },
 "nbformat": 4,
 "nbformat_minor": 1
}
