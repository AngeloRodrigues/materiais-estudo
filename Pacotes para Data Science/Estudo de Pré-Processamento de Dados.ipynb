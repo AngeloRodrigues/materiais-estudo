{
 "cells": [
  {
   "cell_type": "markdown",
   "metadata": {},
   "source": [
    "# Pré-processamento de Dados"
   ]
  },
  {
   "cell_type": "markdown",
   "metadata": {},
   "source": [
    "## Tratamento de Dados - Detecção de Anomalias"
   ]
  },
  {
   "cell_type": "code",
   "execution_count": 1,
   "metadata": {},
   "outputs": [],
   "source": [
    "#Importação de bibliotecas\n",
    "import numpy as np\n",
    "import seaborn as sns\n",
    "import pandas as pd"
   ]
  },
  {
   "cell_type": "code",
   "execution_count": 2,
   "metadata": {},
   "outputs": [],
   "source": [
    "dados = [10, 386, 479, 627, 20, 523, 482, 483, 542, 699, 535, 617, 577, 471, 615, 583, 441, 562, 563, 527, \n",
    "       453, 530, 433, 541, 585, 704, 443, 569, 430, 637, 331, 511, 552, 496, 484, 566, 554, 472, 335, \n",
    "       440, 579, 341, 545, 615, 548, 604, 439, 556, 442, 461, 624, 611, 444, 578, 405, 487, 490, 496, 398, \n",
    "       512, 422, 455, 449, 432, 607, 679, 434, 597, 639, 565, 415, 486, 668, 414, 665, 763, 557, 304, 404, 454, \n",
    "       689, 610, 483, 441, 657, 590, 492, 476, 437, 483, 529, 363, 711, 543,30, 1300, 1350, 1400]\n",
    "\n",
    "# Transformar lista em array numpy \n",
    "dados = np.array(dados)"
   ]
  },
  {
   "cell_type": "markdown",
   "metadata": {},
   "source": [
    "### Visualizando os valores anômalos"
   ]
  },
  {
   "cell_type": "code",
   "execution_count": 3,
   "metadata": {},
   "outputs": [
    {
     "data": {
      "image/png": "[encoded data removed]",
      "text/plain": [
       "<Figure size 432x288 with 1 Axes>"
      ]
     },
     "metadata": {},
     "output_type": "display_data"
    }
   ],
   "source": [
    "%matplotlib inline\n",
    "sns.set(style=\"whitegrid\", color_codes=True)\n",
    "sns.boxplot(data=dados);"
   ]
  },
  {
   "cell_type": "code",
   "execution_count": 4,
   "metadata": {},
   "outputs": [
    {
     "data": {
      "text/plain": [
       "530.3673469387755"
      ]
     },
     "execution_count": 4,
     "metadata": {},
     "output_type": "execute_result"
    }
   ],
   "source": [
    "# 1° Passo - Verificar o valor da média\n",
    "np.mean(dados, axis=0) #Axis = 0 (array só possui uma coluna)"
   ]
  },
  {
   "cell_type": "code",
   "execution_count": 5,
   "metadata": {},
   "outputs": [
    {
     "data": {
      "text/plain": [
       "192.51166875607043"
      ]
     },
     "execution_count": 5,
     "metadata": {},
     "output_type": "execute_result"
    }
   ],
   "source": [
    "# 2° Passo - Verificar o valor do desvio padrão\n",
    "np.std(dados, axis=0) #Axis = 0 (array só possui uma coluna)"
   ]
  },
  {
   "cell_type": "code",
   "execution_count": 6,
   "metadata": {},
   "outputs": [],
   "source": [
    "# Definição de regras para considerar o valor como anômalo: O valor deve ser menor que (media - 2 * desvio_padrao )\n",
    "#  e deve ser maior que (media + 2 * desvio_padrao ), o intervalo desses valores são os valores válidos\n",
    "\n",
    "media = np.mean(dados, axis=0)\n",
    "desvio_padrao = np.std(dados, axis=0)"
   ]
  },
  {
   "cell_type": "code",
   "execution_count": 7,
   "metadata": {},
   "outputs": [
    {
     "data": {
      "text/plain": [
       "145.34400942663467"
      ]
     },
     "execution_count": 7,
     "metadata": {},
     "output_type": "execute_result"
    }
   ],
   "source": [
    "fronteira_menor = (media - (2 * desvio_padrao))\n",
    "fronteira_menor"
   ]
  },
  {
   "cell_type": "code",
   "execution_count": 8,
   "metadata": {},
   "outputs": [
    {
     "data": {
      "text/plain": [
       "915.3906844509164"
      ]
     },
     "execution_count": 8,
     "metadata": {},
     "output_type": "execute_result"
    }
   ],
   "source": [
    "fronteira_maior = (media + (2 * desvio_padrao))\n",
    "fronteira_maior"
   ]
  },
  {
   "cell_type": "code",
   "execution_count": 9,
   "metadata": {},
   "outputs": [
    {
     "name": "stdout",
     "output_type": "stream",
     "text": [
      "10\n",
      "20\n",
      "30\n"
     ]
    }
   ],
   "source": [
    "# Listar valores abaixo da fronteira_menor (abaixo da média em 2x o desvio padrão)\n",
    "for x in dados:\n",
    "    if(x < fronteira_menor):\n",
    "        print(x)"
   ]
  },
  {
   "cell_type": "code",
   "execution_count": 10,
   "metadata": {},
   "outputs": [
    {
     "name": "stdout",
     "output_type": "stream",
     "text": [
      "1300\n",
      "1350\n",
      "1400\n"
     ]
    }
   ],
   "source": [
    "# Listar valores acima da fronteira_maior (acima da média em 2x o desvio padrão)\n",
    "for x in dados:\n",
    "    if(x > fronteira_maior):\n",
    "        print(x)"
   ]
  },
  {
   "cell_type": "markdown",
   "metadata": {},
   "source": [
    "O problema de se encontrar dados anômalos pode ser resolvido através de substituição de valores pela média, calcular com alguma outra fórmula como a de distância entre outros e substituir os valores anômalos pelo da distância ou remover esses valores"
   ]
  },
  {
   "cell_type": "code",
   "execution_count": 11,
   "metadata": {},
   "outputs": [
    {
     "name": "stdout",
     "output_type": "stream",
     "text": [
      "[386, 479, 627, 523, 482, 483, 542, 699, 535, 617, 577, 471, 615, 583, 441, 562, 563, 527, 453, 530, 433, 541, 585, 704, 443, 569, 430, 637, 331, 511, 552, 496, 484, 566, 554, 472, 335, 440, 579, 341, 545, 615, 548, 604, 439, 556, 442, 461, 624, 611, 444, 578, 405, 487, 490, 496, 398, 512, 422, 455, 449, 432, 607, 679, 434, 597, 639, 565, 415, 486, 668, 414, 665, 763, 557, 304, 404, 454, 689, 610, 483, 441, 657, 590, 492, 476, 437, 483, 529, 363, 711, 543, 1300, 1350, 1400]\n"
     ]
    }
   ],
   "source": [
    "# Remoção de valores muito abaixo da média (menores que a fronteira_menor)\n",
    "dados = [x for x in dados if (x > fronteira_menor)]\n",
    "print(dados)"
   ]
  },
  {
   "cell_type": "code",
   "execution_count": 12,
   "metadata": {},
   "outputs": [
    {
     "name": "stdout",
     "output_type": "stream",
     "text": [
      "[386, 479, 627, 523, 482, 483, 542, 699, 535, 617, 577, 471, 615, 583, 441, 562, 563, 527, 453, 530, 433, 541, 585, 704, 443, 569, 430, 637, 331, 511, 552, 496, 484, 566, 554, 472, 335, 440, 579, 341, 545, 615, 548, 604, 439, 556, 442, 461, 624, 611, 444, 578, 405, 487, 490, 496, 398, 512, 422, 455, 449, 432, 607, 679, 434, 597, 639, 565, 415, 486, 668, 414, 665, 763, 557, 304, 404, 454, 689, 610, 483, 441, 657, 590, 492, 476, 437, 483, 529, 363, 711, 543]\n"
     ]
    }
   ],
   "source": [
    "# Remoção de valores muito acima da média (maiores que a fronteira_maior)\n",
    "dados = [x for x in dados if (x < fronteira_maior)]\n",
    "print(dados)"
   ]
  },
  {
   "cell_type": "code",
   "execution_count": 13,
   "metadata": {},
   "outputs": [
    {
     "data": {
      "image/png": "[encoded data removed]",
      "text/plain": [
       "<Figure size 432x288 with 1 Axes>"
      ]
     },
     "metadata": {},
     "output_type": "display_data"
    }
   ],
   "source": [
    "# Visualizando valores após a remoção dos dados anômalos:\n",
    "sns.boxplot(data=dados); # Todos os dados estão entre as fronteiras menor e maior"
   ]
  },
  {
   "cell_type": "markdown",
   "metadata": {},
   "source": [
    "## Pré-Processamento de dados - Discretização"
   ]
  },
  {
   "cell_type": "code",
   "execution_count": 14,
   "metadata": {},
   "outputs": [],
   "source": [
    "# Conjunto de dados de exemplo\n",
    "altura = [1.50,1.57,1.62,1.70,1.85,1.90]"
   ]
  },
  {
   "cell_type": "code",
   "execution_count": 1,
   "metadata": {},
   "outputs": [
    {
     "ename": "NameError",
     "evalue": "name 'pd' is not defined",
     "output_type": "error",
     "traceback": [
      "\u001b[0;31m---------------------------------------------------------------------------\u001b[0m",
      "\u001b[0;31mNameError\u001b[0m                                 Traceback (most recent call last)",
      "\u001b[0;32m<ipython-input-1-2698431ea18f>\u001b[0m in \u001b[0;36m<module>\u001b[0;34m()\u001b[0m\n\u001b[1;32m      1\u001b[0m \u001b[0;31m# Aplicando a discretização dos dados\u001b[0m\u001b[0;34m\u001b[0m\u001b[0;34m\u001b[0m\u001b[0;34m\u001b[0m\u001b[0m\n\u001b[0;32m----> 2\u001b[0;31m \u001b[0maltura\u001b[0m \u001b[0;34m=\u001b[0m \u001b[0mpd\u001b[0m\u001b[0;34m.\u001b[0m\u001b[0mqcut\u001b[0m\u001b[0;34m(\u001b[0m\u001b[0maltura\u001b[0m\u001b[0;34m,\u001b[0m\u001b[0;36m3\u001b[0m\u001b[0;34m,\u001b[0m\u001b[0mlabels\u001b[0m\u001b[0;34m=\u001b[0m\u001b[0;34m[\u001b[0m\u001b[0;34m'Nota ruim'\u001b[0m\u001b[0;34m,\u001b[0m\u001b[0;34m'Nota média'\u001b[0m\u001b[0;34m,\u001b[0m\u001b[0;34m'Nota boa'\u001b[0m\u001b[0;34m]\u001b[0m\u001b[0;34m)\u001b[0m\u001b[0;34m\u001b[0m\u001b[0;34m\u001b[0m\u001b[0m\n\u001b[0m\u001b[1;32m      3\u001b[0m \u001b[0maltura\u001b[0m\u001b[0;34m\u001b[0m\u001b[0;34m\u001b[0m\u001b[0m\n",
      "\u001b[0;31mNameError\u001b[0m: name 'pd' is not defined"
     ]
    }
   ],
   "source": [
    "# Aplicando a discretização dos dados \n",
    "altura = pd.qcut(altura,3,labels=['P','M','G'])\n",
    "altura"
   ]
  },
  {
   "cell_type": "code",
   "execution_count": 16,
   "metadata": {},
   "outputs": [
    {
     "data": {
      "text/plain": [
       "P    2\n",
       "M    2\n",
       "G    2\n",
       "dtype: int64"
      ]
     },
     "execution_count": 16,
     "metadata": {},
     "output_type": "execute_result"
    }
   ],
   "source": [
    "# Verificar a quantidade de elementos em cada categoria\n",
    "altura.value_counts()"
   ]
  },
  {
   "cell_type": "code",
   "execution_count": 17,
   "metadata": {},
   "outputs": [],
   "source": [
    "# Ler o dataset\n",
    "dataset = pd.read_csv('databases/kc_house_data.csv')"
   ]
  },
  {
   "cell_type": "code",
   "execution_count": 18,
   "metadata": {},
   "outputs": [
    {
     "data": {
      "text/plain": [
       "1.0    10679\n",
       "2.0     8241\n",
       "1.5     1910\n",
       "3.0      613\n",
       "2.5      161\n",
       "3.5        8\n",
       "Name: floors, dtype: int64"
      ]
     },
     "execution_count": 18,
     "metadata": {},
     "output_type": "execute_result"
    }
   ],
   "source": [
    "# Quantidade de registros por andares\n",
    "dataset['floors'].value_counts()"
   ]
  },
  {
   "cell_type": "markdown",
   "metadata": {},
   "source": [
    "Diferença dos métodos **cut** e **qcut** do pandas: O método _**qcut**_ faz com que você tenha a mesma quantidade de registros por agrupamento (baseado em amostras, uma certa parte dos registros). Já o método _**cut**_ permite particionar os dados em agrupamentos com tamanhos diferentes (de acordo com os valores em si e não com a frequência desses valores), nesse caso ocorrem freqüências mais altas nos compartimentos internos e menos no exterior."
   ]
  },
  {
   "cell_type": "code",
   "execution_count": 19,
   "metadata": {},
   "outputs": [],
   "source": [
    "# Discretizar os valores dos andares\n",
    "dataset['floors_labels'] = pd.cut(\n",
    "    dataset['floors'],\n",
    "    5,\n",
    "    labels=['Muito-Pequeno','Pequeno','Medio','Grande','Muito-Grande']\n",
    ")"
   ]
  },
  {
   "cell_type": "code",
   "execution_count": 20,
   "metadata": {},
   "outputs": [
    {
     "data": {
      "text/plain": [
       "[Muito-Pequeno, Pequeno, NaN, Grande, Medio, Muito-Grande]\n",
       "Categories (5, object): [Muito-Pequeno < Pequeno < Medio < Grande < Muito-Grande]"
      ]
     },
     "execution_count": 20,
     "metadata": {},
     "output_type": "execute_result"
    }
   ],
   "source": [
    "# Verificando valores únicos do dataset\n",
    "dataset['floors_labels'].unique()"
   ]
  },
  {
   "cell_type": "code",
   "execution_count": 21,
   "metadata": {},
   "outputs": [
    {
     "data": {
      "text/plain": [
       "Muito-Pequeno    12589\n",
       "Pequeno           8241\n",
       "Grande             613\n",
       "Medio              161\n",
       "Muito-Grande         8\n",
       "Name: floors_labels, dtype: int64"
      ]
     },
     "execution_count": 21,
     "metadata": {},
     "output_type": "execute_result"
    }
   ],
   "source": [
    "# Quantidade de registros por tamanho\n",
    "dataset['floors_labels'].value_counts()"
   ]
  },
  {
   "cell_type": "markdown",
   "metadata": {},
   "source": [
    "## Pré-Processamento de dados - Normalização"
   ]
  },
  {
   "cell_type": "markdown",
   "metadata": {},
   "source": [
    "#### norma L2 é definida como a raiz quadrada do somatório de todos os elementos do vetor ao quadrado."
   ]
  },
  {
   "cell_type": "markdown",
   "metadata": {},
   "source": [
    "![l2-norma](imagens/l2-norma.png)"
   ]
  },
  {
   "cell_type": "markdown",
   "metadata": {},
   "source": [
    "##### vejamos um simples exemplo do calculo da norma l2."
   ]
  },
  {
   "cell_type": "markdown",
   "metadata": {},
   "source": [
    "![l2-norma-exemplo](imagens/l2-norma-exemplo.png)"
   ]
  },
  {
   "cell_type": "code",
   "execution_count": 22,
   "metadata": {},
   "outputs": [],
   "source": [
    "# Importação das bibliotecas necessárias. OBS - A normalização altera o formato dos dados\n",
    "import warnings\n",
    "warnings.filterwarnings('ignore')\n",
    "from sklearn.preprocessing import Normalizer\n",
    "import numpy as np\n",
    "import seaborn as sns\n",
    "import matplotlib.pyplot as plt\n",
    "from sklearn.preprocessing import MinMaxScaler\n",
    "from sklearn.preprocessing import StandardScaler"
   ]
  },
  {
   "cell_type": "code",
   "execution_count": 23,
   "metadata": {},
   "outputs": [
    {
     "data": {
      "text/plain": [
       "[[-1, 2], [0.5, 6], [0, 10], [1, 18]]"
      ]
     },
     "execution_count": 23,
     "metadata": {},
     "output_type": "execute_result"
    }
   ],
   "source": [
    "data = [\n",
    "    [-1, 2],\n",
    "    [0.5, 6],\n",
    "    [0, 10],\n",
    "    [1, 18]\n",
    "]\n",
    "data"
   ]
  },
  {
   "cell_type": "code",
   "execution_count": 24,
   "metadata": {},
   "outputs": [
    {
     "data": {
      "text/plain": [
       "4.5625"
      ]
     },
     "execution_count": 24,
     "metadata": {},
     "output_type": "execute_result"
    }
   ],
   "source": [
    "# Média dos valores\n",
    "np.mean(data)"
   ]
  },
  {
   "cell_type": "code",
   "execution_count": 25,
   "metadata": {},
   "outputs": [
    {
     "data": {
      "image/png": "[encoded data removed]",
      "text/plain": [
       "<Figure size 432x288 with 1 Axes>"
      ]
     },
     "metadata": {},
     "output_type": "display_data"
    }
   ],
   "source": [
    "# Visualizar a distribuição dos dados\n",
    "sns.distplot(np.array(data).reshape(-1)) # Reshape transforma o array  para um array em uma única dimensão\n",
    "plt.show()"
   ]
  },
  {
   "cell_type": "code",
   "execution_count": 26,
   "metadata": {},
   "outputs": [],
   "source": [
    "# Instanciando o normalizador pela norma L2\n",
    "normalizer = Normalizer().fit(data)"
   ]
  },
  {
   "cell_type": "code",
   "execution_count": 27,
   "metadata": {},
   "outputs": [
    {
     "data": {
      "text/plain": [
       "array([[-0.4472136 ,  0.89442719],\n",
       "       [ 0.08304548,  0.99654576],\n",
       "       [ 0.        ,  1.        ],\n",
       "       [ 0.05547002,  0.99846035]])"
      ]
     },
     "execution_count": 27,
     "metadata": {},
     "output_type": "execute_result"
    }
   ],
   "source": [
    "# Aplicando a normalização nos dados\n",
    "data2 = normalizer.transform(data)\n",
    "data2"
   ]
  },
  {
   "cell_type": "code",
   "execution_count": 28,
   "metadata": {},
   "outputs": [
    {
     "data": {
      "text/plain": [
       "0.4475919008033141"
      ]
     },
     "execution_count": 28,
     "metadata": {},
     "output_type": "execute_result"
    }
   ],
   "source": [
    "#  Valor da média dos dados normalizados\n",
    "np.mean(data2)"
   ]
  },
  {
   "cell_type": "code",
   "execution_count": 29,
   "metadata": {},
   "outputs": [
    {
     "data": {
      "image/png": "[encoded data removed]",
      "text/plain": [
       "<Figure size 432x288 with 1 Axes>"
      ]
     },
     "metadata": {},
     "output_type": "display_data"
    }
   ],
   "source": [
    "# Visualizar a distribuição dos dados\n",
    "sns.distplot(np.array(data2).reshape(-1)) # Reshape transforma o array para um array em uma única dimensão\n",
    "plt.show()"
   ]
  },
  {
   "cell_type": "markdown",
   "metadata": {},
   "source": [
    "## Técnicas de pre-processamento de Dados - Standartization"
   ]
  },
  {
   "cell_type": "markdown",
   "metadata": {},
   "source": [
    "**Standartization:** Padroniza os dados em uma mesma faixa de valores - Não altera sua distribuição"
   ]
  },
  {
   "cell_type": "code",
   "execution_count": 30,
   "metadata": {},
   "outputs": [
    {
     "data": {
      "text/plain": [
       "array([-1.55287277, -0.81191874, -0.19917713, -1.08107871,  0.72745887,\n",
       "        0.45957474, -0.34830235,  2.4831374 , -0.84543531, -0.01863781,\n",
       "       -0.56953636, -0.82365399, -0.20603037,  0.67318331, -1.80573011,\n",
       "        1.5294045 , -1.13319713,  1.29523802,  0.08014826,  1.08617569,\n",
       "       -0.26447763, -0.70556841, -1.57175198, -1.61946544, -0.12521407,\n",
       "       -1.59155063,  0.38365231,  0.13253481, -0.10260115, -0.71119147,\n",
       "       -0.53477273, -0.79477408,  0.12035575, -1.37631452, -1.54041045,\n",
       "       -0.69385351, -0.8790485 , -1.63231687, -1.09465511,  0.64039072,\n",
       "        1.68888085,  1.5878556 , -0.17804382, -0.67207957,  0.31587906,\n",
       "        0.48964945, -0.66585637, -0.23037587, -1.15435938, -0.45329588])"
      ]
     },
     "execution_count": 30,
     "metadata": {},
     "output_type": "execute_result"
    }
   ],
   "source": [
    "data = np.random.normal(size = 50)\n",
    "data"
   ]
  },
  {
   "cell_type": "code",
   "execution_count": 31,
   "metadata": {
    "scrolled": true
   },
   "outputs": [
    {
     "data": {
      "image/png": "[encoded data removed]",
      "text/plain": [
       "<Figure size 432x288 with 1 Axes>"
      ]
     },
     "metadata": {},
     "output_type": "display_data"
    }
   ],
   "source": [
    "# Visualizar a distribuição dos dados\n",
    "sns.distplot(np.array(data).reshape(-1))\n",
    "plt.show()"
   ]
  },
  {
   "cell_type": "code",
   "execution_count": 32,
   "metadata": {},
   "outputs": [
    {
     "data": {
      "text/plain": [
       "MinMaxScaler(copy=True, feature_range=(0, 1))"
      ]
     },
     "execution_count": 32,
     "metadata": {},
     "output_type": "execute_result"
    }
   ],
   "source": [
    "data = data.reshape(-1,1) #Reshape nos dados para usar o MinMaxScaler\n",
    "scaler = MinMaxScaler().fit(data)\n",
    "scaler"
   ]
  },
  {
   "cell_type": "code",
   "execution_count": 33,
   "metadata": {},
   "outputs": [
    {
     "name": "stdout",
     "output_type": "stream",
     "text": [
      "[[0.05895667]\n",
      " [0.23171883]\n",
      " [0.37458676]\n",
      " [0.16896101]\n",
      " [0.59064286]\n",
      " [0.52818252]\n",
      " [0.33981646]\n",
      " [1.        ]\n",
      " [0.22390405]\n",
      " [0.41668163]\n",
      " [0.28823314]\n",
      " [0.22898262]\n",
      " [0.37298885]\n",
      " [0.57798788]\n",
      " [0.        ]\n",
      " [0.77762594]\n",
      " [0.15680899]\n",
      " [0.72302726]\n",
      " [0.43971476]\n",
      " [0.67428192]\n",
      " [0.35936118]\n",
      " [0.25651567]\n",
      " [0.05455476]\n",
      " [0.0434298 ]\n",
      " [0.39183212]\n",
      " [0.04993847]\n",
      " [0.51048031]\n",
      " [0.45192931]\n",
      " [0.39710459]\n",
      " [0.25520458]\n",
      " [0.29633869]\n",
      " [0.23571631]\n",
      " [0.44908962]\n",
      " [0.10012331]\n",
      " [0.06186241]\n",
      " [0.25924713]\n",
      " [0.21606674]\n",
      " [0.04043334]\n",
      " [0.16579552]\n",
      " [0.5703419 ]\n",
      " [0.81480973]\n",
      " [0.7912545 ]\n",
      " [0.37951424]\n",
      " [0.26432398]\n",
      " [0.49467818]\n",
      " [0.53519479]\n",
      " [0.265775  ]\n",
      " [0.3673124 ]\n",
      " [0.15187476]\n",
      " [0.31533598]]\n"
     ]
    }
   ],
   "source": [
    "data_scaled = scaler.transform(data)\n",
    "print(data_scaled)"
   ]
  },
  {
   "cell_type": "code",
   "execution_count": 34,
   "metadata": {},
   "outputs": [
    {
     "data": {
      "image/png": "[encoded data removed]",
      "text/plain": [
       "<Figure size 432x288 with 1 Axes>"
      ]
     },
     "metadata": {},
     "output_type": "display_data"
    }
   ],
   "source": [
    "# Não muda a forma do gráfico, mudará apenas a escala de valores (Muito útil para técnicas classificadoras como de distância onde precisam de valores que não sejam discrepantes entre todas as features - Padroniza esses valores)\n",
    "sns.distplot(np.array(data_scaled).reshape(-1))\n",
    "plt.show()"
   ]
  },
  {
   "cell_type": "markdown",
   "metadata": {},
   "source": [
    "## StandardScaler - Técnica de Pré-Processamento"
   ]
  },
  {
   "cell_type": "markdown",
   "metadata": {},
   "source": [
    "* Padroniza a escala dos dados sem interferir na sua forma\n",
    "\n",
    "* Mantém a escala dos dados mais fiel que a Técnica MinMaxScale"
   ]
  },
  {
   "cell_type": "code",
   "execution_count": 40,
   "metadata": {},
   "outputs": [
    {
     "name": "stdout",
     "output_type": "stream",
     "text": [
      "[-0.21137803  0.62866325  0.90464103 -0.21365201  0.04572065 -0.04451654\n",
      "  0.30594332 -0.06539251 -0.87572695  0.78502995  0.14462105  0.73565691\n",
      " -0.54075177  1.11287804  1.10537483 -1.0601662   0.23100875 -1.71574198\n",
      " -0.75230104 -0.18619737  0.56176193  1.87305054 -0.5346204   0.51694317\n",
      "  1.33931499  0.72630339  0.68232793 -0.64040949 -0.13971437  0.97076143\n",
      "  1.30862434 -0.75940305  0.66278603  0.15891004 -0.61584587  0.44836843\n",
      "  0.53101726 -0.17193833 -1.33084358  1.20559729  1.01838039  2.28734251\n",
      " -0.67816467 -0.106013    0.57935568  0.52744448  1.16909407 -0.69201894\n",
      " -0.85509547  0.42468076]\n"
     ]
    }
   ],
   "source": [
    "data = np.random.normal(size = 50)\n",
    "print(data)"
   ]
  },
  {
   "cell_type": "code",
   "execution_count": 41,
   "metadata": {},
   "outputs": [
    {
     "data": {
      "image/png": "[encoded data removed]",
      "text/plain": [
       "<Figure size 432x288 with 1 Axes>"
      ]
     },
     "metadata": {},
     "output_type": "display_data"
    }
   ],
   "source": [
    "sns.distplot(np.array(data).reshape(-1))\n",
    "plt.show()"
   ]
  },
  {
   "cell_type": "code",
   "execution_count": 42,
   "metadata": {},
   "outputs": [],
   "source": [
    "data = data.reshape(-1,1) #Reshape nos dados para usar o StandardScaler\n",
    "scaler = StandardScaler().fit(data)"
   ]
  },
  {
   "cell_type": "code",
   "execution_count": 43,
   "metadata": {},
   "outputs": [
    {
     "name": "stdout",
     "output_type": "stream",
     "text": [
      "[[-0.51824239]\n",
      " [ 0.50031757]\n",
      " [ 0.83494389]\n",
      " [-0.52099962]\n",
      " [-0.20650721]\n",
      " [-0.31592087]\n",
      " [ 0.10901584]\n",
      " [-0.34123323]\n",
      " [-1.32377329]\n",
      " [ 0.68991404]\n",
      " [-0.0865893 ]\n",
      " [ 0.63004865]\n",
      " [-0.91761195]\n",
      " [ 1.08743371]\n",
      " [ 1.07833599]\n",
      " [-1.54740806]\n",
      " [ 0.0181568 ]\n",
      " [-2.34230143]\n",
      " [-1.17411793]\n",
      " [-0.48771055]\n",
      " [ 0.41919893]\n",
      " [ 2.00915185]\n",
      " [-0.91017759]\n",
      " [ 0.36485566]\n",
      " [ 1.36199119]\n",
      " [ 0.61870739]\n",
      " [ 0.56538663]\n",
      " [-1.0384481 ]\n",
      " [-0.43134936]\n",
      " [ 0.91511566]\n",
      " [ 1.32477841]\n",
      " [-1.1827292 ]\n",
      " [ 0.54169184]\n",
      " [-0.06926373]\n",
      " [-1.00866443]\n",
      " [ 0.28170797]\n",
      " [ 0.38192066]\n",
      " [-0.4704213 ]\n",
      " [-1.87560758]\n",
      " [ 1.1998569 ]\n",
      " [ 0.9728542 ]\n",
      " [ 2.51148574]\n",
      " [-1.0842267 ]\n",
      " [-0.39048605]\n",
      " [ 0.44053156]\n",
      " [ 0.37758862]\n",
      " [ 1.15559631]\n",
      " [-1.10102517]\n",
      " [-1.29875738]\n",
      " [ 0.2529864 ]]\n"
     ]
    }
   ],
   "source": [
    "data_scaled = scaler.transform(data)\n",
    "print(data_scaled)"
   ]
  },
  {
   "cell_type": "code",
   "execution_count": 44,
   "metadata": {},
   "outputs": [
    {
     "data": {
      "image/png": "[encoded data removed]",
      "text/plain": [
       "<Figure size 432x288 with 1 Axes>"
      ]
     },
     "metadata": {},
     "output_type": "display_data"
    }
   ],
   "source": [
    "sns.distplot(np.array(data_scaled).reshape(-1))\n",
    "plt.show()"
   ]
  }
 ],
 "metadata": {
  "kernelspec": {
   "display_name": "Python 3",
   "language": "python",
   "name": "python3"
  },
  "language_info": {
   "codemirror_mode": {
    "name": "ipython",
    "version": 3
   },
   "file_extension": ".py",
   "mimetype": "text/x-python",
   "name": "python",
   "nbconvert_exporter": "python",
   "pygments_lexer": "ipython3",
   "version": "3.7.0"
  }
 },
 "nbformat": 4,
 "nbformat_minor": 2
}
