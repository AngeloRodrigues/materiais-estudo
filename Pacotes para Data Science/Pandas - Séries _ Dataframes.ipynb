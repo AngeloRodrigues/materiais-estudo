{
 "cells": [
  {
   "cell_type": "markdown",
   "metadata": {},
   "source": [
    "# Pandas"
   ]
  },
  {
   "cell_type": "markdown",
   "metadata": {},
   "source": [
    "Documentação do Pandas: https://pandas.pydata.org/pandas-docs/stable/ <br>\n",
    "Quickstart: https://pandas.pydata.org/pandas-docs/stable/10min.html"
   ]
  },
  {
   "cell_type": "code",
   "execution_count": 2,
   "metadata": {},
   "outputs": [],
   "source": [
    "import pandas as pd\n",
    "import numpy as np\n",
    "import matplotlib.pyplot as plt"
   ]
  },
  {
   "cell_type": "markdown",
   "metadata": {},
   "source": [
    "## Series"
   ]
  },
  {
   "cell_type": "markdown",
   "metadata": {},
   "source": [
    "Series é um array rotulado unidimensional, capaz de conter qualquer tipo de dados (inteiros, strings, números de ponto flutuante, objetos Python, etc.). Os rótulos dos eixos são referidos coletivamente como o índice . O método básico para criar uma série é chamar:"
   ]
  },
  {
   "cell_type": "markdown",
   "metadata": {},
   "source": [
    " _s = pd.Series(**data**, **index=index**)_\n"
   ]
  },
  {
   "cell_type": "markdown",
   "metadata": {},
   "source": [
    "O parâmetro data podem ter muitos tipos diferentes:\n",
    "\n",
    "  - um dict Python\n",
    "  - um ndarray\n",
    "  - um valor escalar (como 5) \n",
    "\n",
    "O índice passado é uma lista de rótulos de eixo. Assim, isso separa em alguns casos, dependendo de quais dados são :\n",
    "\n",
    "**De ndarray :** Se data for um ndarray, o índice deverá ter o mesmo tamanho que os dados . Se nenhum índice for passado, um será criado com valores [0, ..., len(data) - 1] ."
   ]
  },
  {
   "cell_type": "code",
   "execution_count": 7,
   "metadata": {},
   "outputs": [
    {
     "data": {
      "text/plain": [
       "a    0.858646\n",
       "b    0.718021\n",
       "c    0.074670\n",
       "d   -0.627704\n",
       "e   -0.669092\n",
       "dtype: float64"
      ]
     },
     "execution_count": 7,
     "metadata": {},
     "output_type": "execute_result"
    }
   ],
   "source": [
    "pd.Series(np.random.randn(5), index=['a', 'b', 'c', 'd', 'e'])"
   ]
  },
  {
   "cell_type": "markdown",
   "metadata": {},
   "source": [
    "**De dicionários:** Séries podem ser instanciadas a partir de dicionários: "
   ]
  },
  {
   "cell_type": "code",
   "execution_count": 8,
   "metadata": {},
   "outputs": [
    {
     "data": {
      "text/plain": [
       "b    1\n",
       "a    0\n",
       "c    2\n",
       "dtype: int64"
      ]
     },
     "execution_count": 8,
     "metadata": {},
     "output_type": "execute_result"
    }
   ],
   "source": [
    "d = {'b' : 1, 'a' : 0, 'c' : 2}\n",
    "pd.Series(d)"
   ]
  },
  {
   "cell_type": "code",
   "execution_count": 9,
   "metadata": {},
   "outputs": [
    {
     "data": {
      "text/plain": [
       "b    1.0\n",
       "c    2.0\n",
       "d    NaN\n",
       "a    0.0\n",
       "dtype: float64"
      ]
     },
     "execution_count": 9,
     "metadata": {},
     "output_type": "execute_result"
    }
   ],
   "source": [
    " pd.Series(d,index = [ 'b' , 'c' , 'd' , 'a' ]) # Não há valor para a posição d"
   ]
  },
  {
   "cell_type": "markdown",
   "metadata": {},
   "source": [
    "**Do valor escalar:** Se data for um valor escalar, um índice deve ser fornecido. O valor será repetido para corresponder ao comprimento do índice "
   ]
  },
  {
   "cell_type": "code",
   "execution_count": 10,
   "metadata": {},
   "outputs": [
    {
     "data": {
      "text/plain": [
       "a    5.0\n",
       "b    5.0\n",
       "c    5.0\n",
       "d    5.0\n",
       "e    5.0\n",
       "dtype: float64"
      ]
     },
     "execution_count": 10,
     "metadata": {},
     "output_type": "execute_result"
    }
   ],
   "source": [
    " pd.Series(5., index=['a', 'b', 'c', 'd', 'e'])"
   ]
  },
  {
   "cell_type": "markdown",
   "metadata": {},
   "source": [
    "### Séries são semelhantes a um ndarray"
   ]
  },
  {
   "cell_type": "markdown",
   "metadata": {},
   "source": [
    "Series agem de maneira muito semelhante a um ndarray e é um argumento válido para a maioria das funções do NumPy. No entanto, operações como o fatiamento também dividem o índice."
   ]
  },
  {
   "cell_type": "code",
   "execution_count": 23,
   "metadata": {},
   "outputs": [
    {
     "name": "stdout",
     "output_type": "stream",
     "text": [
      "s[0]: 1.425220062591074 \n",
      "\n",
      "s[0,1,2]: a    1.425220\n",
      "b   -0.686702\n",
      "c    0.114735\n",
      "dtype: float64 \n",
      "\n",
      "s[s > s.median()]: \n",
      " a    1.425220\n",
      "c    0.114735\n",
      "dtype: float64 \n",
      "\n",
      "s[[ 4 , 3 , 1 ]]: \n",
      " e   -0.735487\n",
      "d   -0.381712\n",
      "b   -0.686702\n",
      "dtype: float64 \n",
      "\n"
     ]
    }
   ],
   "source": [
    "s = pd.Series(np.random.randn(5), index=['a', 'b', 'c', 'd', 'e'])\n",
    "print('s[0]: {} \\n'.format(s[0]))\n",
    "print('s[0,1,2]: {} \\n'.format(s[:3]))\n",
    "print('s[s > s.median()]: \\n {} \\n'.format(s[s > s.median()]))\n",
    "print('s[[ 4 , 3 , 1 ]]: \\n {} \\n'.format(s[[4,3,1]]))"
   ]
  },
  {
   "cell_type": "markdown",
   "metadata": {},
   "source": [
    "### Séries são semelhantes a um dicionário"
   ]
  },
  {
   "cell_type": "markdown",
   "metadata": {},
   "source": [
    "Uma série é como um dicionário de tamanho fixo em que você pode obter e definir valores por rótulo de índice:"
   ]
  },
  {
   "cell_type": "code",
   "execution_count": 29,
   "metadata": {},
   "outputs": [
    {
     "name": "stdout",
     "output_type": "stream",
     "text": [
      "s[\"a\"]: 1.425220062591074 \n",
      "\n",
      "s[\"e\"]: 12.0 \n",
      "\n",
      "True\n",
      "nan\n"
     ]
    }
   ],
   "source": [
    "print('s[\"a\"]: {} \\n'.format(s['a']))\n",
    "s['e'] = 12\n",
    "print('s[\"e\"]: {} \\n'.format(s['e']))\n",
    "print('e' in s) # A chave e está contida nessa série?\n",
    "print(s.get('f', np.nan)) #Busca por uma chave e caso não encontre, retorna nan"
   ]
  },
  {
   "cell_type": "markdown",
   "metadata": {},
   "source": [
    "### Operações vetorizadas e alinhamento de rótulos com a série "
   ]
  },
  {
   "cell_type": "markdown",
   "metadata": {},
   "source": [
    "Ao trabalhar com arrays NumPy não processados, o loop por valor a valor geralmente não é necessário. O mesmo acontece quando se trabalha com séries em pandas. A série também pode ser passada para a maioria dos métodos NumPy que esperam um ndarray."
   ]
  },
  {
   "cell_type": "code",
   "execution_count": 37,
   "metadata": {},
   "outputs": [
    {
     "name": "stdout",
     "output_type": "stream",
     "text": [
      "a     2.850440\n",
      "b    -1.373404\n",
      "c     0.229469\n",
      "d    -0.763423\n",
      "e    24.000000\n",
      "dtype: float64 \n",
      "\n",
      "a     2.850440\n",
      "b    -1.373404\n",
      "c     0.229469\n",
      "d    -0.763423\n",
      "e    24.000000\n",
      "dtype: float64 \n",
      "\n",
      "a         4.158773\n",
      "b         0.503233\n",
      "c         1.121576\n",
      "d         0.682692\n",
      "e    162754.791419\n",
      "dtype: float64 \n",
      "\n",
      "a         NaN\n",
      "b   -1.373404\n",
      "c    0.229469\n",
      "d   -0.763423\n",
      "e         NaN\n",
      "dtype: float64\n"
     ]
    }
   ],
   "source": [
    "print(s + s,'\\n') # Soma dos elementos a + a, b + b, c + c\n",
    "print(s * 2,'\\n') # Multiplicação dos elementos por 2\n",
    "print(np.exp(s),'\\n') # Expoente\n",
    "print(s[1:] + s[:-1])"
   ]
  },
  {
   "cell_type": "code",
   "execution_count": 38,
   "metadata": {},
   "outputs": [
    {
     "name": "stdout",
     "output_type": "stream",
     "text": [
      "something \n",
      "\n",
      "different \n",
      "\n"
     ]
    }
   ],
   "source": [
    "# Nomear uma série\n",
    "s = pd.Series(np.random.randn(5), name='something')\n",
    "# Renomear uma série\n",
    "s2 = s.rename(\"different\")\n",
    "print(s.name,'\\n')\n",
    "print(s2.name,'\\n')"
   ]
  },
  {
   "cell_type": "markdown",
   "metadata": {},
   "source": [
    "## Dataframes"
   ]
  },
  {
   "cell_type": "markdown",
   "metadata": {},
   "source": [
    "DataFrame é uma estrutura de dados rotulada bidimensional com colunas de tipos potencialmente diferentes. Você pode pensar nisso como uma planilha ou tabela SQL, ou um dicionário de objetos da série. Geralmente é o objeto de pandas mais comumente usado. Como a série, o DataFrame aceita muitos tipos diferentes de entrada:\n",
    "\n",
    "   - Dicionário de 1D ndarrays, listas, dicionários ou séries\n",
    "   - 2-D numpy.andarray\n",
    "   - Ndarray estruturado ou registro\n",
    "   - Uma Series\n",
    "   - Outro DataFrame \n",
    "\n",
    "Juntamente com os dados, você pode, opcionalmente, passar argumentos de índice (rótulos de linha) e colunas (rótulos de coluna). Se você passar um índice e / ou colunas, estará garantindo o índice e / ou colunas do DataFrame resultante. Assim, um dict de Series mais um índice específico descartará todos os dados que não corresponderem ao índice passado.\n",
    "\n",
    "Se os rótulos dos eixos não forem passados, eles serão construídos a partir dos dados de entrada com base nas regras de senso comum.\n",
    "\n",
    "**Nota: Quando os dados são um dict e as columns não são especificadas, as colunas do DataFrame serão ordenadas pela ordem de inserção do dict, se você estiver usando a versão do Python> = 3.6 e Pandas> = 0.23.\n",
    "Se você estiver usando Python <3.6 ou Pandas <0.23 e columns não forem especificadas, as colunas DataFrame serão a lista ordenada lexicamente de chaves dict.**"
   ]
  },
  {
   "cell_type": "markdown",
   "metadata": {},
   "source": [
    "**Do dicionário de séries ou dicionários:** O índice resultante será a união dos índices das várias séries. Se houver algum dicionário aninhado, ele será primeiro convertido em série. Se nenhuma coluna for passada, as colunas serão a lista ordenada de chaves do dicionário."
   ]
  },
  {
   "cell_type": "code",
   "execution_count": 41,
   "metadata": {},
   "outputs": [
    {
     "data": {
      "text/html": [
       "<div>\n",
       "<style scoped>\n",
       "    .dataframe tbody tr th:only-of-type {\n",
       "        vertical-align: middle;\n",
       "    }\n",
       "\n",
       "    .dataframe tbody tr th {\n",
       "        vertical-align: top;\n",
       "    }\n",
       "\n",
       "    .dataframe thead th {\n",
       "        text-align: right;\n",
       "    }\n",
       "</style>\n",
       "<table border=\"1\" class=\"dataframe\">\n",
       "  <thead>\n",
       "    <tr style=\"text-align: right;\">\n",
       "      <th></th>\n",
       "      <th>one</th>\n",
       "      <th>two</th>\n",
       "    </tr>\n",
       "  </thead>\n",
       "  <tbody>\n",
       "    <tr>\n",
       "      <th>a</th>\n",
       "      <td>1.0</td>\n",
       "      <td>1.0</td>\n",
       "    </tr>\n",
       "    <tr>\n",
       "      <th>b</th>\n",
       "      <td>2.0</td>\n",
       "      <td>2.0</td>\n",
       "    </tr>\n",
       "    <tr>\n",
       "      <th>c</th>\n",
       "      <td>3.0</td>\n",
       "      <td>3.0</td>\n",
       "    </tr>\n",
       "    <tr>\n",
       "      <th>d</th>\n",
       "      <td>NaN</td>\n",
       "      <td>4.0</td>\n",
       "    </tr>\n",
       "  </tbody>\n",
       "</table>\n",
       "</div>"
      ],
      "text/plain": [
       "   one  two\n",
       "a  1.0  1.0\n",
       "b  2.0  2.0\n",
       "c  3.0  3.0\n",
       "d  NaN  4.0"
      ]
     },
     "execution_count": 41,
     "metadata": {},
     "output_type": "execute_result"
    }
   ],
   "source": [
    "d = {'one' : pd.Series([1., 2., 3.], index=['a', 'b', 'c']),'two' : pd.Series([1., 2., 3., 4.], index=['a', 'b', 'c', 'd'])}\n",
    "df = pd.DataFrame(d)\n",
    "df"
   ]
  },
  {
   "cell_type": "code",
   "execution_count": 42,
   "metadata": {},
   "outputs": [
    {
     "data": {
      "text/html": [
       "<div>\n",
       "<style scoped>\n",
       "    .dataframe tbody tr th:only-of-type {\n",
       "        vertical-align: middle;\n",
       "    }\n",
       "\n",
       "    .dataframe tbody tr th {\n",
       "        vertical-align: top;\n",
       "    }\n",
       "\n",
       "    .dataframe thead th {\n",
       "        text-align: right;\n",
       "    }\n",
       "</style>\n",
       "<table border=\"1\" class=\"dataframe\">\n",
       "  <thead>\n",
       "    <tr style=\"text-align: right;\">\n",
       "      <th></th>\n",
       "      <th>one</th>\n",
       "      <th>two</th>\n",
       "    </tr>\n",
       "  </thead>\n",
       "  <tbody>\n",
       "    <tr>\n",
       "      <th>d</th>\n",
       "      <td>NaN</td>\n",
       "      <td>4.0</td>\n",
       "    </tr>\n",
       "    <tr>\n",
       "      <th>b</th>\n",
       "      <td>2.0</td>\n",
       "      <td>2.0</td>\n",
       "    </tr>\n",
       "    <tr>\n",
       "      <th>a</th>\n",
       "      <td>1.0</td>\n",
       "      <td>1.0</td>\n",
       "    </tr>\n",
       "  </tbody>\n",
       "</table>\n",
       "</div>"
      ],
      "text/plain": [
       "   one  two\n",
       "d  NaN  4.0\n",
       "b  2.0  2.0\n",
       "a  1.0  1.0"
      ]
     },
     "execution_count": 42,
     "metadata": {},
     "output_type": "execute_result"
    }
   ],
   "source": [
    "pd.DataFrame(d, index=['d', 'b', 'a'])"
   ]
  },
  {
   "cell_type": "code",
   "execution_count": 45,
   "metadata": {},
   "outputs": [
    {
     "data": {
      "text/html": [
       "<div>\n",
       "<style scoped>\n",
       "    .dataframe tbody tr th:only-of-type {\n",
       "        vertical-align: middle;\n",
       "    }\n",
       "\n",
       "    .dataframe tbody tr th {\n",
       "        vertical-align: top;\n",
       "    }\n",
       "\n",
       "    .dataframe thead th {\n",
       "        text-align: right;\n",
       "    }\n",
       "</style>\n",
       "<table border=\"1\" class=\"dataframe\">\n",
       "  <thead>\n",
       "    <tr style=\"text-align: right;\">\n",
       "      <th></th>\n",
       "      <th>two</th>\n",
       "      <th>three</th>\n",
       "    </tr>\n",
       "  </thead>\n",
       "  <tbody>\n",
       "    <tr>\n",
       "      <th>d</th>\n",
       "      <td>4.0</td>\n",
       "      <td>NaN</td>\n",
       "    </tr>\n",
       "    <tr>\n",
       "      <th>b</th>\n",
       "      <td>2.0</td>\n",
       "      <td>NaN</td>\n",
       "    </tr>\n",
       "    <tr>\n",
       "      <th>a</th>\n",
       "      <td>1.0</td>\n",
       "      <td>NaN</td>\n",
       "    </tr>\n",
       "  </tbody>\n",
       "</table>\n",
       "</div>"
      ],
      "text/plain": [
       "   two three\n",
       "d  4.0   NaN\n",
       "b  2.0   NaN\n",
       "a  1.0   NaN"
      ]
     },
     "execution_count": 45,
     "metadata": {},
     "output_type": "execute_result"
    }
   ],
   "source": [
    " pd.DataFrame(d, index=['d', 'b', 'a'], columns=['two', 'three'])"
   ]
  },
  {
   "cell_type": "code",
   "execution_count": 46,
   "metadata": {},
   "outputs": [
    {
     "name": "stdout",
     "output_type": "stream",
     "text": [
      "Índices: {} \n",
      " Index(['a', 'b', 'c', 'd'], dtype='object')\n",
      "Colunas: {} Index(['one', 'two'], dtype='object')\n"
     ]
    }
   ],
   "source": [
    "# Index\n",
    "print('Índices: {} \\n',format(df.index))\n",
    "# Colunas\n",
    "print('Colunas: {}',format(df.columns))"
   ]
  }
 ],
 "metadata": {
  "kernelspec": {
   "display_name": "Python 3",
   "language": "python",
   "name": "python3"
  },
  "language_info": {
   "codemirror_mode": {
    "name": "ipython",
    "version": 3
   },
   "file_extension": ".py",
   "mimetype": "text/x-python",
   "name": "python",
   "nbconvert_exporter": "python",
   "pygments_lexer": "ipython3",
   "version": "3.7.0"
  }
 },
 "nbformat": 4,
 "nbformat_minor": 2
}
