{
 "cells": [
  {
   "cell_type": "markdown",
   "metadata": {},
   "source": [
    "# Estudando Numpy"
   ]
  },
  {
   "cell_type": "code",
   "execution_count": 2,
   "metadata": {},
   "outputs": [],
   "source": [
    "# Importação da biblioteca\n",
    "import numpy as np"
   ]
  },
  {
   "cell_type": "code",
   "execution_count": null,
   "metadata": {},
   "outputs": [],
   "source": [
    "array = np.array([1,2,3,4])# array unidimensional\n",
    "print(type(array)) # Tipo do objeto (numpy.ndarray)"
   ]
  },
  {
   "cell_type": "code",
   "execution_count": null,
   "metadata": {},
   "outputs": [],
   "source": [
    "array2 = np.array([(1,2,3),(4,5,6)])#Array Bidimensional\n",
    "array3 = np.array([(1,2,3),(4,5,6), (7,8,9)])#Array Tridimensional\n",
    "array3"
   ]
  },
  {
   "cell_type": "code",
   "execution_count": null,
   "metadata": {},
   "outputs": [],
   "source": [
    "# Array de números aleatórios\n",
    "np.random.random((5,2)) #Gera um array bidimensional com 5 linhas contendo números aleatórios"
   ]
  },
  {
   "cell_type": "code",
   "execution_count": null,
   "metadata": {},
   "outputs": [],
   "source": [
    "#Criar um array com valores esparsos, iniciando com o valor 10, que sejam menores que 50 e incrementando de 5 em 5\n",
    "np.arange(10,50,5)"
   ]
  },
  {
   "cell_type": "code",
   "execution_count": null,
   "metadata": {},
   "outputs": [],
   "source": [
    "# Gerar um array linear de 0 a 2 com no máximo 9 elementos\n",
    "np.linspace(0,2,9)"
   ]
  },
  {
   "cell_type": "code",
   "execution_count": null,
   "metadata": {},
   "outputs": [],
   "source": [
    "# Criar um array de valores zero\n",
    "np.zeros((3,4)) #Gera array de 3 linhas e 4 colunas contendo somente 0"
   ]
  },
  {
   "cell_type": "code",
   "execution_count": null,
   "metadata": {},
   "outputs": [],
   "source": [
    "# Diferenças entre Numpy e listas nativas do Python:\n",
    "# O array criado com Numpy permite fazer operações em arrays inteiros de forma rápida\n",
    "# Listas não permitem operações em todos os seus elementos sem iterar sobre a lista\n",
    "# Listas python armazenam todo tipo de objeto\n",
    "# Array numpy considera todos os elementos de tipos distintos como strings\n",
    "\n",
    "#Lista nativa\n",
    "lista = [1,2,3]\n",
    "# Multiplicar lista por 2\n",
    "print(lista * 2) #Duplica cada item\n",
    "\n",
    "\n",
    "#transformar lista em array Numpy\n",
    "lista = np.array(lista)\n",
    "# Multiplicar lista por 2\n",
    "print(lista * 2) #Multiplica cada item por 2\n"
   ]
  },
  {
   "cell_type": "code",
   "execution_count": null,
   "metadata": {},
   "outputs": [],
   "source": [
    "# Calcular IMC com a lista simples\n",
    "pesos = [67,11,25,80]\n",
    "altura = [1.68,1.70,1.75,1.85]\n",
    "\n",
    "#print(pesos / altura ** 2)  # Para calcular, somente em loop manipulando elemento por elemento\n",
    "\n",
    "pesos = np.array(pesos)\n",
    "altura = np.array(altura)\n",
    "\n",
    "print(pesos / altura ** 2) \n"
   ]
  },
  {
   "cell_type": "code",
   "execution_count": null,
   "metadata": {
    "scrolled": true
   },
   "outputs": [],
   "source": [
    "# Arrays numpy considera todos os elementos como strings se houver uma string entre eles\n",
    "a = np.array([True,2.5,2,8,'d'])\n",
    "b = np.array([True,False,2,4.5])\n",
    "print('Array como string: {}'.format(a))\n",
    "print('Array como float: {}'.format(b))"
   ]
  },
  {
   "cell_type": "code",
   "execution_count": null,
   "metadata": {
    "scrolled": true
   },
   "outputs": [],
   "source": [
    "#Tentar multiplicar array com string por 2\n",
    "a * 2 #ERRO"
   ]
  },
  {
   "cell_type": "code",
   "execution_count": null,
   "metadata": {},
   "outputs": [],
   "source": [
    "# Visualizar o formato do array (linhas e colunas)\n",
    "print('Formato do array: {}'.format(array2.shape)) # 2 linhas / 3 colunas\n",
    "print('N° dimensões do array: {}'.format(array2.ndim)) #Imprime a qtd de dimensões do array\n",
    "print('Maior valor do array: {}'.format(array2.max())) #Imprime o maior valor do array\n",
    "print('Menor valor do array: {}'.format(array2.min())) #Imprime o menor valor do array\n",
    "print('Valor médio do array: {}'.format(array2.mean())) #Imprime a média do array (soma de todos / quantidade)\n",
    "print('Desvio padrão do array: {}'.format(array2.std())) #Imprime o desvio padrão do array (Quanto mais próximo de 0 for o desvio padrão, mais homogêneo são os dados)\n",
    "print('Tipo de dados pertencentes ao array: {}'.format(array2.dtype))\n",
    "print('Qtd. de elementos pertencentes ao array: {}'.format(array2.size))\n",
    "print('Tamanho em bytes dos itens do array: {}'.format(array2.itemsize)) \n",
    "print('Soma de todos os elementos do array: {}'.format(array2.sum())) "
   ]
  },
  {
   "cell_type": "code",
   "execution_count": null,
   "metadata": {},
   "outputs": [],
   "source": [
    "# Transformação de arrays\n",
    "matriz = np.array([(1,2,3),(4,5,6)])\n",
    "# Fazer a transposta da matriz (Inverter linhas e colunas)\n",
    "print(matriz.T) #Matriz 2x3 vira 3x2\n",
    "# Transformar toda a matriz em um array de uma linha só (comum nas bibliotecas sckit-learn e keras)\n",
    "print(matriz.reshape(-1))"
   ]
  },
  {
   "cell_type": "code",
   "execution_count": null,
   "metadata": {},
   "outputs": [],
   "source": [
    "tree = np.random.random((5,3))\n",
    "# Inverter a forma do array para 3 linhas e 5 colunas\n",
    "print(tree.reshape(3,5))\n",
    "# Transformar  matriz em uma linha só\n",
    "print(tree.reshape(-1).shape) #Mostra o formato, 15 elementos em uma linha só\n",
    "print(tree.reshape(-1)) #Imprime em uma linha só\n",
    "print(tree.reshape(1,15))  #Imprime em uma linha"
   ]
  },
  {
   "cell_type": "code",
   "execution_count": null,
   "metadata": {},
   "outputs": [],
   "source": [
    "#Inserir elementos em um array\n",
    "matriz = np.array([(1,2,3),(4,5,6),(7,8,9)])\n",
    "matriz = np.insert(matriz,0,10) #Atualização da matriz na posição 0, o valor atual nessa posição recebe o valor 10 e transforma em um array de uma linha\n",
    "print(matriz)\n",
    "\n",
    "# Deletar o elemento na primeira posição do array\n",
    "matriz = np.delete(matriz,[0])\n",
    "print(matriz)"
   ]
  },
  {
   "cell_type": "code",
   "execution_count": null,
   "metadata": {},
   "outputs": [],
   "source": [
    "# Gerar um txt a partir de um array\n",
    "np.round(matriz, 2)\n",
    "np.savetxt('databases/dataset.txt',matriz,delimiter=',')"
   ]
  },
  {
   "cell_type": "code",
   "execution_count": null,
   "metadata": {},
   "outputs": [],
   "source": [
    "# Acessando os dados de um array\n",
    "dados = np.random.random((10,2)) #Gerando aleatoriamente um array de 10 linhas e 2 col.\n",
    "print(dados[0]) # Impressão do primeiro elemento (Primeita linha ou linha 0)\n",
    "print(dados[0][0]) # Impressão do valor primeiro elemento (na linha 0 e na coluna 0)\n",
    "print(dados[0][0],dados[1][0],dados[2][0],dados[3][0],dados[4][0],dados[5][0],dados[6][0],dados[7][0],dados[8][0],dados[9][0]) # Impressão dos primeiros elementos de cada linha\n",
    "print(dados[1,1]) #Acessando linha e coluna com índices em um colchete só"
   ]
  },
  {
   "cell_type": "code",
   "execution_count": null,
   "metadata": {},
   "outputs": [],
   "source": [
    "print(dados[:3,1]) #Imprimir até 3 valores da coluna 1\n",
    "print(dados[:,1] * 10) #Imprimir todos os valores da col. 1 multiplicados por 10"
   ]
  },
  {
   "cell_type": "code",
   "execution_count": null,
   "metadata": {
    "scrolled": true
   },
   "outputs": [],
   "source": [
    "#Verificar se no array existem valores maiores que 0.50\n",
    "print(dados > 0.50) #Imprime uma listagem contendo valor True ou False para cada valor - ser maior que 0.50 (True) / menor ou igual (False)\n",
    "dados[dados > 0.50] # Acessar somente os valores maiores que 0.50"
   ]
  },
  {
   "cell_type": "code",
   "execution_count": 4,
   "metadata": {},
   "outputs": [
    {
     "name": "stdout",
     "output_type": "stream",
     "text": [
      "(9,)\n"
     ]
    }
   ],
   "source": [
    "# Carregar valores Numpy a partir de arquivos de texto\n",
    "dataset = np.loadtxt('databases/dataset.txt', delimiter=',')\n",
    "print(dataset.shape) #Imprime o formato do dataset (9 linhas e 1 coluna)"
   ]
  },
  {
   "cell_type": "code",
   "execution_count": 5,
   "metadata": {},
   "outputs": [
    {
     "name": "stdout",
     "output_type": "stream",
     "text": [
      "[0.4839 0.1292 0.1781 0.7676 0.5993] [0.4536 0.6875 0.3049 0.5801 0.4357] [0.3561 0.6565 0.8928 0.2038 0.741 ]\n"
     ]
    }
   ],
   "source": [
    "# Carregar um arquivo de 3 colunas (A,B e C) dividido em 3 arrays\n",
    "a, b, c = np.loadtxt('databases/dataset_valores.txt', skiprows=1, unpack=True) # Skiprows (pular primeira linha - nome das colunas), unpack = separar em variáveis distintas\n",
    "print(a,b,c)"
   ]
  },
  {
   "cell_type": "code",
   "execution_count": 12,
   "metadata": {},
   "outputs": [
    {
     "data": {
      "text/plain": [
       "array([[0.4839, 0.4536, 0.3561],\n",
       "       [0.1292, 0.6875, 0.    ],\n",
       "       [0.1781, 0.3049, 0.8928],\n",
       "       [0.    , 0.5801, 0.2038],\n",
       "       [0.5993, 0.4357, 0.741 ]])"
      ]
     },
     "execution_count": 12,
     "metadata": {},
     "output_type": "execute_result"
    }
   ],
   "source": [
    "#  Carregar um arquivo ignorando mais de uma linha e preencher valores vazios com zeros (strings também são convertidas)\n",
    "dataset = np.genfromtxt('databases/dataset_valores_vazio.txt', skip_header=2, filling_values=0) # Tudo que não for inteiro/float é preenchido com zeros\n",
    "dataset"
   ]
  }
 ],
 "metadata": {
  "kernelspec": {
   "display_name": "Python 3",
   "language": "python",
   "name": "python3"
  },
  "language_info": {
   "codemirror_mode": {
    "name": "ipython",
    "version": 3
   },
   "file_extension": ".py",
   "mimetype": "text/x-python",
   "name": "python",
   "nbconvert_exporter": "python",
   "pygments_lexer": "ipython3",
   "version": "3.7.1"
  }
 },
 "nbformat": 4,
 "nbformat_minor": 2
}
