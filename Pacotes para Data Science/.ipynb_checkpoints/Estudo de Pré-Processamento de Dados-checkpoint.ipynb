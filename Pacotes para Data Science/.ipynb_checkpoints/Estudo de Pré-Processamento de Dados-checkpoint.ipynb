{
 "cells": [
  {
   "cell_type": "markdown",
   "metadata": {},
   "source": [
    "# Pré-processamento de Dados"
   ]
  },
  {
   "cell_type": "markdown",
   "metadata": {},
   "source": [
    "## Tratamento de Dados - Detecção de Anomalias"
   ]
  },
  {
   "cell_type": "code",
   "execution_count": 1,
   "metadata": {},
   "outputs": [],
   "source": [
    "#Importação de bibliotecas\n",
    "import numpy as np\n",
    "import seaborn as sns\n",
    "import pandas as pd"
   ]
  },
  {
   "cell_type": "code",
   "execution_count": 2,
   "metadata": {},
   "outputs": [],
   "source": [
    "dados = [10, 386, 479, 627, 20, 523, 482, 483, 542, 699, 535, 617, 577, 471, 615, 583, 441, 562, 563, 527, \n",
    "       453, 530, 433, 541, 585, 704, 443, 569, 430, 637, 331, 511, 552, 496, 484, 566, 554, 472, 335, \n",
    "       440, 579, 341, 545, 615, 548, 604, 439, 556, 442, 461, 624, 611, 444, 578, 405, 487, 490, 496, 398, \n",
    "       512, 422, 455, 449, 432, 607, 679, 434, 597, 639, 565, 415, 486, 668, 414, 665, 763, 557, 304, 404, 454, \n",
    "       689, 610, 483, 441, 657, 590, 492, 476, 437, 483, 529, 363, 711, 543,30, 1300, 1350, 1400]\n",
    "\n",
    "# Transformar lista em array numpy \n",
    "dados = np.array(dados)"
   ]
  },
  {
   "cell_type": "markdown",
   "metadata": {},
   "source": [
    "### Visualizando os valores anômalos"
   ]
  },
  {
   "cell_type": "code",
   "execution_count": 3,
   "metadata": {},
   "outputs": [
    {
     "data": {
      "image/png": "[encoded data removed]",
      "text/plain": [
       "<Figure size 432x288 with 1 Axes>"
      ]
     },
     "metadata": {},
     "output_type": "display_data"
    }
   ],
   "source": [
    "%matplotlib inline\n",
    "sns.set(style=\"whitegrid\", color_codes=True)\n",
    "sns.boxplot(data=dados);"
   ]
  },
  {
   "cell_type": "code",
   "execution_count": 4,
   "metadata": {},
   "outputs": [
    {
     "data": {
      "text/plain": [
       "530.3673469387755"
      ]
     },
     "execution_count": 4,
     "metadata": {},
     "output_type": "execute_result"
    }
   ],
   "source": [
    "# 1° Passo - Verificar o valor da média\n",
    "np.mean(dados, axis=0) #Axis = 0 (array só possui uma coluna)"
   ]
  },
  {
   "cell_type": "markdown",
   "metadata": {},
   "source": [
    "**Desvio Padrão:** É uma medida que indica o quanto o conjunto de dados é uniforme. Quando o desvio é baixo quer dizer que os dados do conjunto estão mais próximos da média."
   ]
  },
  {
   "cell_type": "code",
   "execution_count": 5,
   "metadata": {},
   "outputs": [
    {
     "data": {
      "text/plain": [
       "192.51166875607043"
      ]
     },
     "execution_count": 5,
     "metadata": {},
     "output_type": "execute_result"
    }
   ],
   "source": [
    "# 2° Passo - Verificar o valor do desvio padrão\n",
    "np.std(dados, axis=0) #Axis = 0 (array só possui uma coluna)"
   ]
  },
  {
   "cell_type": "code",
   "execution_count": 6,
   "metadata": {},
   "outputs": [],
   "source": [
    "# Definição de regras para considerar o valor como anômalo: O valor deve ser menor que (media - 2 * desvio_padrao )\n",
    "#  e deve ser maior que (media + 2 * desvio_padrao ), o intervalo desses valores são os valores válidos\n",
    "\n",
    "media = np.mean(dados, axis=0)\n",
    "desvio_padrao = np.std(dados, axis=0)"
   ]
  },
  {
   "cell_type": "code",
   "execution_count": 7,
   "metadata": {},
   "outputs": [
    {
     "data": {
      "text/plain": [
       "145.34400942663467"
      ]
     },
     "execution_count": 7,
     "metadata": {},
     "output_type": "execute_result"
    }
   ],
   "source": [
    "fronteira_menor = (media - (2 * desvio_padrao))\n",
    "fronteira_menor"
   ]
  },
  {
   "cell_type": "code",
   "execution_count": 8,
   "metadata": {},
   "outputs": [
    {
     "data": {
      "text/plain": [
       "915.3906844509164"
      ]
     },
     "execution_count": 8,
     "metadata": {},
     "output_type": "execute_result"
    }
   ],
   "source": [
    "fronteira_maior = (media + (2 * desvio_padrao))\n",
    "fronteira_maior"
   ]
  },
  {
   "cell_type": "code",
   "execution_count": 9,
   "metadata": {},
   "outputs": [
    {
     "name": "stdout",
     "output_type": "stream",
     "text": [
      "10\n",
      "20\n",
      "30\n"
     ]
    }
   ],
   "source": [
    "# Listar valores abaixo da fronteira_menor (abaixo da média em 2x o desvio padrão)\n",
    "for x in dados:\n",
    "    if(x < fronteira_menor):\n",
    "        print(x)"
   ]
  },
  {
   "cell_type": "code",
   "execution_count": 10,
   "metadata": {},
   "outputs": [
    {
     "name": "stdout",
     "output_type": "stream",
     "text": [
      "1300\n",
      "1350\n",
      "1400\n"
     ]
    }
   ],
   "source": [
    "# Listar valores acima da fronteira_maior (acima da média em 2x o desvio padrão)\n",
    "for x in dados:\n",
    "    if(x > fronteira_maior):\n",
    "        print(x)"
   ]
  },
  {
   "cell_type": "markdown",
   "metadata": {},
   "source": [
    "O problema de se encontrar dados anômalos pode ser resolvido através de substituição de valores pela média, calcular com alguma outra fórmula como a de distância entre outros e substituir os valores anômalos pelo da distância ou remover esses valores"
   ]
  },
  {
   "cell_type": "code",
   "execution_count": 11,
   "metadata": {},
   "outputs": [
    {
     "name": "stdout",
     "output_type": "stream",
     "text": [
      "[386, 479, 627, 523, 482, 483, 542, 699, 535, 617, 577, 471, 615, 583, 441, 562, 563, 527, 453, 530, 433, 541, 585, 704, 443, 569, 430, 637, 331, 511, 552, 496, 484, 566, 554, 472, 335, 440, 579, 341, 545, 615, 548, 604, 439, 556, 442, 461, 624, 611, 444, 578, 405, 487, 490, 496, 398, 512, 422, 455, 449, 432, 607, 679, 434, 597, 639, 565, 415, 486, 668, 414, 665, 763, 557, 304, 404, 454, 689, 610, 483, 441, 657, 590, 492, 476, 437, 483, 529, 363, 711, 543, 1300, 1350, 1400]\n"
     ]
    }
   ],
   "source": [
    "# Remoção de valores muito abaixo da média (menores que a fronteira_menor)\n",
    "dados = [x for x in dados if (x > fronteira_menor)]\n",
    "print(dados)"
   ]
  },
  {
   "cell_type": "code",
   "execution_count": 12,
   "metadata": {},
   "outputs": [
    {
     "name": "stdout",
     "output_type": "stream",
     "text": [
      "[386, 479, 627, 523, 482, 483, 542, 699, 535, 617, 577, 471, 615, 583, 441, 562, 563, 527, 453, 530, 433, 541, 585, 704, 443, 569, 430, 637, 331, 511, 552, 496, 484, 566, 554, 472, 335, 440, 579, 341, 545, 615, 548, 604, 439, 556, 442, 461, 624, 611, 444, 578, 405, 487, 490, 496, 398, 512, 422, 455, 449, 432, 607, 679, 434, 597, 639, 565, 415, 486, 668, 414, 665, 763, 557, 304, 404, 454, 689, 610, 483, 441, 657, 590, 492, 476, 437, 483, 529, 363, 711, 543]\n"
     ]
    }
   ],
   "source": [
    "# Remoção de valores muito acima da média (maiores que a fronteira_maior)\n",
    "dados = [x for x in dados if (x < fronteira_maior)]\n",
    "print(dados)"
   ]
  },
  {
   "cell_type": "code",
   "execution_count": 13,
   "metadata": {},
   "outputs": [
    {
     "data": {
      "image/png": "[encoded data removed]",
      "text/plain": [
       "<Figure size 432x288 with 1 Axes>"
      ]
     },
     "metadata": {},
     "output_type": "display_data"
    }
   ],
   "source": [
    "# Visualizando valores após a remoção dos dados anômalos:\n",
    "sns.boxplot(data=dados); # Todos os dados estão entre as fronteiras menor e maior"
   ]
  },
  {
   "cell_type": "markdown",
   "metadata": {},
   "source": [
    "## Pré-Processamento de dados - Discretização"
   ]
  },
  {
   "cell_type": "code",
   "execution_count": 14,
   "metadata": {},
   "outputs": [],
   "source": [
    "# Conjunto de dados de exemplo\n",
    "altura = [1.50,1.57,1.62,1.70,1.85,1.90]"
   ]
  },
  {
   "cell_type": "code",
   "execution_count": 15,
   "metadata": {},
   "outputs": [
    {
     "data": {
      "text/plain": [
       "[P, P, M, M, G, G]\n",
       "Categories (3, object): [P < M < G]"
      ]
     },
     "execution_count": 15,
     "metadata": {},
     "output_type": "execute_result"
    }
   ],
   "source": [
    "# Aplicando a discretização dos dados \n",
    "altura = pd.qcut(altura,3,labels=['P','M','G'])\n",
    "altura"
   ]
  },
  {
   "cell_type": "code",
   "execution_count": 16,
   "metadata": {},
   "outputs": [
    {
     "data": {
      "text/plain": [
       "P    2\n",
       "M    2\n",
       "G    2\n",
       "dtype: int64"
      ]
     },
     "execution_count": 16,
     "metadata": {},
     "output_type": "execute_result"
    }
   ],
   "source": [
    "# Verificar a quantidade de elementos em cada categoria\n",
    "altura.value_counts()"
   ]
  },
  {
   "cell_type": "code",
   "execution_count": 17,
   "metadata": {},
   "outputs": [],
   "source": [
    "# Ler o dataset\n",
    "dataset = pd.read_csv('../Datasets/kc_house_data.csv')"
   ]
  },
  {
   "cell_type": "code",
   "execution_count": 18,
   "metadata": {},
   "outputs": [
    {
     "data": {
      "text/plain": [
       "1.0    10679\n",
       "2.0     8241\n",
       "1.5     1910\n",
       "3.0      613\n",
       "2.5      161\n",
       "3.5        8\n",
       "Name: floors, dtype: int64"
      ]
     },
     "execution_count": 18,
     "metadata": {},
     "output_type": "execute_result"
    }
   ],
   "source": [
    "# Quantidade de registros por andares\n",
    "dataset['floors'].value_counts()"
   ]
  },
  {
   "cell_type": "markdown",
   "metadata": {},
   "source": [
    "Diferença dos métodos **cut** e **qcut** do pandas: O método _**qcut**_ faz com que você tenha a mesma quantidade de registros por agrupamento (baseado em amostras, uma certa parte dos registros). Já o método _**cut**_ permite particionar os dados em agrupamentos com tamanhos diferentes (de acordo com os valores em si e não com a frequência desses valores), nesse caso ocorrem freqüências mais altas nos compartimentos internos e menos no exterior."
   ]
  },
  {
   "cell_type": "code",
   "execution_count": 19,
   "metadata": {},
   "outputs": [],
   "source": [
    "# Discretizar os valores dos andares\n",
    "dataset['floors_labels'] = pd.cut(\n",
    "    dataset['floors'],\n",
    "    5,\n",
    "    labels=['Muito-Pequeno','Pequeno','Medio','Grande','Muito-Grande']\n",
    ")"
   ]
  },
  {
   "cell_type": "code",
   "execution_count": 20,
   "metadata": {},
   "outputs": [
    {
     "data": {
      "text/plain": [
       "[Muito-Pequeno, Pequeno, NaN, Grande, Medio, Muito-Grande]\n",
       "Categories (5, object): [Muito-Pequeno < Pequeno < Medio < Grande < Muito-Grande]"
      ]
     },
     "execution_count": 20,
     "metadata": {},
     "output_type": "execute_result"
    }
   ],
   "source": [
    "# Verificando valores únicos do dataset\n",
    "dataset['floors_labels'].unique()"
   ]
  },
  {
   "cell_type": "code",
   "execution_count": 21,
   "metadata": {},
   "outputs": [
    {
     "data": {
      "text/plain": [
       "Muito-Pequeno    12589\n",
       "Pequeno           8241\n",
       "Grande             613\n",
       "Medio              161\n",
       "Muito-Grande         8\n",
       "Name: floors_labels, dtype: int64"
      ]
     },
     "execution_count": 21,
     "metadata": {},
     "output_type": "execute_result"
    }
   ],
   "source": [
    "# Quantidade de registros por tamanho\n",
    "dataset['floors_labels'].value_counts()"
   ]
  },
  {
   "cell_type": "markdown",
   "metadata": {},
   "source": [
    "## Pré-Processamento de dados - Normalização"
   ]
  },
  {
   "cell_type": "markdown",
   "metadata": {},
   "source": [
    "#### norma L2 é definida como a raiz quadrada do somatório de todos os elementos do vetor ao quadrado."
   ]
  },
  {
   "cell_type": "code",
   "execution_count": 22,
   "metadata": {},
   "outputs": [],
   "source": [
    "# Importação das bibliotecas necessárias. OBS - A normalização altera o formato dos dados\n",
    "import warnings\n",
    "warnings.filterwarnings('ignore')\n",
    "from sklearn.preprocessing import Normalizer\n",
    "import numpy as np\n",
    "import seaborn as sns\n",
    "import matplotlib.pyplot as plt\n",
    "from sklearn.preprocessing import MinMaxScaler\n",
    "from sklearn.preprocessing import StandardScaler"
   ]
  },
  {
   "cell_type": "code",
   "execution_count": 23,
   "metadata": {},
   "outputs": [
    {
     "data": {
      "text/plain": [
       "[[-1, 2], [0.5, 6], [0, 10], [1, 18]]"
      ]
     },
     "execution_count": 23,
     "metadata": {},
     "output_type": "execute_result"
    }
   ],
   "source": [
    "data = [\n",
    "    [-1, 2],\n",
    "    [0.5, 6],\n",
    "    [0, 10],\n",
    "    [1, 18]\n",
    "]\n",
    "data"
   ]
  },
  {
   "cell_type": "code",
   "execution_count": 24,
   "metadata": {},
   "outputs": [
    {
     "data": {
      "text/plain": [
       "4.5625"
      ]
     },
     "execution_count": 24,
     "metadata": {},
     "output_type": "execute_result"
    }
   ],
   "source": [
    "# Média dos valores\n",
    "np.mean(data)"
   ]
  },
  {
   "cell_type": "code",
   "execution_count": 25,
   "metadata": {},
   "outputs": [
    {
     "data": {
      "image/png": "[encoded data removed]",
      "text/plain": [
       "<Figure size 432x288 with 1 Axes>"
      ]
     },
     "metadata": {},
     "output_type": "display_data"
    }
   ],
   "source": [
    "# Visualizar a distribuição dos dados\n",
    "sns.distplot(np.array(data).reshape(-1)) # Reshape transforma o array para um array em uma única dimensão\n",
    "plt.show()"
   ]
  },
  {
   "cell_type": "code",
   "execution_count": 26,
   "metadata": {},
   "outputs": [],
   "source": [
    "# Instanciando o normalizador pela norma L2\n",
    "normalizer = Normalizer().fit(data)"
   ]
  },
  {
   "cell_type": "code",
   "execution_count": 27,
   "metadata": {},
   "outputs": [
    {
     "data": {
      "text/plain": [
       "array([[-0.4472136 ,  0.89442719],\n",
       "       [ 0.08304548,  0.99654576],\n",
       "       [ 0.        ,  1.        ],\n",
       "       [ 0.05547002,  0.99846035]])"
      ]
     },
     "execution_count": 27,
     "metadata": {},
     "output_type": "execute_result"
    }
   ],
   "source": [
    "# Aplicando a normalização nos dados\n",
    "data2 = normalizer.transform(data)\n",
    "data2"
   ]
  },
  {
   "cell_type": "code",
   "execution_count": 28,
   "metadata": {},
   "outputs": [
    {
     "data": {
      "text/plain": [
       "0.4475919008033141"
      ]
     },
     "execution_count": 28,
     "metadata": {},
     "output_type": "execute_result"
    }
   ],
   "source": [
    "#  Valor da média dos dados normalizados\n",
    "np.mean(data2)"
   ]
  },
  {
   "cell_type": "code",
   "execution_count": 29,
   "metadata": {},
   "outputs": [
    {
     "data": {
      "image/png": "[encoded data removed]",
      "text/plain": [
       "<Figure size 432x288 with 1 Axes>"
      ]
     },
     "metadata": {},
     "output_type": "display_data"
    }
   ],
   "source": [
    "# Visualizar a distribuição dos dados\n",
    "sns.distplot(np.array(data2).reshape(-1)) # Reshape transforma o array para um array em uma única dimensão\n",
    "plt.show()"
   ]
  },
  {
   "cell_type": "markdown",
   "metadata": {},
   "source": [
    "## Técnicas de pre-processamento de Dados - Standartization"
   ]
  },
  {
   "cell_type": "markdown",
   "metadata": {},
   "source": [
    "**Standartization:** Padroniza os dados em uma mesma faixa de valores - Não altera sua distribuição"
   ]
  },
  {
   "cell_type": "code",
   "execution_count": 30,
   "metadata": {},
   "outputs": [
    {
     "data": {
      "text/plain": [
       "array([-1.79320968, -0.92860796,  0.47231967, -0.84095199,  1.58375859,\n",
       "        0.23408111,  1.48271448,  0.6880641 , -1.23590994, -0.28855698,\n",
       "       -0.44192256, -0.85985097,  0.02586363,  1.04415278, -1.40269428,\n",
       "        1.4026815 ,  0.36216392, -0.69466736,  1.9563017 , -1.0083131 ,\n",
       "        0.9039459 , -1.41987145, -0.91338887,  2.13179724, -1.15831913,\n",
       "        1.26037511,  0.2319117 ,  0.41115396, -0.8240993 ,  0.07109937,\n",
       "       -1.26030164, -0.674816  ,  0.05129264,  0.38620131, -0.22466791,\n",
       "        2.04674084, -0.41855657, -0.89178794,  0.92789623, -0.93889924,\n",
       "       -1.98684594,  0.57674215,  0.23687834,  0.07528216, -1.54331309,\n",
       "        0.18118747,  0.75943601, -1.84592551,  1.91802245, -1.1773897 ])"
      ]
     },
     "execution_count": 30,
     "metadata": {},
     "output_type": "execute_result"
    }
   ],
   "source": [
    "data = np.random.normal(size = 50)\n",
    "data"
   ]
  },
  {
   "cell_type": "code",
   "execution_count": 31,
   "metadata": {
    "scrolled": true
   },
   "outputs": [
    {
     "data": {
      "image/png": "[encoded data removed]",
      "text/plain": [
       "<Figure size 432x288 with 1 Axes>"
      ]
     },
     "metadata": {},
     "output_type": "display_data"
    }
   ],
   "source": [
    "# Visualizar a distribuição dos dados\n",
    "sns.distplot(np.array(data).reshape(-1))\n",
    "plt.show()"
   ]
  },
  {
   "cell_type": "code",
   "execution_count": 32,
   "metadata": {},
   "outputs": [
    {
     "data": {
      "text/plain": [
       "MinMaxScaler(copy=True, feature_range=(0, 1))"
      ]
     },
     "execution_count": 32,
     "metadata": {},
     "output_type": "execute_result"
    }
   ],
   "source": [
    "data = data.reshape(-1,1) #Reshape nos dados para usar o MinMaxScaler\n",
    "scaler = MinMaxScaler().fit(data)\n",
    "scaler"
   ]
  },
  {
   "cell_type": "code",
   "execution_count": 33,
   "metadata": {},
   "outputs": [
    {
     "name": "stdout",
     "output_type": "stream",
     "text": [
      "[[0.04701458]\n",
      " [0.25693849]\n",
      " [0.59708149]\n",
      " [0.27822122]\n",
      " [0.86693709]\n",
      " [0.53923755]\n",
      " [0.84240374]\n",
      " [0.64946389]\n",
      " [0.18232606]\n",
      " [0.41234185]\n",
      " [0.37510493]\n",
      " [0.27363258]\n",
      " [0.48868268]\n",
      " [0.73592166]\n",
      " [0.14183109]\n",
      " [0.82297186]\n",
      " [0.57033585]\n",
      " [0.3137389 ]\n",
      " [0.95738996]\n",
      " [0.23758621]\n",
      " [0.70187965]\n",
      " [0.1376605 ]\n",
      " [0.26063367]\n",
      " [1.        ]\n",
      " [0.20116499]\n",
      " [0.7884201 ]\n",
      " [0.53871082]\n",
      " [0.58223055]\n",
      " [0.28231303]\n",
      " [0.49966584]\n",
      " [0.1764038 ]\n",
      " [0.31855878]\n",
      " [0.4948568 ]\n",
      " [0.57617209]\n",
      " [0.42785402]\n",
      " [0.97934844]\n",
      " [0.38077816]\n",
      " [0.26587834]\n",
      " [0.70769475]\n",
      " [0.25443979]\n",
      " [0.        ]\n",
      " [0.6224351 ]\n",
      " [0.53991671]\n",
      " [0.50068142]\n",
      " [0.10768907]\n",
      " [0.52639506]\n",
      " [0.66679288]\n",
      " [0.03421526]\n",
      " [0.94809582]\n",
      " [0.19653468]]\n"
     ]
    }
   ],
   "source": [
    "data_scaled = scaler.transform(data)\n",
    "print(data_scaled)"
   ]
  },
  {
   "cell_type": "code",
   "execution_count": 34,
   "metadata": {},
   "outputs": [
    {
     "data": {
      "image/png": "[encoded data removed]",
      "text/plain": [
       "<Figure size 432x288 with 1 Axes>"
      ]
     },
     "metadata": {},
     "output_type": "display_data"
    }
   ],
   "source": [
    "# Não muda a forma do gráfico, mudará apenas a escala de valores (Muito útil para técnicas classificadoras como de distância onde precisam de valores que não sejam discrepantes entre todas as features - Padroniza esses valores)\n",
    "sns.distplot(np.array(data_scaled).reshape(-1))\n",
    "plt.show()"
   ]
  },
  {
   "cell_type": "markdown",
   "metadata": {},
   "source": [
    "## StandardScaler - Técnica de Pré-Processamento"
   ]
  },
  {
   "cell_type": "markdown",
   "metadata": {},
   "source": [
    "* Padroniza a escala dos dados sem interferir na sua forma\n",
    "\n",
    "* Mantém a escala dos dados mais fiel que a Técnica MinMaxScale"
   ]
  },
  {
   "cell_type": "code",
   "execution_count": 35,
   "metadata": {},
   "outputs": [
    {
     "name": "stdout",
     "output_type": "stream",
     "text": [
      "[ 0.58364845 -1.68187777  1.74109491  0.93785736 -0.33170127  1.35444321\n",
      "  1.08946392  0.28194211 -0.93502699  0.41029462  1.54426517 -0.46467671\n",
      " -0.97714875  0.11742002 -0.7780727   0.18807615 -0.47954085 -1.06038672\n",
      "  0.42819241 -0.12391455 -0.35801663  0.45362644 -0.88233462  0.02620134\n",
      "  1.6374075   0.33019805  1.55304711 -1.5800714   1.13581313  1.95757174\n",
      "  1.12062496 -0.65908893  0.9240547   0.79439378 -0.02514699 -0.47865501\n",
      "  1.96604485  1.76848482  0.5945975  -0.86233203 -1.44681454 -0.03686742\n",
      " -1.63299183 -0.71507659  2.08306789  0.64701478 -0.7746534  -1.41066874\n",
      " -1.05657491  0.14063564]\n"
     ]
    }
   ],
   "source": [
    "data = np.random.normal(size = 50)\n",
    "print(data)"
   ]
  },
  {
   "cell_type": "code",
   "execution_count": 36,
   "metadata": {},
   "outputs": [
    {
     "data": {
      "image/png": "[encoded data removed]",
      "text/plain": [
       "<Figure size 432x288 with 1 Axes>"
      ]
     },
     "metadata": {},
     "output_type": "display_data"
    }
   ],
   "source": [
    "sns.distplot(np.array(data).reshape(-1))\n",
    "plt.show()"
   ]
  },
  {
   "cell_type": "code",
   "execution_count": 37,
   "metadata": {},
   "outputs": [],
   "source": [
    "data = data.reshape(-1,1) #Reshape nos dados para usar o StandardScaler\n",
    "scaler = StandardScaler().fit(data)"
   ]
  },
  {
   "cell_type": "code",
   "execution_count": 38,
   "metadata": {},
   "outputs": [
    {
     "name": "stdout",
     "output_type": "stream",
     "text": [
      "[[ 4.20805056e-01]\n",
      " [-1.73368765e+00]\n",
      " [ 1.52152503e+00]\n",
      " [ 7.57654178e-01]\n",
      " [-4.49683340e-01]\n",
      " [ 1.15382314e+00]\n",
      " [ 9.01830500e-01]\n",
      " [ 1.33885357e-01]\n",
      " [-1.02344005e+00]\n",
      " [ 2.55947304e-01]\n",
      " [ 1.33434192e+00]\n",
      " [-5.76141653e-01]\n",
      " [-1.06349742e+00]\n",
      " [-2.25734983e-02]\n",
      " [-8.74178092e-01]\n",
      " [ 4.46197692e-02]\n",
      " [-5.90277298e-01]\n",
      " [-1.14265590e+00]\n",
      " [ 2.72967929e-01]\n",
      " [-2.52080254e-01]\n",
      " [-4.74708984e-01]\n",
      " [ 2.97155433e-01]\n",
      " [-9.73330138e-01]\n",
      " [-1.09321552e-01]\n",
      " [ 1.42291935e+00]\n",
      " [ 1.79776272e-01]\n",
      " [ 1.34269346e+00]\n",
      " [-1.63687081e+00]\n",
      " [ 9.45908130e-01]\n",
      " [ 1.72739233e+00]\n",
      " [ 9.31464330e-01]\n",
      " [-7.61025720e-01]\n",
      " [ 7.44527984e-01]\n",
      " [ 6.21221757e-01]\n",
      " [-1.58153299e-01]\n",
      " [-5.89434877e-01]\n",
      " [ 1.73545017e+00]\n",
      " [ 1.54757256e+00]\n",
      " [ 4.31217498e-01]\n",
      " [-9.54307873e-01]\n",
      " [-1.51014488e+00]\n",
      " [-1.69299308e-01]\n",
      " [-1.68719761e+00]\n",
      " [-8.14269425e-01]\n",
      " [ 1.84673791e+00]\n",
      " [ 4.81065802e-01]\n",
      " [-8.70926371e-01]\n",
      " [-1.47577058e+00]\n",
      " [-1.13903090e+00]\n",
      " [-4.95681217e-04]]\n"
     ]
    }
   ],
   "source": [
    "data_scaled = scaler.transform(data)\n",
    "print(data_scaled)"
   ]
  },
  {
   "cell_type": "code",
   "execution_count": 39,
   "metadata": {},
   "outputs": [
    {
     "data": {
      "image/png": "[encoded data removed]",
      "text/plain": [
       "<Figure size 432x288 with 1 Axes>"
      ]
     },
     "metadata": {},
     "output_type": "display_data"
    }
   ],
   "source": [
    "sns.distplot(np.array(data_scaled).reshape(-1))\n",
    "plt.show()"
   ]
  }
 ],
 "metadata": {
  "kernelspec": {
   "display_name": "Python 3",
   "language": "python",
   "name": "python3"
  },
  "language_info": {
   "codemirror_mode": {
    "name": "ipython",
    "version": 3
   },
   "file_extension": ".py",
   "mimetype": "text/x-python",
   "name": "python",
   "nbconvert_exporter": "python",
   "pygments_lexer": "ipython3",
   "version": "3.7.4"
  }
 },
 "nbformat": 4,
 "nbformat_minor": 4
}
