{
 "cells": [
  {
   "cell_type": "markdown",
   "metadata": {
    "colab_type": "text",
    "id": "A_cVWXF199fN"
   },
   "source": [
    "# Estudando Pandas"
   ]
  },
  {
   "cell_type": "code",
   "execution_count": 1,
   "metadata": {
    "colab": {},
    "colab_type": "code",
    "id": "Jo6vdi8C99fQ"
   },
   "outputs": [],
   "source": [
    "#Importação do pandas\n",
    "import pandas as pd"
   ]
  },
  {
   "cell_type": "markdown",
   "metadata": {
    "colab_type": "text",
    "id": "65LC9TuaOtOp"
   },
   "source": [
    "## Importar csv direto do Google Drive - Para usar no Google Collab\n",
    "\n",
    "\n"
   ]
  },
  {
   "cell_type": "code",
   "execution_count": 2,
   "metadata": {
    "colab": {},
    "colab_type": "code",
    "id": "XmEV3cdPNqQ7"
   },
   "outputs": [],
   "source": [
    "# Instale o PyDrive\n",
    "!pip install -U -q PyDrive"
   ]
  },
  {
   "cell_type": "code",
   "execution_count": null,
   "metadata": {
    "colab": {},
    "colab_type": "code",
    "id": "abt_WG9J_Ftc"
   },
   "outputs": [],
   "source": [
    "# Faça o import das bibliotecas de autenticação e permissão do Google\n",
    "from pydrive.auth import GoogleAuth\n",
    "from pydrive.drive import GoogleDrive \n",
    "from google.colab import auth\n",
    "from oauth2client.client import GoogleCredentials"
   ]
  },
  {
   "cell_type": "code",
   "execution_count": null,
   "metadata": {
    "colab": {},
    "colab_type": "code",
    "id": "GD9ueDCEO_zI"
   },
   "outputs": [],
   "source": [
    "# Faça a autenticação com sua conta do Google e crie o PyDrive client.\n",
    "auth.authenticate_user()\n",
    "gauth = GoogleAuth()\n",
    "gauth.credentials = GoogleCredentials.get_application_default()\n",
    "drive = GoogleDrive(gauth)"
   ]
  },
  {
   "cell_type": "code",
   "execution_count": null,
   "metadata": {
    "colab": {},
    "colab_type": "code",
    "id": "QrnMSOfsPTIZ"
   },
   "outputs": [],
   "source": [
    "# Pegue o link do dataset CSV que vc deseja usar \n",
    "link = 'https://drive.google.com/open?id=1JNOjcLoA7rMUHdRT8KsMVky1aW_gok1M'"
   ]
  },
  {
   "cell_type": "code",
   "execution_count": null,
   "metadata": {
    "colab": {
     "base_uri": "https://localhost:8080/",
     "height": 34
    },
    "colab_type": "code",
    "executionInfo": {
     "elapsed": 1067,
     "status": "ok",
     "timestamp": 1574609223231,
     "user": {
      "displayName": "Gabi Viana",
      "photoUrl": "https://lh3.googleusercontent.com/a-/AAuE7mCN9Wk9exJ_22F0JqdZg4i1xWtS2hPF-RE9jdnw1Ns=s64",
      "userId": "10583305263505777863"
     },
     "user_tz": 180
    },
    "id": "smzq30cWPjSt",
    "outputId": "b30c0bd5-a907-477b-9afe-1dbb3f06a02a"
   },
   "outputs": [],
   "source": [
    "# Vamos  usar somente o ID, então separe o que tiver antes do símbolo =\n",
    "fluff, id = link.split('=')\n",
    "print(id)"
   ]
  },
  {
   "cell_type": "code",
   "execution_count": null,
   "metadata": {
    "colab": {},
    "colab_type": "code",
    "id": "Y9cBWdLOPsM7"
   },
   "outputs": [],
   "source": [
    "# Carregando o dataset para um DataFrame Pandas\n",
    "downloaded = drive.CreateFile({'id':id}) \n",
    "downloaded.GetContentFile('kc_house_data.csv')\n",
    "data = pd.read_csv('kc_house_data.csv')"
   ]
  },
  {
   "cell_type": "markdown",
   "metadata": {
    "colab_type": "text",
    "id": "gp39IL7oQepN"
   },
   "source": [
    "## Fazer leitura do csv da pasta local\n",
    "\n"
   ]
  },
  {
   "cell_type": "code",
   "execution_count": 3,
   "metadata": {
    "colab": {},
    "colab_type": "code",
    "id": "7rW9tF4K99fV",
    "outputId": "e9860418-b18d-4668-e2b5-0a9c7aabc7ef"
   },
   "outputs": [
    {
     "data": {
      "text/plain": [
       "pandas.core.frame.DataFrame"
      ]
     },
     "execution_count": 3,
     "metadata": {},
     "output_type": "execute_result"
    }
   ],
   "source": [
    "# Leitura de um arquivo .csv (sep = separador dos dados; header =  informar em qual linha está o cabeçalho do arquivo- header=None => pandas gera um número como header)\n",
    "file = '../Datasets/kc_house_data.csv' #Declarando o caminho do arquivo a ser usado nos testes\n",
    "data = pd.read_csv(file, sep=',', header=0)\n",
    "type(data) #Criou um objeto do tipo DataFrame"
   ]
  },
  {
   "cell_type": "code",
   "execution_count": 4,
   "metadata": {
    "colab": {
     "base_uri": "https://localhost:8080/",
     "height": 224
    },
    "colab_type": "code",
    "executionInfo": {
     "elapsed": 582,
     "status": "ok",
     "timestamp": 1574609234361,
     "user": {
      "displayName": "Gabi Viana",
      "photoUrl": "https://lh3.googleusercontent.com/a-/AAuE7mCN9Wk9exJ_22F0JqdZg4i1xWtS2hPF-RE9jdnw1Ns=s64",
      "userId": "10583305263505777863"
     },
     "user_tz": 180
    },
    "id": "xDwUO-QK99fd",
    "outputId": "d38098b8-4b11-42fd-d39f-021f1a49a588"
   },
   "outputs": [
    {
     "data": {
      "text/html": [
       "<div>\n",
       "<style scoped>\n",
       "    .dataframe tbody tr th:only-of-type {\n",
       "        vertical-align: middle;\n",
       "    }\n",
       "\n",
       "    .dataframe tbody tr th {\n",
       "        vertical-align: top;\n",
       "    }\n",
       "\n",
       "    .dataframe thead th {\n",
       "        text-align: right;\n",
       "    }\n",
       "</style>\n",
       "<table border=\"1\" class=\"dataframe\">\n",
       "  <thead>\n",
       "    <tr style=\"text-align: right;\">\n",
       "      <th></th>\n",
       "      <th>id</th>\n",
       "      <th>date</th>\n",
       "      <th>price</th>\n",
       "      <th>bedrooms</th>\n",
       "      <th>bathrooms</th>\n",
       "      <th>sqft_living</th>\n",
       "      <th>sqft_lot</th>\n",
       "      <th>floors</th>\n",
       "      <th>waterfront</th>\n",
       "      <th>view</th>\n",
       "      <th>...</th>\n",
       "      <th>grade</th>\n",
       "      <th>sqft_above</th>\n",
       "      <th>sqft_basement</th>\n",
       "      <th>yr_built</th>\n",
       "      <th>yr_renovated</th>\n",
       "      <th>zipcode</th>\n",
       "      <th>lat</th>\n",
       "      <th>long</th>\n",
       "      <th>sqft_living15</th>\n",
       "      <th>sqft_lot15</th>\n",
       "    </tr>\n",
       "  </thead>\n",
       "  <tbody>\n",
       "    <tr>\n",
       "      <td>0</td>\n",
       "      <td>7129300520</td>\n",
       "      <td>20141013T000000</td>\n",
       "      <td>221900.0</td>\n",
       "      <td>3.0</td>\n",
       "      <td>1.00</td>\n",
       "      <td>1180</td>\n",
       "      <td>5650</td>\n",
       "      <td>1.0</td>\n",
       "      <td>0</td>\n",
       "      <td>0</td>\n",
       "      <td>...</td>\n",
       "      <td>7</td>\n",
       "      <td>1180</td>\n",
       "      <td>0</td>\n",
       "      <td>1955</td>\n",
       "      <td>0</td>\n",
       "      <td>98178</td>\n",
       "      <td>47.5112</td>\n",
       "      <td>-122.257</td>\n",
       "      <td>1340</td>\n",
       "      <td>5650</td>\n",
       "    </tr>\n",
       "    <tr>\n",
       "      <td>1</td>\n",
       "      <td>6414100192</td>\n",
       "      <td>20141209T000000</td>\n",
       "      <td>538000.0</td>\n",
       "      <td>3.0</td>\n",
       "      <td>2.25</td>\n",
       "      <td>2570</td>\n",
       "      <td>7242</td>\n",
       "      <td>2.0</td>\n",
       "      <td>0</td>\n",
       "      <td>0</td>\n",
       "      <td>...</td>\n",
       "      <td>7</td>\n",
       "      <td>2170</td>\n",
       "      <td>400</td>\n",
       "      <td>1951</td>\n",
       "      <td>1991</td>\n",
       "      <td>98125</td>\n",
       "      <td>47.7210</td>\n",
       "      <td>-122.319</td>\n",
       "      <td>1690</td>\n",
       "      <td>7639</td>\n",
       "    </tr>\n",
       "    <tr>\n",
       "      <td>2</td>\n",
       "      <td>5631500400</td>\n",
       "      <td>20150225T000000</td>\n",
       "      <td>180000.0</td>\n",
       "      <td>2.0</td>\n",
       "      <td>1.00</td>\n",
       "      <td>770</td>\n",
       "      <td>10000</td>\n",
       "      <td>1.0</td>\n",
       "      <td>0</td>\n",
       "      <td>0</td>\n",
       "      <td>...</td>\n",
       "      <td>6</td>\n",
       "      <td>770</td>\n",
       "      <td>0</td>\n",
       "      <td>1933</td>\n",
       "      <td>0</td>\n",
       "      <td>98028</td>\n",
       "      <td>47.7379</td>\n",
       "      <td>-122.233</td>\n",
       "      <td>2720</td>\n",
       "      <td>8062</td>\n",
       "    </tr>\n",
       "    <tr>\n",
       "      <td>3</td>\n",
       "      <td>2487200875</td>\n",
       "      <td>20141209T000000</td>\n",
       "      <td>604000.0</td>\n",
       "      <td>4.0</td>\n",
       "      <td>3.00</td>\n",
       "      <td>1960</td>\n",
       "      <td>5000</td>\n",
       "      <td>1.0</td>\n",
       "      <td>0</td>\n",
       "      <td>0</td>\n",
       "      <td>...</td>\n",
       "      <td>7</td>\n",
       "      <td>1050</td>\n",
       "      <td>910</td>\n",
       "      <td>1965</td>\n",
       "      <td>0</td>\n",
       "      <td>98136</td>\n",
       "      <td>47.5208</td>\n",
       "      <td>-122.393</td>\n",
       "      <td>1360</td>\n",
       "      <td>5000</td>\n",
       "    </tr>\n",
       "    <tr>\n",
       "      <td>4</td>\n",
       "      <td>1954400510</td>\n",
       "      <td>20150218T000000</td>\n",
       "      <td>510000.0</td>\n",
       "      <td>3.0</td>\n",
       "      <td>2.00</td>\n",
       "      <td>1680</td>\n",
       "      <td>8080</td>\n",
       "      <td>1.0</td>\n",
       "      <td>0</td>\n",
       "      <td>0</td>\n",
       "      <td>...</td>\n",
       "      <td>8</td>\n",
       "      <td>1680</td>\n",
       "      <td>0</td>\n",
       "      <td>1987</td>\n",
       "      <td>0</td>\n",
       "      <td>98074</td>\n",
       "      <td>47.6168</td>\n",
       "      <td>-122.045</td>\n",
       "      <td>1800</td>\n",
       "      <td>7503</td>\n",
       "    </tr>\n",
       "  </tbody>\n",
       "</table>\n",
       "<p>5 rows × 21 columns</p>\n",
       "</div>"
      ],
      "text/plain": [
       "           id             date     price  bedrooms  bathrooms  sqft_living  \\\n",
       "0  7129300520  20141013T000000  221900.0       3.0       1.00         1180   \n",
       "1  6414100192  20141209T000000  538000.0       3.0       2.25         2570   \n",
       "2  5631500400  20150225T000000  180000.0       2.0       1.00          770   \n",
       "3  2487200875  20141209T000000  604000.0       4.0       3.00         1960   \n",
       "4  1954400510  20150218T000000  510000.0       3.0       2.00         1680   \n",
       "\n",
       "   sqft_lot  floors  waterfront  view  ...  grade  sqft_above  sqft_basement  \\\n",
       "0      5650     1.0           0     0  ...      7        1180              0   \n",
       "1      7242     2.0           0     0  ...      7        2170            400   \n",
       "2     10000     1.0           0     0  ...      6         770              0   \n",
       "3      5000     1.0           0     0  ...      7        1050            910   \n",
       "4      8080     1.0           0     0  ...      8        1680              0   \n",
       "\n",
       "   yr_built  yr_renovated  zipcode      lat     long  sqft_living15  \\\n",
       "0      1955             0    98178  47.5112 -122.257           1340   \n",
       "1      1951          1991    98125  47.7210 -122.319           1690   \n",
       "2      1933             0    98028  47.7379 -122.233           2720   \n",
       "3      1965             0    98136  47.5208 -122.393           1360   \n",
       "4      1987             0    98074  47.6168 -122.045           1800   \n",
       "\n",
       "   sqft_lot15  \n",
       "0        5650  \n",
       "1        7639  \n",
       "2        8062  \n",
       "3        5000  \n",
       "4        7503  \n",
       "\n",
       "[5 rows x 21 columns]"
      ]
     },
     "execution_count": 4,
     "metadata": {},
     "output_type": "execute_result"
    }
   ],
   "source": [
    "# Imprime as 5 primeiras linhas do dataset\n",
    "data.head()\n",
    "#Imprime as 100 primeiras linhas\n",
    "# data.head(100)"
   ]
  },
  {
   "cell_type": "code",
   "execution_count": 5,
   "metadata": {
    "colab": {
     "base_uri": "https://localhost:8080/",
     "height": 224
    },
    "colab_type": "code",
    "executionInfo": {
     "elapsed": 688,
     "status": "ok",
     "timestamp": 1574609239255,
     "user": {
      "displayName": "Gabi Viana",
      "photoUrl": "https://lh3.googleusercontent.com/a-/AAuE7mCN9Wk9exJ_22F0JqdZg4i1xWtS2hPF-RE9jdnw1Ns=s64",
      "userId": "10583305263505777863"
     },
     "user_tz": 180
    },
    "id": "RT8UXjyv99fg",
    "outputId": "02f6097f-6547-4a32-a7d8-85b478ffe57c"
   },
   "outputs": [
    {
     "data": {
      "text/html": [
       "<div>\n",
       "<style scoped>\n",
       "    .dataframe tbody tr th:only-of-type {\n",
       "        vertical-align: middle;\n",
       "    }\n",
       "\n",
       "    .dataframe tbody tr th {\n",
       "        vertical-align: top;\n",
       "    }\n",
       "\n",
       "    .dataframe thead th {\n",
       "        text-align: right;\n",
       "    }\n",
       "</style>\n",
       "<table border=\"1\" class=\"dataframe\">\n",
       "  <thead>\n",
       "    <tr style=\"text-align: right;\">\n",
       "      <th></th>\n",
       "      <th>id</th>\n",
       "      <th>date</th>\n",
       "      <th>price</th>\n",
       "      <th>bedrooms</th>\n",
       "      <th>bathrooms</th>\n",
       "      <th>sqft_living</th>\n",
       "      <th>sqft_lot</th>\n",
       "      <th>floors</th>\n",
       "      <th>waterfront</th>\n",
       "      <th>view</th>\n",
       "      <th>...</th>\n",
       "      <th>grade</th>\n",
       "      <th>sqft_above</th>\n",
       "      <th>sqft_basement</th>\n",
       "      <th>yr_built</th>\n",
       "      <th>yr_renovated</th>\n",
       "      <th>zipcode</th>\n",
       "      <th>lat</th>\n",
       "      <th>long</th>\n",
       "      <th>sqft_living15</th>\n",
       "      <th>sqft_lot15</th>\n",
       "    </tr>\n",
       "  </thead>\n",
       "  <tbody>\n",
       "    <tr>\n",
       "      <td>21608</td>\n",
       "      <td>263000018</td>\n",
       "      <td>20140521T000000</td>\n",
       "      <td>360000.0</td>\n",
       "      <td>3.0</td>\n",
       "      <td>2.50</td>\n",
       "      <td>1530</td>\n",
       "      <td>1131</td>\n",
       "      <td>3.0</td>\n",
       "      <td>0</td>\n",
       "      <td>0</td>\n",
       "      <td>...</td>\n",
       "      <td>8</td>\n",
       "      <td>1530</td>\n",
       "      <td>0</td>\n",
       "      <td>2009</td>\n",
       "      <td>0</td>\n",
       "      <td>98103</td>\n",
       "      <td>47.6993</td>\n",
       "      <td>-122.346</td>\n",
       "      <td>1530</td>\n",
       "      <td>1509</td>\n",
       "    </tr>\n",
       "    <tr>\n",
       "      <td>21609</td>\n",
       "      <td>6600060120</td>\n",
       "      <td>20150223T000000</td>\n",
       "      <td>400000.0</td>\n",
       "      <td>4.0</td>\n",
       "      <td>2.50</td>\n",
       "      <td>2310</td>\n",
       "      <td>5813</td>\n",
       "      <td>2.0</td>\n",
       "      <td>0</td>\n",
       "      <td>0</td>\n",
       "      <td>...</td>\n",
       "      <td>8</td>\n",
       "      <td>2310</td>\n",
       "      <td>0</td>\n",
       "      <td>2014</td>\n",
       "      <td>0</td>\n",
       "      <td>98146</td>\n",
       "      <td>47.5107</td>\n",
       "      <td>-122.362</td>\n",
       "      <td>1830</td>\n",
       "      <td>7200</td>\n",
       "    </tr>\n",
       "    <tr>\n",
       "      <td>21610</td>\n",
       "      <td>1523300141</td>\n",
       "      <td>20140623T000000</td>\n",
       "      <td>402101.0</td>\n",
       "      <td>2.0</td>\n",
       "      <td>0.75</td>\n",
       "      <td>1020</td>\n",
       "      <td>1350</td>\n",
       "      <td>2.0</td>\n",
       "      <td>0</td>\n",
       "      <td>0</td>\n",
       "      <td>...</td>\n",
       "      <td>7</td>\n",
       "      <td>1020</td>\n",
       "      <td>0</td>\n",
       "      <td>2009</td>\n",
       "      <td>0</td>\n",
       "      <td>98144</td>\n",
       "      <td>47.5944</td>\n",
       "      <td>-122.299</td>\n",
       "      <td>1020</td>\n",
       "      <td>2007</td>\n",
       "    </tr>\n",
       "    <tr>\n",
       "      <td>21611</td>\n",
       "      <td>291310100</td>\n",
       "      <td>20150116T000000</td>\n",
       "      <td>400000.0</td>\n",
       "      <td>3.0</td>\n",
       "      <td>2.50</td>\n",
       "      <td>1600</td>\n",
       "      <td>2388</td>\n",
       "      <td>2.0</td>\n",
       "      <td>0</td>\n",
       "      <td>0</td>\n",
       "      <td>...</td>\n",
       "      <td>8</td>\n",
       "      <td>1600</td>\n",
       "      <td>0</td>\n",
       "      <td>2004</td>\n",
       "      <td>0</td>\n",
       "      <td>98027</td>\n",
       "      <td>47.5345</td>\n",
       "      <td>-122.069</td>\n",
       "      <td>1410</td>\n",
       "      <td>1287</td>\n",
       "    </tr>\n",
       "    <tr>\n",
       "      <td>21612</td>\n",
       "      <td>1523300157</td>\n",
       "      <td>20141015T000000</td>\n",
       "      <td>325000.0</td>\n",
       "      <td>2.0</td>\n",
       "      <td>0.75</td>\n",
       "      <td>1020</td>\n",
       "      <td>1076</td>\n",
       "      <td>2.0</td>\n",
       "      <td>0</td>\n",
       "      <td>0</td>\n",
       "      <td>...</td>\n",
       "      <td>7</td>\n",
       "      <td>1020</td>\n",
       "      <td>0</td>\n",
       "      <td>2008</td>\n",
       "      <td>0</td>\n",
       "      <td>98144</td>\n",
       "      <td>47.5941</td>\n",
       "      <td>-122.299</td>\n",
       "      <td>1020</td>\n",
       "      <td>1357</td>\n",
       "    </tr>\n",
       "  </tbody>\n",
       "</table>\n",
       "<p>5 rows × 21 columns</p>\n",
       "</div>"
      ],
      "text/plain": [
       "               id             date     price  bedrooms  bathrooms  \\\n",
       "21608   263000018  20140521T000000  360000.0       3.0       2.50   \n",
       "21609  6600060120  20150223T000000  400000.0       4.0       2.50   \n",
       "21610  1523300141  20140623T000000  402101.0       2.0       0.75   \n",
       "21611   291310100  20150116T000000  400000.0       3.0       2.50   \n",
       "21612  1523300157  20141015T000000  325000.0       2.0       0.75   \n",
       "\n",
       "       sqft_living  sqft_lot  floors  waterfront  view  ...  grade  \\\n",
       "21608         1530      1131     3.0           0     0  ...      8   \n",
       "21609         2310      5813     2.0           0     0  ...      8   \n",
       "21610         1020      1350     2.0           0     0  ...      7   \n",
       "21611         1600      2388     2.0           0     0  ...      8   \n",
       "21612         1020      1076     2.0           0     0  ...      7   \n",
       "\n",
       "       sqft_above  sqft_basement  yr_built  yr_renovated  zipcode      lat  \\\n",
       "21608        1530              0      2009             0    98103  47.6993   \n",
       "21609        2310              0      2014             0    98146  47.5107   \n",
       "21610        1020              0      2009             0    98144  47.5944   \n",
       "21611        1600              0      2004             0    98027  47.5345   \n",
       "21612        1020              0      2008             0    98144  47.5941   \n",
       "\n",
       "          long  sqft_living15  sqft_lot15  \n",
       "21608 -122.346           1530        1509  \n",
       "21609 -122.362           1830        7200  \n",
       "21610 -122.299           1020        2007  \n",
       "21611 -122.069           1410        1287  \n",
       "21612 -122.299           1020        1357  \n",
       "\n",
       "[5 rows x 21 columns]"
      ]
     },
     "execution_count": 5,
     "metadata": {},
     "output_type": "execute_result"
    }
   ],
   "source": [
    "# Imprime as 5 últimas linhas do dataset\n",
    "data.tail()"
   ]
  },
  {
   "cell_type": "code",
   "execution_count": 6,
   "metadata": {
    "colab": {
     "base_uri": "https://localhost:8080/",
     "height": 224
    },
    "colab_type": "code",
    "executionInfo": {
     "elapsed": 527,
     "status": "ok",
     "timestamp": 1574609242715,
     "user": {
      "displayName": "Gabi Viana",
      "photoUrl": "https://lh3.googleusercontent.com/a-/AAuE7mCN9Wk9exJ_22F0JqdZg4i1xWtS2hPF-RE9jdnw1Ns=s64",
      "userId": "10583305263505777863"
     },
     "user_tz": 180
    },
    "id": "-Yr8d1q499fk",
    "outputId": "07654d55-1ad2-4932-cb3a-2f114a5f58a8"
   },
   "outputs": [
    {
     "data": {
      "text/html": [
       "<div>\n",
       "<style scoped>\n",
       "    .dataframe tbody tr th:only-of-type {\n",
       "        vertical-align: middle;\n",
       "    }\n",
       "\n",
       "    .dataframe tbody tr th {\n",
       "        vertical-align: top;\n",
       "    }\n",
       "\n",
       "    .dataframe thead th {\n",
       "        text-align: right;\n",
       "    }\n",
       "</style>\n",
       "<table border=\"1\" class=\"dataframe\">\n",
       "  <thead>\n",
       "    <tr style=\"text-align: right;\">\n",
       "      <th></th>\n",
       "      <th>id</th>\n",
       "      <th>date</th>\n",
       "      <th>price</th>\n",
       "      <th>bedrooms</th>\n",
       "      <th>bathrooms</th>\n",
       "      <th>sqft_living</th>\n",
       "      <th>sqft_lot</th>\n",
       "      <th>floors</th>\n",
       "      <th>waterfront</th>\n",
       "      <th>view</th>\n",
       "      <th>...</th>\n",
       "      <th>grade</th>\n",
       "      <th>sqft_above</th>\n",
       "      <th>sqft_basement</th>\n",
       "      <th>yr_built</th>\n",
       "      <th>yr_renovated</th>\n",
       "      <th>zipcode</th>\n",
       "      <th>lat</th>\n",
       "      <th>long</th>\n",
       "      <th>sqft_living15</th>\n",
       "      <th>sqft_lot15</th>\n",
       "    </tr>\n",
       "  </thead>\n",
       "  <tbody>\n",
       "    <tr>\n",
       "      <td>4974</td>\n",
       "      <td>280610020</td>\n",
       "      <td>20140902T000000</td>\n",
       "      <td>825000.0</td>\n",
       "      <td>4.0</td>\n",
       "      <td>3.25</td>\n",
       "      <td>4110</td>\n",
       "      <td>14219</td>\n",
       "      <td>2.0</td>\n",
       "      <td>0</td>\n",
       "      <td>2</td>\n",
       "      <td>...</td>\n",
       "      <td>10</td>\n",
       "      <td>2570</td>\n",
       "      <td>1540</td>\n",
       "      <td>1979</td>\n",
       "      <td>0</td>\n",
       "      <td>98028</td>\n",
       "      <td>47.7382</td>\n",
       "      <td>-122.264</td>\n",
       "      <td>2760</td>\n",
       "      <td>12283</td>\n",
       "    </tr>\n",
       "    <tr>\n",
       "      <td>14759</td>\n",
       "      <td>422049203</td>\n",
       "      <td>20141024T000000</td>\n",
       "      <td>239000.0</td>\n",
       "      <td>3.0</td>\n",
       "      <td>1.50</td>\n",
       "      <td>1330</td>\n",
       "      <td>6540</td>\n",
       "      <td>1.0</td>\n",
       "      <td>0</td>\n",
       "      <td>0</td>\n",
       "      <td>...</td>\n",
       "      <td>7</td>\n",
       "      <td>900</td>\n",
       "      <td>430</td>\n",
       "      <td>1971</td>\n",
       "      <td>0</td>\n",
       "      <td>98188</td>\n",
       "      <td>47.4239</td>\n",
       "      <td>-122.292</td>\n",
       "      <td>1400</td>\n",
       "      <td>11500</td>\n",
       "    </tr>\n",
       "    <tr>\n",
       "      <td>4192</td>\n",
       "      <td>4083304535</td>\n",
       "      <td>20141114T000000</td>\n",
       "      <td>1045000.0</td>\n",
       "      <td>4.0</td>\n",
       "      <td>2.75</td>\n",
       "      <td>2950</td>\n",
       "      <td>4560</td>\n",
       "      <td>2.0</td>\n",
       "      <td>0</td>\n",
       "      <td>0</td>\n",
       "      <td>...</td>\n",
       "      <td>7</td>\n",
       "      <td>1810</td>\n",
       "      <td>1140</td>\n",
       "      <td>1912</td>\n",
       "      <td>0</td>\n",
       "      <td>98103</td>\n",
       "      <td>47.6525</td>\n",
       "      <td>-122.333</td>\n",
       "      <td>2000</td>\n",
       "      <td>4560</td>\n",
       "    </tr>\n",
       "    <tr>\n",
       "      <td>18710</td>\n",
       "      <td>7205510230</td>\n",
       "      <td>20150306T000000</td>\n",
       "      <td>280000.0</td>\n",
       "      <td>3.0</td>\n",
       "      <td>2.25</td>\n",
       "      <td>1700</td>\n",
       "      <td>7210</td>\n",
       "      <td>1.0</td>\n",
       "      <td>0</td>\n",
       "      <td>0</td>\n",
       "      <td>...</td>\n",
       "      <td>7</td>\n",
       "      <td>1250</td>\n",
       "      <td>450</td>\n",
       "      <td>1974</td>\n",
       "      <td>0</td>\n",
       "      <td>98003</td>\n",
       "      <td>47.3546</td>\n",
       "      <td>-122.318</td>\n",
       "      <td>2070</td>\n",
       "      <td>7300</td>\n",
       "    </tr>\n",
       "    <tr>\n",
       "      <td>2503</td>\n",
       "      <td>1781500435</td>\n",
       "      <td>20150225T000000</td>\n",
       "      <td>575000.0</td>\n",
       "      <td>3.0</td>\n",
       "      <td>1.75</td>\n",
       "      <td>1580</td>\n",
       "      <td>7344</td>\n",
       "      <td>1.0</td>\n",
       "      <td>0</td>\n",
       "      <td>0</td>\n",
       "      <td>...</td>\n",
       "      <td>7</td>\n",
       "      <td>1580</td>\n",
       "      <td>0</td>\n",
       "      <td>1911</td>\n",
       "      <td>0</td>\n",
       "      <td>98126</td>\n",
       "      <td>47.5256</td>\n",
       "      <td>-122.380</td>\n",
       "      <td>1580</td>\n",
       "      <td>6207</td>\n",
       "    </tr>\n",
       "  </tbody>\n",
       "</table>\n",
       "<p>5 rows × 21 columns</p>\n",
       "</div>"
      ],
      "text/plain": [
       "               id             date      price  bedrooms  bathrooms  \\\n",
       "4974    280610020  20140902T000000   825000.0       4.0       3.25   \n",
       "14759   422049203  20141024T000000   239000.0       3.0       1.50   \n",
       "4192   4083304535  20141114T000000  1045000.0       4.0       2.75   \n",
       "18710  7205510230  20150306T000000   280000.0       3.0       2.25   \n",
       "2503   1781500435  20150225T000000   575000.0       3.0       1.75   \n",
       "\n",
       "       sqft_living  sqft_lot  floors  waterfront  view  ...  grade  \\\n",
       "4974          4110     14219     2.0           0     2  ...     10   \n",
       "14759         1330      6540     1.0           0     0  ...      7   \n",
       "4192          2950      4560     2.0           0     0  ...      7   \n",
       "18710         1700      7210     1.0           0     0  ...      7   \n",
       "2503          1580      7344     1.0           0     0  ...      7   \n",
       "\n",
       "       sqft_above  sqft_basement  yr_built  yr_renovated  zipcode      lat  \\\n",
       "4974         2570           1540      1979             0    98028  47.7382   \n",
       "14759         900            430      1971             0    98188  47.4239   \n",
       "4192         1810           1140      1912             0    98103  47.6525   \n",
       "18710        1250            450      1974             0    98003  47.3546   \n",
       "2503         1580              0      1911             0    98126  47.5256   \n",
       "\n",
       "          long  sqft_living15  sqft_lot15  \n",
       "4974  -122.264           2760       12283  \n",
       "14759 -122.292           1400       11500  \n",
       "4192  -122.333           2000        4560  \n",
       "18710 -122.318           2070        7300  \n",
       "2503  -122.380           1580        6207  \n",
       "\n",
       "[5 rows x 21 columns]"
      ]
     },
     "execution_count": 6,
     "metadata": {},
     "output_type": "execute_result"
    }
   ],
   "source": [
    "# Imprime uma amostra aleatória do dataset\n",
    "data.sample(5)"
   ]
  },
  {
   "cell_type": "code",
   "execution_count": 7,
   "metadata": {
    "colab": {
     "base_uri": "https://localhost:8080/",
     "height": 34
    },
    "colab_type": "code",
    "executionInfo": {
     "elapsed": 601,
     "status": "ok",
     "timestamp": 1574609246159,
     "user": {
      "displayName": "Gabi Viana",
      "photoUrl": "https://lh3.googleusercontent.com/a-/AAuE7mCN9Wk9exJ_22F0JqdZg4i1xWtS2hPF-RE9jdnw1Ns=s64",
      "userId": "10583305263505777863"
     },
     "user_tz": 180
    },
    "id": "MePqCBAg99fn",
    "outputId": "6be1bbe7-6efa-4c6b-8dbc-e91ed3a31732"
   },
   "outputs": [
    {
     "data": {
      "text/plain": [
       "(21613, 21)"
      ]
     },
     "execution_count": 7,
     "metadata": {},
     "output_type": "execute_result"
    }
   ],
   "source": [
    "# Imprime o formato do dataset (linhas e colunas)\n",
    "data.shape"
   ]
  },
  {
   "cell_type": "code",
   "execution_count": 8,
   "metadata": {
    "colab": {
     "base_uri": "https://localhost:8080/",
     "height": 102
    },
    "colab_type": "code",
    "executionInfo": {
     "elapsed": 662,
     "status": "ok",
     "timestamp": 1574609253471,
     "user": {
      "displayName": "Gabi Viana",
      "photoUrl": "https://lh3.googleusercontent.com/a-/AAuE7mCN9Wk9exJ_22F0JqdZg4i1xWtS2hPF-RE9jdnw1Ns=s64",
      "userId": "10583305263505777863"
     },
     "user_tz": 180
    },
    "id": "YRkRmvOb99fq",
    "outputId": "6cb180dc-88ea-445e-d520-2a75659eb3a4"
   },
   "outputs": [
    {
     "data": {
      "text/plain": [
       "Index(['id', 'date', 'price', 'bedrooms', 'bathrooms', 'sqft_living',\n",
       "       'sqft_lot', 'floors', 'waterfront', 'view', 'condition', 'grade',\n",
       "       'sqft_above', 'sqft_basement', 'yr_built', 'yr_renovated', 'zipcode',\n",
       "       'lat', 'long', 'sqft_living15', 'sqft_lot15'],\n",
       "      dtype='object')"
      ]
     },
     "execution_count": 8,
     "metadata": {},
     "output_type": "execute_result"
    }
   ],
   "source": [
    "# Imprime o nome das colunas do dataset\n",
    "data.columns"
   ]
  },
  {
   "cell_type": "code",
   "execution_count": 9,
   "metadata": {
    "colab": {
     "base_uri": "https://localhost:8080/",
     "height": 391
    },
    "colab_type": "code",
    "executionInfo": {
     "elapsed": 654,
     "status": "ok",
     "timestamp": 1574609256629,
     "user": {
      "displayName": "Gabi Viana",
      "photoUrl": "https://lh3.googleusercontent.com/a-/AAuE7mCN9Wk9exJ_22F0JqdZg4i1xWtS2hPF-RE9jdnw1Ns=s64",
      "userId": "10583305263505777863"
     },
     "user_tz": 180
    },
    "id": "gVW7XDoT99fu",
    "outputId": "2affaf5c-fbfe-40ec-bba2-49888e99592b"
   },
   "outputs": [
    {
     "data": {
      "text/plain": [
       "id               21613\n",
       "date             21613\n",
       "price            21613\n",
       "bedrooms         21609\n",
       "bathrooms        21613\n",
       "sqft_living      21613\n",
       "sqft_lot         21613\n",
       "floors           21612\n",
       "waterfront       21613\n",
       "view             21613\n",
       "condition        21613\n",
       "grade            21613\n",
       "sqft_above       21613\n",
       "sqft_basement    21613\n",
       "yr_built         21613\n",
       "yr_renovated     21613\n",
       "zipcode          21613\n",
       "lat              21613\n",
       "long             21613\n",
       "sqft_living15    21613\n",
       "sqft_lot15       21613\n",
       "dtype: int64"
      ]
     },
     "execution_count": 9,
     "metadata": {},
     "output_type": "execute_result"
    }
   ],
   "source": [
    "# Imprime a quantidade de linhas para cada coluna\n",
    "data.count()"
   ]
  },
  {
   "cell_type": "code",
   "execution_count": 10,
   "metadata": {
    "colab": {
     "base_uri": "https://localhost:8080/",
     "height": 317
    },
    "colab_type": "code",
    "executionInfo": {
     "elapsed": 566,
     "status": "ok",
     "timestamp": 1574609259862,
     "user": {
      "displayName": "Gabi Viana",
      "photoUrl": "https://lh3.googleusercontent.com/a-/AAuE7mCN9Wk9exJ_22F0JqdZg4i1xWtS2hPF-RE9jdnw1Ns=s64",
      "userId": "10583305263505777863"
     },
     "user_tz": 180
    },
    "id": "hzNJgFj_99fx",
    "outputId": "93f647d7-8082-46c6-f1ff-9f370ee68b26"
   },
   "outputs": [
    {
     "data": {
      "text/html": [
       "<div>\n",
       "<style scoped>\n",
       "    .dataframe tbody tr th:only-of-type {\n",
       "        vertical-align: middle;\n",
       "    }\n",
       "\n",
       "    .dataframe tbody tr th {\n",
       "        vertical-align: top;\n",
       "    }\n",
       "\n",
       "    .dataframe thead th {\n",
       "        text-align: right;\n",
       "    }\n",
       "</style>\n",
       "<table border=\"1\" class=\"dataframe\">\n",
       "  <thead>\n",
       "    <tr style=\"text-align: right;\">\n",
       "      <th></th>\n",
       "      <th>id</th>\n",
       "      <th>price</th>\n",
       "      <th>bedrooms</th>\n",
       "      <th>bathrooms</th>\n",
       "      <th>sqft_living</th>\n",
       "      <th>sqft_lot</th>\n",
       "      <th>floors</th>\n",
       "      <th>waterfront</th>\n",
       "      <th>view</th>\n",
       "      <th>condition</th>\n",
       "      <th>grade</th>\n",
       "      <th>sqft_above</th>\n",
       "      <th>sqft_basement</th>\n",
       "      <th>yr_built</th>\n",
       "      <th>yr_renovated</th>\n",
       "      <th>zipcode</th>\n",
       "      <th>lat</th>\n",
       "      <th>long</th>\n",
       "      <th>sqft_living15</th>\n",
       "      <th>sqft_lot15</th>\n",
       "    </tr>\n",
       "  </thead>\n",
       "  <tbody>\n",
       "    <tr>\n",
       "      <td>count</td>\n",
       "      <td>2.161300e+04</td>\n",
       "      <td>2.161300e+04</td>\n",
       "      <td>21609.000000</td>\n",
       "      <td>21613.000000</td>\n",
       "      <td>21613.000000</td>\n",
       "      <td>2.161300e+04</td>\n",
       "      <td>21612.000000</td>\n",
       "      <td>21613.000000</td>\n",
       "      <td>21613.000000</td>\n",
       "      <td>21613.000000</td>\n",
       "      <td>21613.000000</td>\n",
       "      <td>21613.000000</td>\n",
       "      <td>21613.000000</td>\n",
       "      <td>21613.000000</td>\n",
       "      <td>21613.000000</td>\n",
       "      <td>21613.000000</td>\n",
       "      <td>21613.000000</td>\n",
       "      <td>21613.000000</td>\n",
       "      <td>21613.000000</td>\n",
       "      <td>21613.000000</td>\n",
       "    </tr>\n",
       "    <tr>\n",
       "      <td>mean</td>\n",
       "      <td>4.580302e+09</td>\n",
       "      <td>5.400881e+05</td>\n",
       "      <td>3.370910</td>\n",
       "      <td>2.114757</td>\n",
       "      <td>2079.899736</td>\n",
       "      <td>1.510697e+04</td>\n",
       "      <td>1.494332</td>\n",
       "      <td>0.007542</td>\n",
       "      <td>0.234303</td>\n",
       "      <td>3.409430</td>\n",
       "      <td>7.656873</td>\n",
       "      <td>1788.390691</td>\n",
       "      <td>291.509045</td>\n",
       "      <td>1971.005136</td>\n",
       "      <td>84.402258</td>\n",
       "      <td>98077.939805</td>\n",
       "      <td>47.560053</td>\n",
       "      <td>-122.213896</td>\n",
       "      <td>1986.552492</td>\n",
       "      <td>12768.455652</td>\n",
       "    </tr>\n",
       "    <tr>\n",
       "      <td>std</td>\n",
       "      <td>2.876566e+09</td>\n",
       "      <td>3.671272e+05</td>\n",
       "      <td>0.930084</td>\n",
       "      <td>0.770163</td>\n",
       "      <td>918.440897</td>\n",
       "      <td>4.142051e+04</td>\n",
       "      <td>0.539991</td>\n",
       "      <td>0.086517</td>\n",
       "      <td>0.766318</td>\n",
       "      <td>0.650743</td>\n",
       "      <td>1.175459</td>\n",
       "      <td>828.090978</td>\n",
       "      <td>442.575043</td>\n",
       "      <td>29.373411</td>\n",
       "      <td>401.679240</td>\n",
       "      <td>53.505026</td>\n",
       "      <td>0.138564</td>\n",
       "      <td>0.140828</td>\n",
       "      <td>685.391304</td>\n",
       "      <td>27304.179631</td>\n",
       "    </tr>\n",
       "    <tr>\n",
       "      <td>min</td>\n",
       "      <td>1.000102e+06</td>\n",
       "      <td>7.500000e+04</td>\n",
       "      <td>0.000000</td>\n",
       "      <td>0.000000</td>\n",
       "      <td>290.000000</td>\n",
       "      <td>5.200000e+02</td>\n",
       "      <td>1.000000</td>\n",
       "      <td>0.000000</td>\n",
       "      <td>0.000000</td>\n",
       "      <td>1.000000</td>\n",
       "      <td>1.000000</td>\n",
       "      <td>290.000000</td>\n",
       "      <td>0.000000</td>\n",
       "      <td>1900.000000</td>\n",
       "      <td>0.000000</td>\n",
       "      <td>98001.000000</td>\n",
       "      <td>47.155900</td>\n",
       "      <td>-122.519000</td>\n",
       "      <td>399.000000</td>\n",
       "      <td>651.000000</td>\n",
       "    </tr>\n",
       "    <tr>\n",
       "      <td>25%</td>\n",
       "      <td>2.123049e+09</td>\n",
       "      <td>3.219500e+05</td>\n",
       "      <td>3.000000</td>\n",
       "      <td>1.750000</td>\n",
       "      <td>1427.000000</td>\n",
       "      <td>5.040000e+03</td>\n",
       "      <td>1.000000</td>\n",
       "      <td>0.000000</td>\n",
       "      <td>0.000000</td>\n",
       "      <td>3.000000</td>\n",
       "      <td>7.000000</td>\n",
       "      <td>1190.000000</td>\n",
       "      <td>0.000000</td>\n",
       "      <td>1951.000000</td>\n",
       "      <td>0.000000</td>\n",
       "      <td>98033.000000</td>\n",
       "      <td>47.471000</td>\n",
       "      <td>-122.328000</td>\n",
       "      <td>1490.000000</td>\n",
       "      <td>5100.000000</td>\n",
       "    </tr>\n",
       "    <tr>\n",
       "      <td>50%</td>\n",
       "      <td>3.904930e+09</td>\n",
       "      <td>4.500000e+05</td>\n",
       "      <td>3.000000</td>\n",
       "      <td>2.250000</td>\n",
       "      <td>1910.000000</td>\n",
       "      <td>7.618000e+03</td>\n",
       "      <td>1.500000</td>\n",
       "      <td>0.000000</td>\n",
       "      <td>0.000000</td>\n",
       "      <td>3.000000</td>\n",
       "      <td>7.000000</td>\n",
       "      <td>1560.000000</td>\n",
       "      <td>0.000000</td>\n",
       "      <td>1975.000000</td>\n",
       "      <td>0.000000</td>\n",
       "      <td>98065.000000</td>\n",
       "      <td>47.571800</td>\n",
       "      <td>-122.230000</td>\n",
       "      <td>1840.000000</td>\n",
       "      <td>7620.000000</td>\n",
       "    </tr>\n",
       "    <tr>\n",
       "      <td>75%</td>\n",
       "      <td>7.308900e+09</td>\n",
       "      <td>6.450000e+05</td>\n",
       "      <td>4.000000</td>\n",
       "      <td>2.500000</td>\n",
       "      <td>2550.000000</td>\n",
       "      <td>1.068800e+04</td>\n",
       "      <td>2.000000</td>\n",
       "      <td>0.000000</td>\n",
       "      <td>0.000000</td>\n",
       "      <td>4.000000</td>\n",
       "      <td>8.000000</td>\n",
       "      <td>2210.000000</td>\n",
       "      <td>560.000000</td>\n",
       "      <td>1997.000000</td>\n",
       "      <td>0.000000</td>\n",
       "      <td>98118.000000</td>\n",
       "      <td>47.678000</td>\n",
       "      <td>-122.125000</td>\n",
       "      <td>2360.000000</td>\n",
       "      <td>10083.000000</td>\n",
       "    </tr>\n",
       "    <tr>\n",
       "      <td>max</td>\n",
       "      <td>9.900000e+09</td>\n",
       "      <td>7.700000e+06</td>\n",
       "      <td>33.000000</td>\n",
       "      <td>8.000000</td>\n",
       "      <td>13540.000000</td>\n",
       "      <td>1.651359e+06</td>\n",
       "      <td>3.500000</td>\n",
       "      <td>1.000000</td>\n",
       "      <td>4.000000</td>\n",
       "      <td>5.000000</td>\n",
       "      <td>13.000000</td>\n",
       "      <td>9410.000000</td>\n",
       "      <td>4820.000000</td>\n",
       "      <td>2015.000000</td>\n",
       "      <td>2015.000000</td>\n",
       "      <td>98199.000000</td>\n",
       "      <td>47.777600</td>\n",
       "      <td>-121.315000</td>\n",
       "      <td>6210.000000</td>\n",
       "      <td>871200.000000</td>\n",
       "    </tr>\n",
       "  </tbody>\n",
       "</table>\n",
       "</div>"
      ],
      "text/plain": [
       "                 id         price      bedrooms     bathrooms   sqft_living  \\\n",
       "count  2.161300e+04  2.161300e+04  21609.000000  21613.000000  21613.000000   \n",
       "mean   4.580302e+09  5.400881e+05      3.370910      2.114757   2079.899736   \n",
       "std    2.876566e+09  3.671272e+05      0.930084      0.770163    918.440897   \n",
       "min    1.000102e+06  7.500000e+04      0.000000      0.000000    290.000000   \n",
       "25%    2.123049e+09  3.219500e+05      3.000000      1.750000   1427.000000   \n",
       "50%    3.904930e+09  4.500000e+05      3.000000      2.250000   1910.000000   \n",
       "75%    7.308900e+09  6.450000e+05      4.000000      2.500000   2550.000000   \n",
       "max    9.900000e+09  7.700000e+06     33.000000      8.000000  13540.000000   \n",
       "\n",
       "           sqft_lot        floors    waterfront          view     condition  \\\n",
       "count  2.161300e+04  21612.000000  21613.000000  21613.000000  21613.000000   \n",
       "mean   1.510697e+04      1.494332      0.007542      0.234303      3.409430   \n",
       "std    4.142051e+04      0.539991      0.086517      0.766318      0.650743   \n",
       "min    5.200000e+02      1.000000      0.000000      0.000000      1.000000   \n",
       "25%    5.040000e+03      1.000000      0.000000      0.000000      3.000000   \n",
       "50%    7.618000e+03      1.500000      0.000000      0.000000      3.000000   \n",
       "75%    1.068800e+04      2.000000      0.000000      0.000000      4.000000   \n",
       "max    1.651359e+06      3.500000      1.000000      4.000000      5.000000   \n",
       "\n",
       "              grade    sqft_above  sqft_basement      yr_built  yr_renovated  \\\n",
       "count  21613.000000  21613.000000   21613.000000  21613.000000  21613.000000   \n",
       "mean       7.656873   1788.390691     291.509045   1971.005136     84.402258   \n",
       "std        1.175459    828.090978     442.575043     29.373411    401.679240   \n",
       "min        1.000000    290.000000       0.000000   1900.000000      0.000000   \n",
       "25%        7.000000   1190.000000       0.000000   1951.000000      0.000000   \n",
       "50%        7.000000   1560.000000       0.000000   1975.000000      0.000000   \n",
       "75%        8.000000   2210.000000     560.000000   1997.000000      0.000000   \n",
       "max       13.000000   9410.000000    4820.000000   2015.000000   2015.000000   \n",
       "\n",
       "            zipcode           lat          long  sqft_living15     sqft_lot15  \n",
       "count  21613.000000  21613.000000  21613.000000   21613.000000   21613.000000  \n",
       "mean   98077.939805     47.560053   -122.213896    1986.552492   12768.455652  \n",
       "std       53.505026      0.138564      0.140828     685.391304   27304.179631  \n",
       "min    98001.000000     47.155900   -122.519000     399.000000     651.000000  \n",
       "25%    98033.000000     47.471000   -122.328000    1490.000000    5100.000000  \n",
       "50%    98065.000000     47.571800   -122.230000    1840.000000    7620.000000  \n",
       "75%    98118.000000     47.678000   -122.125000    2360.000000   10083.000000  \n",
       "max    98199.000000     47.777600   -121.315000    6210.000000  871200.000000  "
      ]
     },
     "execution_count": 10,
     "metadata": {},
     "output_type": "execute_result"
    }
   ],
   "source": [
    "# Exibe informações estatísticas da base de dados (desvio padrão, média, valor mínimo, valor máximo)\n",
    "data.describe()"
   ]
  },
  {
   "cell_type": "code",
   "execution_count": 11,
   "metadata": {
    "colab": {
     "base_uri": "https://localhost:8080/",
     "height": 459
    },
    "colab_type": "code",
    "executionInfo": {
     "elapsed": 642,
     "status": "ok",
     "timestamp": 1574609263084,
     "user": {
      "displayName": "Gabi Viana",
      "photoUrl": "https://lh3.googleusercontent.com/a-/AAuE7mCN9Wk9exJ_22F0JqdZg4i1xWtS2hPF-RE9jdnw1Ns=s64",
      "userId": "10583305263505777863"
     },
     "user_tz": 180
    },
    "id": "oow65P8o99f0",
    "outputId": "af925077-4078-4086-8455-bfdd5def089a"
   },
   "outputs": [
    {
     "name": "stdout",
     "output_type": "stream",
     "text": [
      "<class 'pandas.core.frame.DataFrame'>\n",
      "RangeIndex: 21613 entries, 0 to 21612\n",
      "Data columns (total 21 columns):\n",
      "id               21613 non-null int64\n",
      "date             21613 non-null object\n",
      "price            21613 non-null float64\n",
      "bedrooms         21609 non-null float64\n",
      "bathrooms        21613 non-null float64\n",
      "sqft_living      21613 non-null int64\n",
      "sqft_lot         21613 non-null int64\n",
      "floors           21612 non-null float64\n",
      "waterfront       21613 non-null int64\n",
      "view             21613 non-null int64\n",
      "condition        21613 non-null int64\n",
      "grade            21613 non-null int64\n",
      "sqft_above       21613 non-null int64\n",
      "sqft_basement    21613 non-null int64\n",
      "yr_built         21613 non-null int64\n",
      "yr_renovated     21613 non-null int64\n",
      "zipcode          21613 non-null int64\n",
      "lat              21613 non-null float64\n",
      "long             21613 non-null float64\n",
      "sqft_living15    21613 non-null int64\n",
      "sqft_lot15       21613 non-null int64\n",
      "dtypes: float64(6), int64(14), object(1)\n",
      "memory usage: 3.5+ MB\n"
     ]
    }
   ],
   "source": [
    "# Exibe informações sobre as colunas e uso de memória\n",
    "data.info()"
   ]
  },
  {
   "cell_type": "code",
   "execution_count": 12,
   "metadata": {
    "colab": {},
    "colab_type": "code",
    "id": "MKVoUKQi99f4"
   },
   "outputs": [],
   "source": [
    "# Criar dataframe com colunas indexadas (para organizar dados por data por exemplo)\n",
    "data = pd.read_csv(file, sep=',', index_col='date')"
   ]
  },
  {
   "cell_type": "code",
   "execution_count": 14,
   "metadata": {
    "colab": {
     "base_uri": "https://localhost:8080/",
     "height": 258
    },
    "colab_type": "code",
    "id": "F4D109_yRLYb",
    "outputId": "5023cb73-9d02-4167-bd48-7906e8c0b0d9"
   },
   "outputs": [
    {
     "data": {
      "text/html": [
       "<div>\n",
       "<style scoped>\n",
       "    .dataframe tbody tr th:only-of-type {\n",
       "        vertical-align: middle;\n",
       "    }\n",
       "\n",
       "    .dataframe tbody tr th {\n",
       "        vertical-align: top;\n",
       "    }\n",
       "\n",
       "    .dataframe thead th {\n",
       "        text-align: right;\n",
       "    }\n",
       "</style>\n",
       "<table border=\"1\" class=\"dataframe\">\n",
       "  <thead>\n",
       "    <tr style=\"text-align: right;\">\n",
       "      <th></th>\n",
       "      <th>id</th>\n",
       "      <th>price</th>\n",
       "      <th>bedrooms</th>\n",
       "      <th>bathrooms</th>\n",
       "      <th>sqft_living</th>\n",
       "      <th>sqft_lot</th>\n",
       "      <th>floors</th>\n",
       "      <th>waterfront</th>\n",
       "      <th>view</th>\n",
       "      <th>condition</th>\n",
       "      <th>grade</th>\n",
       "      <th>sqft_above</th>\n",
       "      <th>sqft_basement</th>\n",
       "      <th>yr_built</th>\n",
       "      <th>yr_renovated</th>\n",
       "      <th>zipcode</th>\n",
       "      <th>lat</th>\n",
       "      <th>long</th>\n",
       "      <th>sqft_living15</th>\n",
       "      <th>sqft_lot15</th>\n",
       "    </tr>\n",
       "    <tr>\n",
       "      <th>date</th>\n",
       "      <th></th>\n",
       "      <th></th>\n",
       "      <th></th>\n",
       "      <th></th>\n",
       "      <th></th>\n",
       "      <th></th>\n",
       "      <th></th>\n",
       "      <th></th>\n",
       "      <th></th>\n",
       "      <th></th>\n",
       "      <th></th>\n",
       "      <th></th>\n",
       "      <th></th>\n",
       "      <th></th>\n",
       "      <th></th>\n",
       "      <th></th>\n",
       "      <th></th>\n",
       "      <th></th>\n",
       "      <th></th>\n",
       "      <th></th>\n",
       "    </tr>\n",
       "  </thead>\n",
       "  <tbody>\n",
       "    <tr>\n",
       "      <td>20141013T000000</td>\n",
       "      <td>7129300520</td>\n",
       "      <td>221900.0</td>\n",
       "      <td>3.0</td>\n",
       "      <td>1.00</td>\n",
       "      <td>1180</td>\n",
       "      <td>5650</td>\n",
       "      <td>1.0</td>\n",
       "      <td>0</td>\n",
       "      <td>0</td>\n",
       "      <td>3</td>\n",
       "      <td>7</td>\n",
       "      <td>1180</td>\n",
       "      <td>0</td>\n",
       "      <td>1955</td>\n",
       "      <td>0</td>\n",
       "      <td>98178</td>\n",
       "      <td>47.5112</td>\n",
       "      <td>-122.257</td>\n",
       "      <td>1340</td>\n",
       "      <td>5650</td>\n",
       "    </tr>\n",
       "    <tr>\n",
       "      <td>20141209T000000</td>\n",
       "      <td>6414100192</td>\n",
       "      <td>538000.0</td>\n",
       "      <td>3.0</td>\n",
       "      <td>2.25</td>\n",
       "      <td>2570</td>\n",
       "      <td>7242</td>\n",
       "      <td>2.0</td>\n",
       "      <td>0</td>\n",
       "      <td>0</td>\n",
       "      <td>3</td>\n",
       "      <td>7</td>\n",
       "      <td>2170</td>\n",
       "      <td>400</td>\n",
       "      <td>1951</td>\n",
       "      <td>1991</td>\n",
       "      <td>98125</td>\n",
       "      <td>47.7210</td>\n",
       "      <td>-122.319</td>\n",
       "      <td>1690</td>\n",
       "      <td>7639</td>\n",
       "    </tr>\n",
       "    <tr>\n",
       "      <td>20150225T000000</td>\n",
       "      <td>5631500400</td>\n",
       "      <td>180000.0</td>\n",
       "      <td>2.0</td>\n",
       "      <td>1.00</td>\n",
       "      <td>770</td>\n",
       "      <td>10000</td>\n",
       "      <td>1.0</td>\n",
       "      <td>0</td>\n",
       "      <td>0</td>\n",
       "      <td>3</td>\n",
       "      <td>6</td>\n",
       "      <td>770</td>\n",
       "      <td>0</td>\n",
       "      <td>1933</td>\n",
       "      <td>0</td>\n",
       "      <td>98028</td>\n",
       "      <td>47.7379</td>\n",
       "      <td>-122.233</td>\n",
       "      <td>2720</td>\n",
       "      <td>8062</td>\n",
       "    </tr>\n",
       "    <tr>\n",
       "      <td>20141209T000000</td>\n",
       "      <td>2487200875</td>\n",
       "      <td>604000.0</td>\n",
       "      <td>4.0</td>\n",
       "      <td>3.00</td>\n",
       "      <td>1960</td>\n",
       "      <td>5000</td>\n",
       "      <td>1.0</td>\n",
       "      <td>0</td>\n",
       "      <td>0</td>\n",
       "      <td>5</td>\n",
       "      <td>7</td>\n",
       "      <td>1050</td>\n",
       "      <td>910</td>\n",
       "      <td>1965</td>\n",
       "      <td>0</td>\n",
       "      <td>98136</td>\n",
       "      <td>47.5208</td>\n",
       "      <td>-122.393</td>\n",
       "      <td>1360</td>\n",
       "      <td>5000</td>\n",
       "    </tr>\n",
       "    <tr>\n",
       "      <td>20150218T000000</td>\n",
       "      <td>1954400510</td>\n",
       "      <td>510000.0</td>\n",
       "      <td>3.0</td>\n",
       "      <td>2.00</td>\n",
       "      <td>1680</td>\n",
       "      <td>8080</td>\n",
       "      <td>1.0</td>\n",
       "      <td>0</td>\n",
       "      <td>0</td>\n",
       "      <td>3</td>\n",
       "      <td>8</td>\n",
       "      <td>1680</td>\n",
       "      <td>0</td>\n",
       "      <td>1987</td>\n",
       "      <td>0</td>\n",
       "      <td>98074</td>\n",
       "      <td>47.6168</td>\n",
       "      <td>-122.045</td>\n",
       "      <td>1800</td>\n",
       "      <td>7503</td>\n",
       "    </tr>\n",
       "  </tbody>\n",
       "</table>\n",
       "</div>"
      ],
      "text/plain": [
       "                         id     price  bedrooms  bathrooms  sqft_living  \\\n",
       "date                                                                      \n",
       "20141013T000000  7129300520  221900.0       3.0       1.00         1180   \n",
       "20141209T000000  6414100192  538000.0       3.0       2.25         2570   \n",
       "20150225T000000  5631500400  180000.0       2.0       1.00          770   \n",
       "20141209T000000  2487200875  604000.0       4.0       3.00         1960   \n",
       "20150218T000000  1954400510  510000.0       3.0       2.00         1680   \n",
       "\n",
       "                 sqft_lot  floors  waterfront  view  condition  grade  \\\n",
       "date                                                                    \n",
       "20141013T000000      5650     1.0           0     0          3      7   \n",
       "20141209T000000      7242     2.0           0     0          3      7   \n",
       "20150225T000000     10000     1.0           0     0          3      6   \n",
       "20141209T000000      5000     1.0           0     0          5      7   \n",
       "20150218T000000      8080     1.0           0     0          3      8   \n",
       "\n",
       "                 sqft_above  sqft_basement  yr_built  yr_renovated  zipcode  \\\n",
       "date                                                                          \n",
       "20141013T000000        1180              0      1955             0    98178   \n",
       "20141209T000000        2170            400      1951          1991    98125   \n",
       "20150225T000000         770              0      1933             0    98028   \n",
       "20141209T000000        1050            910      1965             0    98136   \n",
       "20150218T000000        1680              0      1987             0    98074   \n",
       "\n",
       "                     lat     long  sqft_living15  sqft_lot15  \n",
       "date                                                          \n",
       "20141013T000000  47.5112 -122.257           1340        5650  \n",
       "20141209T000000  47.7210 -122.319           1690        7639  \n",
       "20150225T000000  47.7379 -122.233           2720        8062  \n",
       "20141209T000000  47.5208 -122.393           1360        5000  \n",
       "20150218T000000  47.6168 -122.045           1800        7503  "
      ]
     },
     "execution_count": 14,
     "metadata": {},
     "output_type": "execute_result"
    }
   ],
   "source": [
    "data.head()"
   ]
  },
  {
   "cell_type": "code",
   "execution_count": 16,
   "metadata": {
    "colab": {},
    "colab_type": "code",
    "id": "03cierDJ99f8"
   },
   "outputs": [],
   "source": [
    "# Selecionar e usar somente algumas informações do arquivo\n",
    "data =  pd.read_csv(file, sep=',', usecols=['id','date','price','bedrooms'])"
   ]
  },
  {
   "cell_type": "code",
   "execution_count": 18,
   "metadata": {
    "colab": {
     "base_uri": "https://localhost:8080/",
     "height": 206
    },
    "colab_type": "code",
    "id": "LZMAsjnbRX23",
    "outputId": "312b8465-274c-4951-bc64-e662088b239f"
   },
   "outputs": [
    {
     "data": {
      "text/html": [
       "<div>\n",
       "<style scoped>\n",
       "    .dataframe tbody tr th:only-of-type {\n",
       "        vertical-align: middle;\n",
       "    }\n",
       "\n",
       "    .dataframe tbody tr th {\n",
       "        vertical-align: top;\n",
       "    }\n",
       "\n",
       "    .dataframe thead th {\n",
       "        text-align: right;\n",
       "    }\n",
       "</style>\n",
       "<table border=\"1\" class=\"dataframe\">\n",
       "  <thead>\n",
       "    <tr style=\"text-align: right;\">\n",
       "      <th></th>\n",
       "      <th>id</th>\n",
       "      <th>date</th>\n",
       "      <th>price</th>\n",
       "      <th>bedrooms</th>\n",
       "    </tr>\n",
       "  </thead>\n",
       "  <tbody>\n",
       "    <tr>\n",
       "      <td>0</td>\n",
       "      <td>7129300520</td>\n",
       "      <td>20141013T000000</td>\n",
       "      <td>221900.0</td>\n",
       "      <td>3.0</td>\n",
       "    </tr>\n",
       "    <tr>\n",
       "      <td>1</td>\n",
       "      <td>6414100192</td>\n",
       "      <td>20141209T000000</td>\n",
       "      <td>538000.0</td>\n",
       "      <td>3.0</td>\n",
       "    </tr>\n",
       "    <tr>\n",
       "      <td>2</td>\n",
       "      <td>5631500400</td>\n",
       "      <td>20150225T000000</td>\n",
       "      <td>180000.0</td>\n",
       "      <td>2.0</td>\n",
       "    </tr>\n",
       "    <tr>\n",
       "      <td>3</td>\n",
       "      <td>2487200875</td>\n",
       "      <td>20141209T000000</td>\n",
       "      <td>604000.0</td>\n",
       "      <td>4.0</td>\n",
       "    </tr>\n",
       "    <tr>\n",
       "      <td>4</td>\n",
       "      <td>1954400510</td>\n",
       "      <td>20150218T000000</td>\n",
       "      <td>510000.0</td>\n",
       "      <td>3.0</td>\n",
       "    </tr>\n",
       "  </tbody>\n",
       "</table>\n",
       "</div>"
      ],
      "text/plain": [
       "           id             date     price  bedrooms\n",
       "0  7129300520  20141013T000000  221900.0       3.0\n",
       "1  6414100192  20141209T000000  538000.0       3.0\n",
       "2  5631500400  20150225T000000  180000.0       2.0\n",
       "3  2487200875  20141209T000000  604000.0       4.0\n",
       "4  1954400510  20150218T000000  510000.0       3.0"
      ]
     },
     "execution_count": 18,
     "metadata": {},
     "output_type": "execute_result"
    }
   ],
   "source": [
    "data.head()"
   ]
  },
  {
   "cell_type": "markdown",
   "metadata": {
    "colab_type": "text",
    "id": "VN-tKuR199f_"
   },
   "source": [
    "## Trabalhando com Arquivos Grandes"
   ]
  },
  {
   "cell_type": "markdown",
   "metadata": {
    "colab_type": "text",
    "id": "BePrUHMD99gA"
   },
   "source": [
    "* Quando estamos trabalhando com _**Grandes Arquivos**_ temos um grande desafio que é gerenciar a memória,\n",
    "* As vezes precisamos manipular uma base de dados muito grande e por isso precisamos trabalhar com arquivos de forma diferente.\n",
    "* Uma forma é ler esses arquivos de forma limitada para não consumir toda a _**memória**_ do servidor."
   ]
  },
  {
   "cell_type": "code",
   "execution_count": null,
   "metadata": {
    "colab": {},
    "colab_type": "code",
    "id": "R06qcYZ299gB",
    "outputId": "5d12a71a-c2fa-4e42-d198-068e2471b807"
   },
   "outputs": [],
   "source": [
    "# Leitura das 5 primeiras linhas de um arquivo\n",
    "dataset = pd.read_csv(file, sep=',', nrows=5)\n",
    "dataset"
   ]
  },
  {
   "cell_type": "code",
   "execution_count": null,
   "metadata": {
    "colab": {},
    "colab_type": "code",
    "id": "KPv-bOxFVFCj",
    "outputId": "827ddda6-61e8-4ce4-955c-bb59ac97bb9b"
   },
   "outputs": [],
   "source": [
    "# Carregando o dataset para um DataFrame Pandas do Google Drive\n",
    "downloaded = drive.CreateFile({'id':id}) \n",
    "downloaded.GetContentFile('kc_house_data.csv')\n",
    "data = pd.read_csv('kc_house_data.csv', sep=',',nrows=5)"
   ]
  },
  {
   "cell_type": "code",
   "execution_count": null,
   "metadata": {
    "colab": {
     "base_uri": "https://localhost:8080/",
     "height": 226
    },
    "colab_type": "code",
    "id": "fHVjzKsDVNp0",
    "outputId": "67342cda-c77b-448f-a560-1634a812d692"
   },
   "outputs": [],
   "source": [
    "data"
   ]
  },
  {
   "cell_type": "code",
   "execution_count": null,
   "metadata": {
    "colab": {
     "base_uri": "https://localhost:8080/",
     "height": 391
    },
    "colab_type": "code",
    "executionInfo": {
     "elapsed": 614,
     "status": "error",
     "timestamp": 1574609434900,
     "user": {
      "displayName": "Gabi Viana",
      "photoUrl": "https://lh3.googleusercontent.com/a-/AAuE7mCN9Wk9exJ_22F0JqdZg4i1xWtS2hPF-RE9jdnw1Ns=s64",
      "userId": "10583305263505777863"
     },
     "user_tz": 180
    },
    "id": "opX2j6Oz99gE",
    "outputId": "c2b23def-1e21-4d84-83db-4045a08422e4"
   },
   "outputs": [],
   "source": [
    "# Separar os dados em blocos (chunk) para leitura (lê o arquivo em partes e libera espaço após ler cada bloco)\n",
    "chunk = pd.read_csv(file, chunksize=10000)\n",
    "#type(chunk)"
   ]
  },
  {
   "cell_type": "code",
   "execution_count": null,
   "metadata": {
    "colab": {},
    "colab_type": "code",
    "id": "cMHdWvnTVXQn"
   },
   "outputs": [],
   "source": [
    "# Carregando o dataset para um DataFrame Pandas do Google Drive em blocos (chunk) para leitura (lê o arquivo em partes e libera espaço após ler cada bloco)\n",
    "downloaded = drive.CreateFile({'id':id}) \n",
    "downloaded.GetContentFile('kc_house_data.csv')\n",
    "chunk = pd.read_csv('kc_house_data.csv', chunksize=10000)"
   ]
  },
  {
   "cell_type": "code",
   "execution_count": null,
   "metadata": {
    "colab": {
     "base_uri": "https://localhost:8080/",
     "height": 68
    },
    "colab_type": "code",
    "executionInfo": {
     "elapsed": 581,
     "status": "ok",
     "timestamp": 1574609451089,
     "user": {
      "displayName": "Gabi Viana",
      "photoUrl": "https://lh3.googleusercontent.com/a-/AAuE7mCN9Wk9exJ_22F0JqdZg4i1xWtS2hPF-RE9jdnw1Ns=s64",
      "userId": "10583305263505777863"
     },
     "user_tz": 180
    },
    "id": "dPu4QXJn99gH",
    "outputId": "0419e438-b919-41e9-e8c0-28911692b9bb"
   },
   "outputs": [],
   "source": [
    "#Imprimir o tamanho de cada bloco (chunk) gerado para o arquivo\n",
    "qt = 1\n",
    "for parte in chunk:\n",
    "    print(\"Parte {}: {}\".format(qt,len(parte)))\n",
    "    qt += 1"
   ]
  },
  {
   "cell_type": "code",
   "execution_count": null,
   "metadata": {
    "colab": {},
    "colab_type": "code",
    "id": "B-YoVvc599gN"
   },
   "outputs": [],
   "source": [
    "# Iterar em cada parte do arquivo e adicionar o valor processado a uma nova coluna do dataset já existente\n",
    "downloaded = drive.CreateFile({'id':id}) \n",
    "downloaded.GetContentFile('kc_house_data.csv')\n",
    "chunk = pd.read_csv('kc_house_data.csv', chunksize=10000)\n",
    "\n",
    "lista = []\n",
    "  \n",
    "for parte in chunk:\n",
    "    lista.append(parte['bedrooms'] * 2)\n",
    "    \n",
    "data['bedrooms_size'] = pd.concat(lista)"
   ]
  },
  {
   "cell_type": "code",
   "execution_count": null,
   "metadata": {
    "colab": {},
    "colab_type": "code",
    "id": "L7WPohqQT8TH"
   },
   "outputs": [],
   "source": [
    "# Iterar em cada parte do arquivo e adicionar o valor processado a uma nova coluna do dataset já existente\n",
    "lista = []\n",
    "  \n",
    "for parte in chunk:\n",
    "    lista.append(parte['bedrooms'] * 2)\n",
    "\n",
    "data['bedrooms_size'] = pd.concat(lista)"
   ]
  },
  {
   "cell_type": "code",
   "execution_count": null,
   "metadata": {
    "colab": {
     "base_uri": "https://localhost:8080/",
     "height": 224
    },
    "colab_type": "code",
    "executionInfo": {
     "elapsed": 605,
     "status": "ok",
     "timestamp": 1574609461394,
     "user": {
      "displayName": "Gabi Viana",
      "photoUrl": "https://lh3.googleusercontent.com/a-/AAuE7mCN9Wk9exJ_22F0JqdZg4i1xWtS2hPF-RE9jdnw1Ns=s64",
      "userId": "10583305263505777863"
     },
     "user_tz": 180
    },
    "id": "mMu8QQ9uBMR1",
    "outputId": "2b62ddf0-616c-4878-f0e8-fe75bf0bc41f"
   },
   "outputs": [],
   "source": [
    "data.head()"
   ]
  },
  {
   "cell_type": "markdown",
   "metadata": {
    "colab_type": "text",
    "id": "0KhSuBCW99gS"
   },
   "source": [
    "## Consultar e alterar um DataFrame"
   ]
  },
  {
   "cell_type": "markdown",
   "metadata": {
    "colab_type": "text",
    "id": "fZni08D299gT"
   },
   "source": [
    "* Consultas em DataFrames se _**assemelham**_ a linhagem SQL.\n",
    "* Existem métodos interessantes para fazer consultas usando operadores lógicos _**(>,<,== )**_.\n",
    "* Além disso podemos fazer consultas usando instruções de agrupamento, por exemplo. "
   ]
  },
  {
   "cell_type": "code",
   "execution_count": null,
   "metadata": {
    "colab": {
     "base_uri": "https://localhost:8080/",
     "height": 255
    },
    "colab_type": "code",
    "executionInfo": {
     "elapsed": 569,
     "status": "ok",
     "timestamp": 1574609471976,
     "user": {
      "displayName": "Gabi Viana",
      "photoUrl": "https://lh3.googleusercontent.com/a-/AAuE7mCN9Wk9exJ_22F0JqdZg4i1xWtS2hPF-RE9jdnw1Ns=s64",
      "userId": "10583305263505777863"
     },
     "user_tz": 180
    },
    "id": "eKbByHMa99gU",
    "outputId": "87b77149-90c2-4776-8bea-01321656b6cd"
   },
   "outputs": [],
   "source": [
    "# Quantificar valores únicos\n",
    "pd.value_counts(data['bedrooms']) # Ex: 9822 imóveis com 3 quartos "
   ]
  },
  {
   "cell_type": "code",
   "execution_count": null,
   "metadata": {
    "colab": {
     "base_uri": "https://localhost:8080/",
     "height": 439
    },
    "colab_type": "code",
    "executionInfo": {
     "elapsed": 525,
     "status": "ok",
     "timestamp": 1574609474961,
     "user": {
      "displayName": "Gabi Viana",
      "photoUrl": "https://lh3.googleusercontent.com/a-/AAuE7mCN9Wk9exJ_22F0JqdZg4i1xWtS2hPF-RE9jdnw1Ns=s64",
      "userId": "10583305263505777863"
     },
     "user_tz": 180
    },
    "id": "8wN_h5py99gX",
    "outputId": "6295cc87-3ba9-4d17-db0c-d3595f806eb5"
   },
   "outputs": [],
   "source": [
    "# Pesquisar por padrões no dataset usando o método loc\n",
    "data.loc[data['bedrooms'] == 3] #buscar registros de imóveis com 3 quartos"
   ]
  },
  {
   "cell_type": "code",
   "execution_count": null,
   "metadata": {
    "colab": {
     "base_uri": "https://localhost:8080/",
     "height": 439
    },
    "colab_type": "code",
    "executionInfo": {
     "elapsed": 657,
     "status": "ok",
     "timestamp": 1574609478859,
     "user": {
      "displayName": "Gabi Viana",
      "photoUrl": "https://lh3.googleusercontent.com/a-/AAuE7mCN9Wk9exJ_22F0JqdZg4i1xWtS2hPF-RE9jdnw1Ns=s64",
      "userId": "10583305263505777863"
     },
     "user_tz": 180
    },
    "id": "WYAHvksYBMSB",
    "outputId": "82a1ae5a-84f2-4753-94c0-2e9373c1ded0"
   },
   "outputs": [],
   "source": [
    "# Filtrando casas com mais de 3 quartos\n",
    "data[data['bedrooms'] == 3] "
   ]
  },
  {
   "cell_type": "code",
   "execution_count": null,
   "metadata": {
    "colab": {
     "base_uri": "https://localhost:8080/",
     "height": 439
    },
    "colab_type": "code",
    "executionInfo": {
     "elapsed": 823,
     "status": "ok",
     "timestamp": 1574609483808,
     "user": {
      "displayName": "Gabi Viana",
      "photoUrl": "https://lh3.googleusercontent.com/a-/AAuE7mCN9Wk9exJ_22F0JqdZg4i1xWtS2hPF-RE9jdnw1Ns=s64",
      "userId": "10583305263505777863"
     },
     "user_tz": 180
    },
    "id": "j1lmPFFw99gc",
    "outputId": "afa238f5-0e1b-4af4-a076-b3360edc73d9"
   },
   "outputs": [],
   "source": [
    "# Usando o loc com uma condição composta \n",
    "data.loc[(data['bedrooms'] == 3) & (data['bathrooms'] > 2)] #buscar registros de imóveis com 3 quartos e mais de 2 banheiros"
   ]
  },
  {
   "cell_type": "code",
   "execution_count": null,
   "metadata": {
    "colab": {
     "base_uri": "https://localhost:8080/",
     "height": 439
    },
    "colab_type": "code",
    "executionInfo": {
     "elapsed": 381,
     "status": "ok",
     "timestamp": 1574609493843,
     "user": {
      "displayName": "Gabi Viana",
      "photoUrl": "https://lh3.googleusercontent.com/a-/AAuE7mCN9Wk9exJ_22F0JqdZg4i1xWtS2hPF-RE9jdnw1Ns=s64",
      "userId": "10583305263505777863"
     },
     "user_tz": 180
    },
    "id": "Jzn4FTGt99gj",
    "outputId": "14788e1a-d179-438a-d72a-926f9e4b5f22"
   },
   "outputs": [],
   "source": [
    "# Ordenar o retorno de uma consulta por um ou mais campos específicos (Ordena somente a coluna, não o dataset definitivamente)\n",
    "data.sort_values(by='price', ascending=False) #Mais caro vem primeiro (Decrescente)"
   ]
  },
  {
   "cell_type": "code",
   "execution_count": null,
   "metadata": {
    "colab": {
     "base_uri": "https://localhost:8080/",
     "height": 408
    },
    "colab_type": "code",
    "executionInfo": {
     "elapsed": 546,
     "status": "ok",
     "timestamp": 1574609497647,
     "user": {
      "displayName": "Gabi Viana",
      "photoUrl": "https://lh3.googleusercontent.com/a-/AAuE7mCN9Wk9exJ_22F0JqdZg4i1xWtS2hPF-RE9jdnw1Ns=s64",
      "userId": "10583305263505777863"
     },
     "user_tz": 180
    },
    "id": "oMhAM8_R99gn",
    "outputId": "3d50ffc4-2915-4528-e3e8-60e0eb7d871e"
   },
   "outputs": [],
   "source": [
    "# Contar o número de linhas de uma consulta\n",
    "data[data['bedrooms']==4].count()"
   ]
  },
  {
   "cell_type": "markdown",
   "metadata": {
    "colab_type": "text",
    "id": "u7Ru5DPw99gq"
   },
   "source": [
    "## Alterando o dataset"
   ]
  },
  {
   "cell_type": "code",
   "execution_count": null,
   "metadata": {
    "colab": {
     "base_uri": "https://localhost:8080/",
     "height": 119
    },
    "colab_type": "code",
    "executionInfo": {
     "elapsed": 622,
     "status": "ok",
     "timestamp": 1574609507072,
     "user": {
      "displayName": "Gabi Viana",
      "photoUrl": "https://lh3.googleusercontent.com/a-/AAuE7mCN9Wk9exJ_22F0JqdZg4i1xWtS2hPF-RE9jdnw1Ns=s64",
      "userId": "10583305263505777863"
     },
     "user_tz": 180
    },
    "id": "egVCahcY99gr",
    "outputId": "44f8abbe-9fe5-42b2-d73e-139685f8c7b0"
   },
   "outputs": [],
   "source": [
    "# Adicionar nova coluna ao DataFrame\n",
    "data['size'] = (data['bedrooms'] * 20)\n",
    "# Visualizar conteúdo da coluna criada\n",
    "data['size'].head()"
   ]
  },
  {
   "cell_type": "code",
   "execution_count": null,
   "metadata": {
    "colab": {},
    "colab_type": "code",
    "id": "j0TY_1YR99gu"
   },
   "outputs": [],
   "source": [
    "# Função para processamento de dados\n",
    "def categoriza(s):\n",
    "    if s >= 80:\n",
    "        return 'Big'\n",
    "    elif s >= 60:\n",
    "        return 'Medium'\n",
    "    elif s >= 40:\n",
    "        return 'Small'"
   ]
  },
  {
   "cell_type": "code",
   "execution_count": null,
   "metadata": {
    "colab": {
     "base_uri": "https://localhost:8080/",
     "height": 119
    },
    "colab_type": "code",
    "executionInfo": {
     "elapsed": 529,
     "status": "ok",
     "timestamp": 1574609513155,
     "user": {
      "displayName": "Gabi Viana",
      "photoUrl": "https://lh3.googleusercontent.com/a-/AAuE7mCN9Wk9exJ_22F0JqdZg4i1xWtS2hPF-RE9jdnw1Ns=s64",
      "userId": "10583305263505777863"
     },
     "user_tz": 180
    },
    "id": "C7erHBL-99gx",
    "outputId": "ecdfbbce-c66d-4e4f-b1fa-0e6f925a88eb"
   },
   "outputs": [],
   "source": [
    "# Criando uma nova coluna a partir do processamento realizado\n",
    "data['cat_size'] = data['size'].apply(categoriza) #Aplica o método e categoriza o valor, substituindo-o pela string\n",
    "# Visualizando a nova coluna criada.\n",
    "data['cat_size'].head()"
   ]
  },
  {
   "cell_type": "code",
   "execution_count": null,
   "metadata": {
    "colab": {
     "base_uri": "https://localhost:8080/",
     "height": 85
    },
    "colab_type": "code",
    "executionInfo": {
     "elapsed": 621,
     "status": "ok",
     "timestamp": 1574609516464,
     "user": {
      "displayName": "Gabi Viana",
      "photoUrl": "https://lh3.googleusercontent.com/a-/AAuE7mCN9Wk9exJ_22F0JqdZg4i1xWtS2hPF-RE9jdnw1Ns=s64",
      "userId": "10583305263505777863"
     },
     "user_tz": 180
    },
    "id": "0kaZkSPL99g0",
    "outputId": "1aaec059-e580-4e0a-c3e4-d056722a63ca"
   },
   "outputs": [],
   "source": [
    "# Ver a distribuição da coluna com o método value_counts\n",
    "pd.value_counts(data['cat_size']) # Mostra quantos registros há por categoria (Small, Medium e Big)"
   ]
  },
  {
   "cell_type": "code",
   "execution_count": null,
   "metadata": {
    "colab": {
     "base_uri": "https://localhost:8080/",
     "height": 224
    },
    "colab_type": "code",
    "executionInfo": {
     "elapsed": 481,
     "status": "ok",
     "timestamp": 1574609519332,
     "user": {
      "displayName": "Gabi Viana",
      "photoUrl": "https://lh3.googleusercontent.com/a-/AAuE7mCN9Wk9exJ_22F0JqdZg4i1xWtS2hPF-RE9jdnw1Ns=s64",
      "userId": "10583305263505777863"
     },
     "user_tz": 180
    },
    "id": "EWI7b-6z99g3",
    "outputId": "5193445e-5101-4af3-beae-083211d73cb0"
   },
   "outputs": [],
   "source": [
    "# Excluir dados no DataFrame\n",
    "# A opção axis=1 define que queremos excluir uma coluna e não uma linha (axis = 0).\n",
    "# O parâmetro inplace define que a alteração irá modificar o objeto em memória.\n",
    "data.drop(['cat_size'], axis=1, inplace=True) # Apaga a coluna cat_size no objeto original\n",
    "# Visualizar dataset após apagar\n",
    "data.head()"
   ]
  },
  {
   "cell_type": "code",
   "execution_count": null,
   "metadata": {
    "colab": {
     "base_uri": "https://localhost:8080/",
     "height": 224
    },
    "colab_type": "code",
    "executionInfo": {
     "elapsed": 609,
     "status": "ok",
     "timestamp": 1574609523782,
     "user": {
      "displayName": "Gabi Viana",
      "photoUrl": "https://lh3.googleusercontent.com/a-/AAuE7mCN9Wk9exJ_22F0JqdZg4i1xWtS2hPF-RE9jdnw1Ns=s64",
      "userId": "10583305263505777863"
     },
     "user_tz": 180
    },
    "id": "UtWilByH99g6",
    "outputId": "dc900548-3658-4268-da3b-89bab690a6f8"
   },
   "outputs": [],
   "source": [
    "# Apagando a coluna 'size'\n",
    "data.drop(['size'], axis=1, inplace=True)\n",
    "data.head()"
   ]
  },
  {
   "cell_type": "markdown",
   "metadata": {
    "colab_type": "text",
    "id": "qjagbVlz99g-"
   },
   "source": [
    "**Apagando linhas baseado em condições lógicas!**"
   ]
  },
  {
   "cell_type": "code",
   "execution_count": null,
   "metadata": {
    "colab": {
     "base_uri": "https://localhost:8080/",
     "height": 439
    },
    "colab_type": "code",
    "executionInfo": {
     "elapsed": 550,
     "status": "ok",
     "timestamp": 1574609527090,
     "user": {
      "displayName": "Gabi Viana",
      "photoUrl": "https://lh3.googleusercontent.com/a-/AAuE7mCN9Wk9exJ_22F0JqdZg4i1xWtS2hPF-RE9jdnw1Ns=s64",
      "userId": "10583305263505777863"
     },
     "user_tz": 180
    },
    "id": "KjD-XV4Y99g-",
    "outputId": "b823ae83-fd65-4489-c45c-5c58dda61334"
   },
   "outputs": [],
   "source": [
    "# Dropa linhas com bedrooms == 0\n",
    "data.drop(data[data.bedrooms==0].index,inplace=True) \n",
    "data"
   ]
  },
  {
   "cell_type": "code",
   "execution_count": null,
   "metadata": {
    "colab": {
     "base_uri": "https://localhost:8080/",
     "height": 439
    },
    "colab_type": "code",
    "executionInfo": {
     "elapsed": 484,
     "status": "ok",
     "timestamp": 1574609533713,
     "user": {
      "displayName": "Gabi Viana",
      "photoUrl": "https://lh3.googleusercontent.com/a-/AAuE7mCN9Wk9exJ_22F0JqdZg4i1xWtS2hPF-RE9jdnw1Ns=s64",
      "userId": "10583305263505777863"
     },
     "user_tz": 180
    },
    "id": "HrDA4rR199hB",
    "outputId": "5a92d28b-e0fe-4940-b801-e7a6969131df"
   },
   "outputs": [],
   "source": [
    "# Dropa linhas com nº de bedrooms maiores que 30\n",
    "data.drop(data[data.bedrooms>30].index ,inplace=True)\n",
    "data"
   ]
  },
  {
   "cell_type": "markdown",
   "metadata": {
    "colab_type": "text",
    "id": "D8jLhAdw99hF"
   },
   "source": [
    "# Valores Faltantes (Missing Values)"
   ]
  },
  {
   "cell_type": "markdown",
   "metadata": {
    "colab_type": "text",
    "id": "e43dyXw899hG"
   },
   "source": [
    "* **Missing Values** são valores faltantes em colunas, esses podem ser oriundos de falhas em cargas de dados, falhas em crawlers ou até mesmo corrupção de dados.\n",
    "\n",
    "* Missing Values podem ser um problema em várias situações, como por exemplo, algoritmos de machine learning que não trabalham bem com dados faltantes.\n",
    "\n",
    "* Estes também podem atrapalhar resultados de análises.\n",
    "\n",
    "* Vamos aprender como encontrar missing values na base de dados e como manipular esses valores."
   ]
  },
  {
   "cell_type": "code",
   "execution_count": null,
   "metadata": {
    "colab": {
     "base_uri": "https://localhost:8080/",
     "height": 374
    },
    "colab_type": "code",
    "executionInfo": {
     "elapsed": 520,
     "status": "error",
     "timestamp": 1574609538519,
     "user": {
      "displayName": "Gabi Viana",
      "photoUrl": "https://lh3.googleusercontent.com/a-/AAuE7mCN9Wk9exJ_22F0JqdZg4i1xWtS2hPF-RE9jdnw1Ns=s64",
      "userId": "10583305263505777863"
     },
     "user_tz": 180
    },
    "id": "-llR9UnE99hJ",
    "outputId": "0f09496a-da39-4837-e678-afc080adb1c3"
   },
   "outputs": [],
   "source": [
    "dataset = pd.read_csv(file, sep=',', header=0)"
   ]
  },
  {
   "cell_type": "code",
   "execution_count": null,
   "metadata": {
    "colab": {},
    "colab_type": "code",
    "id": "SoAg3TT_C5jE"
   },
   "outputs": [],
   "source": [
    "dataset = data"
   ]
  },
  {
   "cell_type": "code",
   "execution_count": null,
   "metadata": {
    "colab": {
     "base_uri": "https://localhost:8080/",
     "height": 408
    },
    "colab_type": "code",
    "executionInfo": {
     "elapsed": 554,
     "status": "ok",
     "timestamp": 1574609550463,
     "user": {
      "displayName": "Gabi Viana",
      "photoUrl": "https://lh3.googleusercontent.com/a-/AAuE7mCN9Wk9exJ_22F0JqdZg4i1xWtS2hPF-RE9jdnw1Ns=s64",
      "userId": "10583305263505777863"
     },
     "user_tz": 180
    },
    "id": "wtlplLtp99hQ",
    "outputId": "4eef7a6e-d5a2-45de-8c31-462b92f4e488"
   },
   "outputs": [],
   "source": [
    "# Consultar linhas com valor vazio\n",
    "dataset.isnull().sum()"
   ]
  },
  {
   "cell_type": "code",
   "execution_count": null,
   "metadata": {
    "colab": {},
    "colab_type": "code",
    "id": "BhB030XD99hT"
   },
   "outputs": [],
   "source": [
    "#Remover todas as linhas onde tenha pela menos um registro faltante em algum atributo. Se um atributo for nulo, apaga\n",
    "dataset.dropna(inplace=True)"
   ]
  },
  {
   "cell_type": "code",
   "execution_count": null,
   "metadata": {
    "colab": {},
    "colab_type": "code",
    "id": "qmVtSiB299hW"
   },
   "outputs": [],
   "source": [
    "#Remover somente linhas que estejam com valores faltantes em todas as colunas\n",
    "dataset.dropna(how='all', inplace=True)"
   ]
  },
  {
   "cell_type": "code",
   "execution_count": null,
   "metadata": {
    "colab": {},
    "colab_type": "code",
    "id": "24Bivpdy99hY"
   },
   "outputs": [],
   "source": [
    "#preencher os valores nulos da coluna floors com a media de todos os valores contidos na coluna floors\n",
    "dataset['floors'].fillna(dataset['floors'].mean(), inplace=True)"
   ]
  },
  {
   "cell_type": "code",
   "execution_count": null,
   "metadata": {
    "colab": {},
    "colab_type": "code",
    "id": "LSTonPwQ99ha",
    "scrolled": true
   },
   "outputs": [],
   "source": [
    "#preenche com 1 os values null da coluna bedrooms\n",
    "dataset['bedrooms'].fillna(1, inplace=True)"
   ]
  },
  {
   "cell_type": "markdown",
   "metadata": {
    "colab_type": "text",
    "id": "eNgsD5MJ99he"
   },
   "source": [
    "## Estatística Descritiva"
   ]
  },
  {
   "cell_type": "code",
   "execution_count": null,
   "metadata": {
    "colab": {
     "base_uri": "https://localhost:8080/",
     "height": 34
    },
    "colab_type": "code",
    "executionInfo": {
     "elapsed": 553,
     "status": "ok",
     "timestamp": 1574609626086,
     "user": {
      "displayName": "Gabi Viana",
      "photoUrl": "https://lh3.googleusercontent.com/a-/AAuE7mCN9Wk9exJ_22F0JqdZg4i1xWtS2hPF-RE9jdnw1Ns=s64",
      "userId": "10583305263505777863"
     },
     "user_tz": 180
    },
    "id": "0HL07dI099hf",
    "outputId": "d48135c6-3663-4005-886e-5c6a05b0902c"
   },
   "outputs": [],
   "source": [
    "# Imprime o valor médio da coluna bedrooms\n",
    "dataset['bedrooms'].mean()"
   ]
  },
  {
   "cell_type": "code",
   "execution_count": null,
   "metadata": {
    "colab": {
     "base_uri": "https://localhost:8080/",
     "height": 34
    },
    "colab_type": "code",
    "executionInfo": {
     "elapsed": 719,
     "status": "ok",
     "timestamp": 1574609628600,
     "user": {
      "displayName": "Gabi Viana",
      "photoUrl": "https://lh3.googleusercontent.com/a-/AAuE7mCN9Wk9exJ_22F0JqdZg4i1xWtS2hPF-RE9jdnw1Ns=s64",
      "userId": "10583305263505777863"
     },
     "user_tz": 180
    },
    "id": "wViKxK7T99hj",
    "outputId": "9d44847d-b25a-4899-8762-cc85ad422d4c"
   },
   "outputs": [],
   "source": [
    "# Imprime o valor máximo da coluna bedrooms\n",
    "dataset['bedrooms'].max()"
   ]
  },
  {
   "cell_type": "code",
   "execution_count": null,
   "metadata": {
    "colab": {
     "base_uri": "https://localhost:8080/",
     "height": 34
    },
    "colab_type": "code",
    "executionInfo": {
     "elapsed": 508,
     "status": "ok",
     "timestamp": 1574609631335,
     "user": {
      "displayName": "Gabi Viana",
      "photoUrl": "https://lh3.googleusercontent.com/a-/AAuE7mCN9Wk9exJ_22F0JqdZg4i1xWtS2hPF-RE9jdnw1Ns=s64",
      "userId": "10583305263505777863"
     },
     "user_tz": 180
    },
    "id": "l4CcoeD799hm",
    "outputId": "9900af9b-f49d-47e3-81cb-e32e1df4b8ad"
   },
   "outputs": [],
   "source": [
    "# Imprime o valor mínimo da coluna bedrooms\n",
    "dataset['bedrooms'].min()"
   ]
  },
  {
   "cell_type": "code",
   "execution_count": null,
   "metadata": {
    "colab": {
     "base_uri": "https://localhost:8080/",
     "height": 34
    },
    "colab_type": "code",
    "executionInfo": {
     "elapsed": 640,
     "status": "ok",
     "timestamp": 1574609634160,
     "user": {
      "displayName": "Gabi Viana",
      "photoUrl": "https://lh3.googleusercontent.com/a-/AAuE7mCN9Wk9exJ_22F0JqdZg4i1xWtS2hPF-RE9jdnw1Ns=s64",
      "userId": "10583305263505777863"
     },
     "user_tz": 180
    },
    "id": "zg7SCb5999hr",
    "outputId": "82cb4c22-a1bf-48e9-8ea3-97eec8de3c3c"
   },
   "outputs": [],
   "source": [
    "# Imprime o desvio padrão da coluna bedrooms\n",
    "dataset['bedrooms'].std()"
   ]
  },
  {
   "cell_type": "code",
   "execution_count": null,
   "metadata": {
    "colab": {
     "base_uri": "https://localhost:8080/",
     "height": 272
    },
    "colab_type": "code",
    "executionInfo": {
     "elapsed": 729,
     "status": "ok",
     "timestamp": 1574609637815,
     "user": {
      "displayName": "Gabi Viana",
      "photoUrl": "https://lh3.googleusercontent.com/a-/AAuE7mCN9Wk9exJ_22F0JqdZg4i1xWtS2hPF-RE9jdnw1Ns=s64",
      "userId": "10583305263505777863"
     },
     "user_tz": 180
    },
    "id": "3goKtzsa99hv",
    "outputId": "6b7f3c06-3f70-4698-fb81-530f6c182c8a",
    "scrolled": true
   },
   "outputs": [],
   "source": [
    "#Esse método retorna o valor de simetria de cada coluna do dataset.\n",
    "# Um valor zero indica uma distribuição simétrica\n",
    "# Um valor maior que zero ou menor indica uma distribuição assimétrica.\n",
    "# Valores acima de zero podemos dizer que existe uma assimetria positiva \n",
    "# Valores abaixo de zero uma assimetria negativa.\n",
    "# Isso quer dizer que valores muito acima de zero indicam que existem mais valores acima da média\n",
    "# valores abaixo de zero significa que contém mais valores abaixo da média.\n",
    "\n",
    "print('Simetria: {}'.format(dataset['bedrooms'].skew())) # a maioria dos imóveis possui a quantidade de quartos acima da média (mais que 3 quartos) \n",
    "\n",
    "media = dataset['bedrooms'].mean()\n",
    "print('Média: {}'.format(media))\n",
    "\n",
    "print('Qtd de registros acima da média: {}'.format((dataset.filter(like='bedrooms').sum(axis=1) >= media).sum())) # Contabilização da quantidade de registros com o valor maior/igual a média\n",
    "\n",
    "\n",
    "pd.value_counts(dataset['bedrooms']) # Mostra a distribuição por nº de quartos"
   ]
  },
  {
   "cell_type": "code",
   "execution_count": null,
   "metadata": {
    "colab": {
     "base_uri": "https://localhost:8080/",
     "height": 391
    },
    "colab_type": "code",
    "executionInfo": {
     "elapsed": 488,
     "status": "ok",
     "timestamp": 1574609644715,
     "user": {
      "displayName": "Gabi Viana",
      "photoUrl": "https://lh3.googleusercontent.com/a-/AAuE7mCN9Wk9exJ_22F0JqdZg4i1xWtS2hPF-RE9jdnw1Ns=s64",
      "userId": "10583305263505777863"
     },
     "user_tz": 180
    },
    "id": "f9_5pnfE99hy",
    "outputId": "7aed1e59-4299-43a1-cd39-88f5989e36a6"
   },
   "outputs": [],
   "source": [
    "# Verificar a assimetria ou simetria de todo o dataset ( verificar se a base está bem balanceada -  dados muito abaixo ou muito acima das médias)\n",
    "dataset.skew()"
   ]
  },
  {
   "cell_type": "markdown",
   "metadata": {
    "colab_type": "text",
    "id": "okPVFAQr99h3"
   },
   "source": [
    "# **Extraindo Insights**"
   ]
  },
  {
   "cell_type": "markdown",
   "metadata": {
    "colab_type": "text",
    "id": "WsYM_Kjj99h4"
   },
   "source": [
    "* Utilizando os gráficos do tipo Boxplot, que são excelentes ferramentas de análise de dados, principalmente para identificar _**outliers**_."
   ]
  },
  {
   "cell_type": "code",
   "execution_count": null,
   "metadata": {
    "colab": {},
    "colab_type": "code",
    "id": "8QtZn1HO99h6"
   },
   "outputs": [],
   "source": [
    "# Importando a biblioteca Matplotlib\n",
    "import matplotlib "
   ]
  },
  {
   "cell_type": "code",
   "execution_count": null,
   "metadata": {
    "colab": {
     "base_uri": "https://localhost:8080/",
     "height": 34
    },
    "colab_type": "code",
    "executionInfo": {
     "elapsed": 515,
     "status": "ok",
     "timestamp": 1574609650555,
     "user": {
      "displayName": "Gabi Viana",
      "photoUrl": "https://lh3.googleusercontent.com/a-/AAuE7mCN9Wk9exJ_22F0JqdZg4i1xWtS2hPF-RE9jdnw1Ns=s64",
      "userId": "10583305263505777863"
     },
     "user_tz": 180
    },
    "id": "DmFEdWXO99iE",
    "outputId": "32e4f99f-5551-46d1-c1e0-7ebc9bead035"
   },
   "outputs": [],
   "source": [
    "# Plota gráfico do tipo Boxplot da coluna bedrooms\n",
    "# Esse gráfico é muito rico e é possível visualizar Outliers - Em estatística, outlier, valor aberrante ou valor atípico, é uma observação que apresenta um grande afastamento das demais da série (que está \"fora\" dela), ou que é inconsistente. \n",
    "# Outlier é constituído pelos valores: Q1 ( quartil1 - valor médio de 25% dos dados - borda inferior do retângulo)\n",
    "# Q2 (quartil 2 - mediana (valor central) - Linha ao meio do retângulo ), \n",
    "# Q3 (quartil 3 - valor médio de 75% dos dados), \n",
    "# Linhas superior e inferior extra ao retângulo (máximo e mínimo valores dos dados)\n",
    "%matplotlib notebook\n",
    "matplotlib.style.use('ggplot') # Estilo diferente do padrão\n",
    "\n",
    "dataset.boxplot(column='bedrooms')"
   ]
  },
  {
   "cell_type": "code",
   "execution_count": null,
   "metadata": {
    "colab": {},
    "colab_type": "code",
    "id": "8NiISt2999iH",
    "outputId": "d1238f7f-ea5c-4215-f1e3-22da9b3c22d4"
   },
   "outputs": [],
   "source": [
    "# Visualizando os estilos de layout disponível\n",
    "matplotlib.style.available"
   ]
  },
  {
   "cell_type": "code",
   "execution_count": null,
   "metadata": {
    "colab": {
     "base_uri": "https://localhost:8080/",
     "height": 34
    },
    "colab_type": "code",
    "executionInfo": {
     "elapsed": 592,
     "status": "ok",
     "timestamp": 1574609655722,
     "user": {
      "displayName": "Gabi Viana",
      "photoUrl": "https://lh3.googleusercontent.com/a-/AAuE7mCN9Wk9exJ_22F0JqdZg4i1xWtS2hPF-RE9jdnw1Ns=s64",
      "userId": "10583305263505777863"
     },
     "user_tz": 180
    },
    "id": "ge1jcwU999iK",
    "outputId": "015b6b60-fad0-498f-e34d-84fe44795fe8"
   },
   "outputs": [],
   "source": [
    "# Plota boxplot da coluna 'price' por número de quartos\n",
    "%matplotlib notebook\n",
    "dataset.boxplot(column='price', by='bedrooms') #Permite visualizar se o preço para um imóvel com um determinado nº de quartos é um outlier"
   ]
  },
  {
   "cell_type": "code",
   "execution_count": null,
   "metadata": {
    "colab": {
     "base_uri": "https://localhost:8080/",
     "height": 321
    },
    "colab_type": "code",
    "executionInfo": {
     "elapsed": 914,
     "status": "ok",
     "timestamp": 1574609685244,
     "user": {
      "displayName": "Gabi Viana",
      "photoUrl": "https://lh3.googleusercontent.com/a-/AAuE7mCN9Wk9exJ_22F0JqdZg4i1xWtS2hPF-RE9jdnw1Ns=s64",
      "userId": "10583305263505777863"
     },
     "user_tz": 180
    },
    "id": "r4ASB38sDPBm",
    "outputId": "7b14537e-53fc-49d5-a9fc-ef6e80256258"
   },
   "outputs": [],
   "source": [
    "# Plota boxplot da coluna 'price' por número de quartos\n",
    "%matplotlib inline\n",
    "dataset.boxplot(column='price', by='bedrooms') #Permite visualizar se o preço para um imóvel com um determinado nº de quartos é um outlier"
   ]
  },
  {
   "cell_type": "markdown",
   "metadata": {
    "colab_type": "text",
    "id": "d-TQVJ0j99iN"
   },
   "source": [
    "## Trabalhando com Correlações"
   ]
  },
  {
   "cell_type": "code",
   "execution_count": null,
   "metadata": {
    "colab": {},
    "colab_type": "code",
    "id": "IIlxYpNy99iP",
    "outputId": "5937ff7a-d371-4477-f83d-2ab85edaeb15"
   },
   "outputs": [],
   "source": [
    "# Correlação de variáveis = se um valor x depende de outro valor y e se aumentar x, y também aumenta\n",
    "# Se reduzir x, y diminui ou se aumentar x, y diminui ou vice e versa\n",
    "# Imprime a correlação de todas as colunas do dataframe (person)\n",
    "dataset.corr() #pearson"
   ]
  },
  {
   "cell_type": "code",
   "execution_count": null,
   "metadata": {
    "colab": {},
    "colab_type": "code",
    "id": "6c2vp3l599iT",
    "outputId": "041e394c-9093-437d-8771-9d63bfaea8b9"
   },
   "outputs": [],
   "source": [
    "# Imprime a correlação de spearman (esta leva em consideração a correção positiva e negativa)\n",
    "dataset.corr('spearman')"
   ]
  },
  {
   "cell_type": "code",
   "execution_count": null,
   "metadata": {
    "colab": {},
    "colab_type": "code",
    "id": "tOMQE6LE99iW",
    "outputId": "e92cb08d-dd13-41ef-8ee7-2a1696f9336e"
   },
   "outputs": [],
   "source": [
    "# Imprime a correção de algumas colunas mais relevantes\n",
    "dataset[['bedrooms','bathrooms','sqft_living','floors','waterfront','grade','price']].corr()"
   ]
  },
  {
   "cell_type": "code",
   "execution_count": null,
   "metadata": {
    "colab": {},
    "colab_type": "code",
    "id": "I0mogViY99iY",
    "outputId": "7594e1da-e7ef-4c6e-c4b2-f34ef2f1bda2"
   },
   "outputs": [],
   "source": [
    "# Plotando a correlação de algumas colunas\n",
    "%matplotlib notebook\n",
    "dataset[['sqft_living','waterfront','grade','price']].corr().plot()"
   ]
  },
  {
   "cell_type": "markdown",
   "metadata": {
    "colab_type": "text",
    "id": "S0imnl2z99ia"
   },
   "source": [
    "## Tabelas Pivot"
   ]
  },
  {
   "cell_type": "code",
   "execution_count": null,
   "metadata": {
    "colab": {},
    "colab_type": "code",
    "id": "p-mnInQ099ia",
    "outputId": "34dccfc4-86b4-4745-a32f-488e05a3bbc5"
   },
   "outputs": [],
   "source": [
    "# Tabelas Pivot são úteis para fazer agrupamento nos dados.\n",
    "# Conta a quantidade de imóveis agrupados pelas colunas waterfront e floors.\n",
    "# O parametro index informo as colunas que serão usadas para agregação.\n",
    "# o parâmetro aggfunc é usado para definir a função de agregação, que poderia ser uma média por exemplo.\n",
    "# O parâmetro margins=True calcula a quantidade total no final da tabela.\n",
    "\n",
    "# Muito interessante a performance dessa operação.\n",
    "#Exemplo: 10622 imóveis tem 1 andar e não tem vista para o mar (waterfront = 0)\n",
    "dataset.pivot_table('id',index=[\"waterfront\",\"floors\"], aggfunc='count',margins=True) # Margins = True (exibe qtd. total de linhas)"
   ]
  },
  {
   "cell_type": "code",
   "execution_count": null,
   "metadata": {
    "colab": {},
    "colab_type": "code",
    "id": "k8q7dlGR99ic",
    "outputId": "10aaaf60-35b1-4739-e4f9-fa2a9b999ec9"
   },
   "outputs": [],
   "source": [
    "# Crosstab ou tabulação Cruzada\n",
    "# Essa funcionalidade cruza valores das variáveis\n",
    "# Nesse exemplo podemos ver qual a distribuição dos imóveis por número de quartos com relação a sua condição\n",
    "# Podemos ver que imoveis com 3 quartos estão mais na condição 5\n",
    "# Condição (1 - Pior condição / 5 - Condição excelente)\n",
    "\n",
    "pd.crosstab(dataset['bedrooms'],dataset['condition'])"
   ]
  },
  {
   "cell_type": "code",
   "execution_count": null,
   "metadata": {
    "colab": {},
    "colab_type": "code",
    "id": "j9mhadnf99if",
    "outputId": "e0b47602-b05c-47f8-a516-aa77a3222508"
   },
   "outputs": [],
   "source": [
    "# Plota a tabulação Cruzada\n",
    "# Usamos o método plot com um gráfico de barras\n",
    "\n",
    "table = pd.crosstab(dataset['bedrooms'],dataset['condition'])\n",
    "table.plot(kind='bar',width=1.0, color=['red','yellow','orange','blue','green'], title='Condição de quartos' ,grid=False)"
   ]
  },
  {
   "cell_type": "markdown",
   "metadata": {
    "colab_type": "text",
    "id": "VTHHGoXx99ih"
   },
   "source": [
    "# _**Trabalhando com Excel**_"
   ]
  },
  {
   "cell_type": "markdown",
   "metadata": {
    "colab_type": "text",
    "id": "eGdt7DqZ99ij"
   },
   "source": [
    "* Usar o pandas para manipular planilhas do excel e até mesmo gerar novas planilhas a partir de outros dados."
   ]
  },
  {
   "cell_type": "code",
   "execution_count": null,
   "metadata": {
    "colab": {},
    "colab_type": "code",
    "id": "v0ASukEF99ik"
   },
   "outputs": [],
   "source": [
    "file = '../databases/Controle-de-Atividades-2.0.xlsx'"
   ]
  },
  {
   "cell_type": "code",
   "execution_count": null,
   "metadata": {
    "colab": {},
    "colab_type": "code",
    "id": "lvlBQKtT99im"
   },
   "outputs": [],
   "source": [
    "#Lendo uma planilha do excel no Pandas.\n",
    "dataframe_excel = pd.read_excel(file, sheet_name=0,header=1) #sheet_name= nome da planilha ou zero que pega a primeira"
   ]
  },
  {
   "cell_type": "code",
   "execution_count": null,
   "metadata": {
    "colab": {},
    "colab_type": "code",
    "id": "-FW6Pap199io",
    "outputId": "c1d909c2-e34b-4042-89e9-4c082afb975e"
   },
   "outputs": [],
   "source": [
    "dataframe_excel.head()"
   ]
  },
  {
   "cell_type": "code",
   "execution_count": null,
   "metadata": {
    "colab": {},
    "colab_type": "code",
    "id": "4ZEOjXo-99ir"
   },
   "outputs": [],
   "source": [
    "# Lendo o arquivo e indexando pela coluna 'Estado Atual'\n",
    "dataframe_excel = pd.read_excel(file, sheet_name=0, header=1, index_col=3)"
   ]
  },
  {
   "cell_type": "code",
   "execution_count": null,
   "metadata": {
    "colab": {},
    "colab_type": "code",
    "id": "d1F2tT7999it",
    "outputId": "3fa7282d-a16b-4105-ee3e-db5e71b4a3ca"
   },
   "outputs": [],
   "source": [
    "dataframe_excel.head()"
   ]
  },
  {
   "cell_type": "code",
   "execution_count": null,
   "metadata": {
    "colab": {},
    "colab_type": "code",
    "id": "B5GQ-hHT99iw",
    "outputId": "9c09fdf2-75c5-41b3-8173-3eb346ee0671"
   },
   "outputs": [],
   "source": [
    "# Ordenando o dataframe pela coluna de índice. \n",
    "dataframe_excel.sort_index()"
   ]
  },
  {
   "cell_type": "markdown",
   "metadata": {
    "colab_type": "text",
    "id": "Z7ip2oyU99iz"
   },
   "source": [
    "# **Gerando Planilhas a partir de Dataframes**"
   ]
  },
  {
   "cell_type": "code",
   "execution_count": null,
   "metadata": {
    "colab": {},
    "colab_type": "code",
    "id": "w7OFN6Qo99i0",
    "outputId": "c2bdaeea-4f22-45fb-9c71-2c4e2153aaeb"
   },
   "outputs": [],
   "source": [
    "# Gerando uma planilha com algumas colunas\n",
    "colunas = ['id','price','bedrooms','bathrooms','sqft_living','floors','waterfront']\n",
    "dataset[colunas].head()"
   ]
  },
  {
   "cell_type": "code",
   "execution_count": null,
   "metadata": {
    "colab": {},
    "colab_type": "code",
    "id": "-p7_DmuH99i2"
   },
   "outputs": [],
   "source": [
    "# Escrevendo no disco a planilha sem o valor do índice (índice numérico gerado automaticamente)\n",
    "dataset[colunas].to_excel('databases/planilha_pandas.xls',index=False)"
   ]
  }
 ],
 "metadata": {
  "colab": {
   "collapsed_sections": [
    "S0imnl2z99ia"
   ],
   "name": "Pandas.ipynb",
   "provenance": []
  },
  "kernelspec": {
   "display_name": "Python 3",
   "language": "python",
   "name": "python3"
  },
  "language_info": {
   "codemirror_mode": {
    "name": "ipython",
    "version": 3
   },
   "file_extension": ".py",
   "mimetype": "text/x-python",
   "name": "python",
   "nbconvert_exporter": "python",
   "pygments_lexer": "ipython3",
   "version": "3.7.4"
  }
 },
 "nbformat": 4,
 "nbformat_minor": 4
}
